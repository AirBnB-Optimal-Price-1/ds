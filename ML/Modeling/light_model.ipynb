{
 "cells": [
  {
   "cell_type": "code",
   "execution_count": 1,
   "metadata": {},
   "outputs": [],
   "source": [
    "import pandas as pd\n",
    "import numpy as np"
   ]
  },
  {
   "cell_type": "code",
   "execution_count": 332,
   "metadata": {},
   "outputs": [],
   "source": [
    "airbnb = pd.read_csv('cleaned_airbnb.csv')"
   ]
  },
  {
   "cell_type": "code",
   "execution_count": 333,
   "metadata": {},
   "outputs": [],
   "source": [
    "pd.set_option('display.max_columns', len(airbnb.columns)) # To view all columns\n",
    "pd.set_option('display.max_rows', 300)"
   ]
  },
  {
   "cell_type": "code",
   "execution_count": 334,
   "metadata": {},
   "outputs": [
    {
     "data": {
      "text/plain": [
       "(133585, 12)"
      ]
     },
     "execution_count": 334,
     "metadata": {},
     "output_type": "execute_result"
    }
   ],
   "source": [
    "airbnb.shape"
   ]
  },
  {
   "cell_type": "code",
   "execution_count": 335,
   "metadata": {},
   "outputs": [],
   "source": [
    "df = airbnb.sample(frac=0.5, axis=0, random_state=1)"
   ]
  },
  {
   "cell_type": "code",
   "execution_count": 336,
   "metadata": {},
   "outputs": [
    {
     "data": {
      "text/plain": [
       "(66792, 12)"
      ]
     },
     "execution_count": 336,
     "metadata": {},
     "output_type": "execute_result"
    }
   ],
   "source": [
    "df.shape"
   ]
  },
  {
   "cell_type": "code",
   "execution_count": 337,
   "metadata": {},
   "outputs": [
    {
     "data": {
      "text/html": [
       "<div>\n",
       "<style scoped>\n",
       "    .dataframe tbody tr th:only-of-type {\n",
       "        vertical-align: middle;\n",
       "    }\n",
       "\n",
       "    .dataframe tbody tr th {\n",
       "        vertical-align: top;\n",
       "    }\n",
       "\n",
       "    .dataframe thead th {\n",
       "        text-align: right;\n",
       "    }\n",
       "</style>\n",
       "<table border=\"1\" class=\"dataframe\">\n",
       "  <thead>\n",
       "    <tr style=\"text-align: right;\">\n",
       "      <th></th>\n",
       "      <th>space</th>\n",
       "      <th>description</th>\n",
       "      <th>city</th>\n",
       "      <th>state</th>\n",
       "      <th>room_type</th>\n",
       "      <th>price</th>\n",
       "      <th>security_deposit</th>\n",
       "      <th>guests_included</th>\n",
       "      <th>extra_people</th>\n",
       "      <th>minimum_nights</th>\n",
       "      <th>maximum_nights</th>\n",
       "      <th>review_scores_rating</th>\n",
       "    </tr>\n",
       "  </thead>\n",
       "  <tbody>\n",
       "    <tr>\n",
       "      <th>91878</th>\n",
       "      <td>My house is a two bedroom apartment, with a sp...</td>\n",
       "      <td>You’ll love my place because of the light, the...</td>\n",
       "      <td>LOS ANGELES</td>\n",
       "      <td>CA</td>\n",
       "      <td>Private room</td>\n",
       "      <td>55.0</td>\n",
       "      <td>0.0</td>\n",
       "      <td>1</td>\n",
       "      <td>0.0</td>\n",
       "      <td>2</td>\n",
       "      <td>30</td>\n",
       "      <td>100.0</td>\n",
       "    </tr>\n",
       "    <tr>\n",
       "      <th>39188</th>\n",
       "      <td>This is a stylish apartment located in the upp...</td>\n",
       "      <td>Great location in upper east near Central Park...</td>\n",
       "      <td>NEW YORK</td>\n",
       "      <td>NY</td>\n",
       "      <td>Entire home/apt</td>\n",
       "      <td>199.0</td>\n",
       "      <td>1000.0</td>\n",
       "      <td>1</td>\n",
       "      <td>0.0</td>\n",
       "      <td>1</td>\n",
       "      <td>1125</td>\n",
       "      <td>91.0</td>\n",
       "    </tr>\n",
       "  </tbody>\n",
       "</table>\n",
       "</div>"
      ],
      "text/plain": [
       "                                                   space  \\\n",
       "91878  My house is a two bedroom apartment, with a sp...   \n",
       "39188  This is a stylish apartment located in the upp...   \n",
       "\n",
       "                                             description         city state  \\\n",
       "91878  You’ll love my place because of the light, the...  LOS ANGELES    CA   \n",
       "39188  Great location in upper east near Central Park...     NEW YORK    NY   \n",
       "\n",
       "             room_type  price  security_deposit  guests_included  \\\n",
       "91878     Private room   55.0               0.0                1   \n",
       "39188  Entire home/apt  199.0            1000.0                1   \n",
       "\n",
       "       extra_people  minimum_nights  maximum_nights  review_scores_rating  \n",
       "91878           0.0               2              30                 100.0  \n",
       "39188           0.0               1            1125                  91.0  "
      ]
     },
     "execution_count": 337,
     "metadata": {},
     "output_type": "execute_result"
    }
   ],
   "source": [
    "df.head(2)"
   ]
  },
  {
   "cell_type": "code",
   "execution_count": 338,
   "metadata": {},
   "outputs": [],
   "source": [
    "df = df[df.duplicated(subset=[\"city\"], keep=False)]"
   ]
  },
  {
   "cell_type": "code",
   "execution_count": 339,
   "metadata": {},
   "outputs": [],
   "source": [
    "df = df[df['city'] != '沃尔纳特']\n",
    "df = df[df['city'] != '阿罕布拉']\n",
    "df = df[df['city'] != '纽约市']\n",
    "df = df[df['city'] != '纽约']"
   ]
  },
  {
   "cell_type": "code",
   "execution_count": 340,
   "metadata": {},
   "outputs": [],
   "source": [
    "df = df.drop(columns=['space', 'description', 'state', 'review_scores_rating'])"
   ]
  },
  {
   "cell_type": "code",
   "execution_count": 341,
   "metadata": {},
   "outputs": [
    {
     "data": {
      "text/html": [
       "<div>\n",
       "<style scoped>\n",
       "    .dataframe tbody tr th:only-of-type {\n",
       "        vertical-align: middle;\n",
       "    }\n",
       "\n",
       "    .dataframe tbody tr th {\n",
       "        vertical-align: top;\n",
       "    }\n",
       "\n",
       "    .dataframe thead th {\n",
       "        text-align: right;\n",
       "    }\n",
       "</style>\n",
       "<table border=\"1\" class=\"dataframe\">\n",
       "  <thead>\n",
       "    <tr style=\"text-align: right;\">\n",
       "      <th></th>\n",
       "      <th>city</th>\n",
       "      <th>room_type</th>\n",
       "      <th>price</th>\n",
       "      <th>security_deposit</th>\n",
       "      <th>guests_included</th>\n",
       "      <th>extra_people</th>\n",
       "      <th>minimum_nights</th>\n",
       "      <th>maximum_nights</th>\n",
       "    </tr>\n",
       "  </thead>\n",
       "  <tbody>\n",
       "    <tr>\n",
       "      <th>91878</th>\n",
       "      <td>LOS ANGELES</td>\n",
       "      <td>Private room</td>\n",
       "      <td>55.0</td>\n",
       "      <td>0.0</td>\n",
       "      <td>1</td>\n",
       "      <td>0.0</td>\n",
       "      <td>2</td>\n",
       "      <td>30</td>\n",
       "    </tr>\n",
       "    <tr>\n",
       "      <th>39188</th>\n",
       "      <td>NEW YORK</td>\n",
       "      <td>Entire home/apt</td>\n",
       "      <td>199.0</td>\n",
       "      <td>1000.0</td>\n",
       "      <td>1</td>\n",
       "      <td>0.0</td>\n",
       "      <td>1</td>\n",
       "      <td>1125</td>\n",
       "    </tr>\n",
       "  </tbody>\n",
       "</table>\n",
       "</div>"
      ],
      "text/plain": [
       "              city        room_type  price  security_deposit  guests_included  \\\n",
       "91878  LOS ANGELES     Private room   55.0               0.0                1   \n",
       "39188     NEW YORK  Entire home/apt  199.0            1000.0                1   \n",
       "\n",
       "       extra_people  minimum_nights  maximum_nights  \n",
       "91878           0.0               2              30  \n",
       "39188           0.0               1            1125  "
      ]
     },
     "execution_count": 341,
     "metadata": {},
     "output_type": "execute_result"
    }
   ],
   "source": [
    "df.head(2)"
   ]
  },
  {
   "cell_type": "code",
   "execution_count": 342,
   "metadata": {},
   "outputs": [
    {
     "data": {
      "text/plain": [
       "1     36478\n",
       "2     15334\n",
       "4      6393\n",
       "6      2855\n",
       "3      2088\n",
       "8      1084\n",
       "5      1000\n",
       "10      504\n",
       "7       281\n",
       "12      166\n",
       "16       98\n",
       "9        76\n",
       "14       45\n",
       "11       32\n",
       "15       22\n",
       "13       13\n",
       "18        2\n",
       "20        2\n",
       "28        2\n",
       "29        1\n",
       "19        1\n",
       "21        1\n",
       "22        1\n",
       "32        1\n",
       "Name: guests_included, dtype: int64"
      ]
     },
     "execution_count": 342,
     "metadata": {},
     "output_type": "execute_result"
    }
   ],
   "source": [
    "df['guests_included'].value_counts()"
   ]
  },
  {
   "cell_type": "code",
   "execution_count": 343,
   "metadata": {},
   "outputs": [
    {
     "data": {
      "text/plain": [
       "0.0      31634\n",
       "25.0      6021\n",
       "10.0      5725\n",
       "20.0      5190\n",
       "15.0      4041\n",
       "50.0      3402\n",
       "30.0      1982\n",
       "5.0       1450\n",
       "35.0      1170\n",
       "40.0       936\n",
       "100.0      814\n",
       "75.0       461\n",
       "45.0       349\n",
       "12.0       298\n",
       "60.0       211\n",
       "8.0        185\n",
       "7.0        181\n",
       "300.0      158\n",
       "19.0       155\n",
       "18.0       135\n",
       "29.0       133\n",
       "150.0      116\n",
       "200.0      112\n",
       "9.0         97\n",
       "55.0        88\n",
       "65.0        86\n",
       "17.0        85\n",
       "11.0        77\n",
       "80.0        74\n",
       "49.0        74\n",
       "16.0        70\n",
       "6.0         69\n",
       "39.0        62\n",
       "14.0        60\n",
       "70.0        53\n",
       "28.0        51\n",
       "85.0        42\n",
       "250.0       37\n",
       "22.0        36\n",
       "99.0        35\n",
       "33.0        33\n",
       "13.0        33\n",
       "24.0        32\n",
       "23.0        28\n",
       "125.0       26\n",
       "32.0        24\n",
       "38.0        24\n",
       "95.0        20\n",
       "90.0        20\n",
       "34.0        18\n",
       "27.0        18\n",
       "37.0        16\n",
       "36.0        14\n",
       "26.0        12\n",
       "69.0        12\n",
       "31.0        11\n",
       "120.0       10\n",
       "21.0        10\n",
       "59.0         9\n",
       "46.0         8\n",
       "58.0         8\n",
       "47.0         8\n",
       "87.0         7\n",
       "175.0        7\n",
       "79.0         7\n",
       "44.0         6\n",
       "41.0         6\n",
       "89.0         6\n",
       "52.0         5\n",
       "48.0         5\n",
       "43.0         4\n",
       "86.0         4\n",
       "53.0         4\n",
       "110.0        4\n",
       "57.0         4\n",
       "105.0        3\n",
       "98.0         3\n",
       "299.0        3\n",
       "54.0         3\n",
       "149.0        3\n",
       "225.0        2\n",
       "140.0        2\n",
       "88.0         2\n",
       "135.0        2\n",
       "67.0         2\n",
       "103.0        2\n",
       "72.0         2\n",
       "42.0         2\n",
       "63.0         2\n",
       "64.0         2\n",
       "94.0         2\n",
       "199.0        2\n",
       "61.0         1\n",
       "179.0        1\n",
       "192.0        1\n",
       "170.0        1\n",
       "115.0        1\n",
       "195.0        1\n",
       "107.0        1\n",
       "249.0        1\n",
       "145.0        1\n",
       "97.0         1\n",
       "78.0         1\n",
       "167.0        1\n",
       "77.0         1\n",
       "68.0         1\n",
       "189.0        1\n",
       "190.0        1\n",
       "81.0         1\n",
       "62.0         1\n",
       "185.0        1\n",
       "76.0         1\n",
       "144.0        1\n",
       "139.0        1\n",
       "56.0         1\n",
       "Name: extra_people, dtype: int64"
      ]
     },
     "execution_count": 343,
     "metadata": {},
     "output_type": "execute_result"
    }
   ],
   "source": [
    "df['extra_people'].value_counts()"
   ]
  },
  {
   "cell_type": "code",
   "execution_count": 344,
   "metadata": {},
   "outputs": [
    {
     "data": {
      "text/plain": [
       "city                 object\n",
       "room_type            object\n",
       "price               float64\n",
       "security_deposit    float64\n",
       "guests_included       int64\n",
       "extra_people        float64\n",
       "minimum_nights        int64\n",
       "maximum_nights        int64\n",
       "dtype: object"
      ]
     },
     "execution_count": 344,
     "metadata": {},
     "output_type": "execute_result"
    }
   ],
   "source": [
    "df.dtypes"
   ]
  },
  {
   "cell_type": "code",
   "execution_count": 345,
   "metadata": {},
   "outputs": [],
   "source": [
    "target = 'price'\n",
    "features = ['city', 'room_type', 'security_deposit', 'guests_included', 'minimum_nights']"
   ]
  },
  {
   "cell_type": "code",
   "execution_count": 346,
   "metadata": {},
   "outputs": [],
   "source": [
    "from sklearn.model_selection import train_test_split\n",
    "\n",
    "from sklearn.feature_extraction.text import TfidfVectorizer"
   ]
  },
  {
   "cell_type": "code",
   "execution_count": 347,
   "metadata": {},
   "outputs": [
    {
     "data": {
      "text/plain": [
       "((66480, 5), (66480, 1))"
      ]
     },
     "execution_count": 347,
     "metadata": {},
     "output_type": "execute_result"
    }
   ],
   "source": [
    "X = df.drop(['price', 'extra_people', 'maximum_nights'], axis=1)\n",
    "y = df.drop(features+['extra_people', 'maximum_nights'], axis=1)\n",
    "\n",
    "X.shape, y.shape"
   ]
  },
  {
   "cell_type": "code",
   "execution_count": 348,
   "metadata": {},
   "outputs": [
    {
     "data": {
      "text/html": [
       "<div>\n",
       "<style scoped>\n",
       "    .dataframe tbody tr th:only-of-type {\n",
       "        vertical-align: middle;\n",
       "    }\n",
       "\n",
       "    .dataframe tbody tr th {\n",
       "        vertical-align: top;\n",
       "    }\n",
       "\n",
       "    .dataframe thead th {\n",
       "        text-align: right;\n",
       "    }\n",
       "</style>\n",
       "<table border=\"1\" class=\"dataframe\">\n",
       "  <thead>\n",
       "    <tr style=\"text-align: right;\">\n",
       "      <th></th>\n",
       "      <th>city</th>\n",
       "      <th>room_type</th>\n",
       "      <th>security_deposit</th>\n",
       "      <th>guests_included</th>\n",
       "      <th>minimum_nights</th>\n",
       "    </tr>\n",
       "  </thead>\n",
       "  <tbody>\n",
       "    <tr>\n",
       "      <th>91878</th>\n",
       "      <td>LOS ANGELES</td>\n",
       "      <td>Private room</td>\n",
       "      <td>0.0</td>\n",
       "      <td>1</td>\n",
       "      <td>2</td>\n",
       "    </tr>\n",
       "    <tr>\n",
       "      <th>39188</th>\n",
       "      <td>NEW YORK</td>\n",
       "      <td>Entire home/apt</td>\n",
       "      <td>1000.0</td>\n",
       "      <td>1</td>\n",
       "      <td>1</td>\n",
       "    </tr>\n",
       "    <tr>\n",
       "      <th>129595</th>\n",
       "      <td>NEW YORK</td>\n",
       "      <td>Entire home/apt</td>\n",
       "      <td>450.0</td>\n",
       "      <td>2</td>\n",
       "      <td>5</td>\n",
       "    </tr>\n",
       "    <tr>\n",
       "      <th>95079</th>\n",
       "      <td>KAILUA-KONA</td>\n",
       "      <td>Entire home/apt</td>\n",
       "      <td>500.0</td>\n",
       "      <td>1</td>\n",
       "      <td>2</td>\n",
       "    </tr>\n",
       "    <tr>\n",
       "      <th>79223</th>\n",
       "      <td>BROOKLYN</td>\n",
       "      <td>Entire home/apt</td>\n",
       "      <td>100.0</td>\n",
       "      <td>4</td>\n",
       "      <td>4</td>\n",
       "    </tr>\n",
       "    <tr>\n",
       "      <th>...</th>\n",
       "      <td>...</td>\n",
       "      <td>...</td>\n",
       "      <td>...</td>\n",
       "      <td>...</td>\n",
       "      <td>...</td>\n",
       "    </tr>\n",
       "    <tr>\n",
       "      <th>109168</th>\n",
       "      <td>LOS ANGELES</td>\n",
       "      <td>Entire home/apt</td>\n",
       "      <td>495.0</td>\n",
       "      <td>2</td>\n",
       "      <td>60</td>\n",
       "    </tr>\n",
       "    <tr>\n",
       "      <th>3584</th>\n",
       "      <td>OAKLAND</td>\n",
       "      <td>Private room</td>\n",
       "      <td>250.0</td>\n",
       "      <td>1</td>\n",
       "      <td>1</td>\n",
       "    </tr>\n",
       "    <tr>\n",
       "      <th>41434</th>\n",
       "      <td>DENVER</td>\n",
       "      <td>Entire home/apt</td>\n",
       "      <td>0.0</td>\n",
       "      <td>2</td>\n",
       "      <td>1</td>\n",
       "    </tr>\n",
       "    <tr>\n",
       "      <th>90716</th>\n",
       "      <td>SEATTLE</td>\n",
       "      <td>Entire home/apt</td>\n",
       "      <td>150.0</td>\n",
       "      <td>1</td>\n",
       "      <td>30</td>\n",
       "    </tr>\n",
       "    <tr>\n",
       "      <th>5188</th>\n",
       "      <td>SAN CARLOS</td>\n",
       "      <td>Entire home/apt</td>\n",
       "      <td>250.0</td>\n",
       "      <td>1</td>\n",
       "      <td>2</td>\n",
       "    </tr>\n",
       "  </tbody>\n",
       "</table>\n",
       "<p>66480 rows × 5 columns</p>\n",
       "</div>"
      ],
      "text/plain": [
       "               city        room_type  security_deposit  guests_included  \\\n",
       "91878   LOS ANGELES     Private room               0.0                1   \n",
       "39188      NEW YORK  Entire home/apt            1000.0                1   \n",
       "129595     NEW YORK  Entire home/apt             450.0                2   \n",
       "95079   KAILUA-KONA  Entire home/apt             500.0                1   \n",
       "79223      BROOKLYN  Entire home/apt             100.0                4   \n",
       "...             ...              ...               ...              ...   \n",
       "109168  LOS ANGELES  Entire home/apt             495.0                2   \n",
       "3584        OAKLAND     Private room             250.0                1   \n",
       "41434        DENVER  Entire home/apt               0.0                2   \n",
       "90716       SEATTLE  Entire home/apt             150.0                1   \n",
       "5188     SAN CARLOS  Entire home/apt             250.0                1   \n",
       "\n",
       "        minimum_nights  \n",
       "91878                2  \n",
       "39188                1  \n",
       "129595               5  \n",
       "95079                2  \n",
       "79223                4  \n",
       "...                ...  \n",
       "109168              60  \n",
       "3584                 1  \n",
       "41434                1  \n",
       "90716               30  \n",
       "5188                 2  \n",
       "\n",
       "[66480 rows x 5 columns]"
      ]
     },
     "execution_count": 348,
     "metadata": {},
     "output_type": "execute_result"
    }
   ],
   "source": [
    "X"
   ]
  },
  {
   "cell_type": "code",
   "execution_count": 349,
   "metadata": {},
   "outputs": [],
   "source": [
    "X_train, X_test, y_train, y_test = train_test_split(X, y, test_size=0.2, random_state=42)"
   ]
  },
  {
   "cell_type": "code",
   "execution_count": 350,
   "metadata": {},
   "outputs": [
    {
     "data": {
      "text/html": [
       "<div>\n",
       "<style scoped>\n",
       "    .dataframe tbody tr th:only-of-type {\n",
       "        vertical-align: middle;\n",
       "    }\n",
       "\n",
       "    .dataframe tbody tr th {\n",
       "        vertical-align: top;\n",
       "    }\n",
       "\n",
       "    .dataframe thead th {\n",
       "        text-align: right;\n",
       "    }\n",
       "</style>\n",
       "<table border=\"1\" class=\"dataframe\">\n",
       "  <thead>\n",
       "    <tr style=\"text-align: right;\">\n",
       "      <th></th>\n",
       "      <th>city</th>\n",
       "      <th>room_type</th>\n",
       "      <th>security_deposit</th>\n",
       "      <th>guests_included</th>\n",
       "      <th>minimum_nights</th>\n",
       "    </tr>\n",
       "  </thead>\n",
       "  <tbody>\n",
       "    <tr>\n",
       "      <th>103943</th>\n",
       "      <td>ROWLAND HEIGHTS</td>\n",
       "      <td>Private room</td>\n",
       "      <td>150.0</td>\n",
       "      <td>1</td>\n",
       "      <td>1</td>\n",
       "    </tr>\n",
       "    <tr>\n",
       "      <th>18134</th>\n",
       "      <td>NEW ORLEANS</td>\n",
       "      <td>Entire home/apt</td>\n",
       "      <td>0.0</td>\n",
       "      <td>1</td>\n",
       "      <td>30</td>\n",
       "    </tr>\n",
       "    <tr>\n",
       "      <th>75745</th>\n",
       "      <td>AUSTIN</td>\n",
       "      <td>Private room</td>\n",
       "      <td>0.0</td>\n",
       "      <td>1</td>\n",
       "      <td>1</td>\n",
       "    </tr>\n",
       "  </tbody>\n",
       "</table>\n",
       "</div>"
      ],
      "text/plain": [
       "                   city        room_type  security_deposit  guests_included  \\\n",
       "103943  ROWLAND HEIGHTS     Private room             150.0                1   \n",
       "18134       NEW ORLEANS  Entire home/apt               0.0                1   \n",
       "75745            AUSTIN     Private room               0.0                1   \n",
       "\n",
       "        minimum_nights  \n",
       "103943               1  \n",
       "18134               30  \n",
       "75745                1  "
      ]
     },
     "execution_count": 350,
     "metadata": {},
     "output_type": "execute_result"
    }
   ],
   "source": [
    "X_train.head(3)"
   ]
  },
  {
   "cell_type": "code",
   "execution_count": 351,
   "metadata": {},
   "outputs": [
    {
     "name": "stderr",
     "output_type": "stream",
     "text": [
      "c:\\users\\tigju\\anaconda3\\envs\\datascience\\lib\\site-packages\\ipykernel_launcher.py:1: SettingWithCopyWarning: \n",
      "A value is trying to be set on a copy of a slice from a DataFrame.\n",
      "Try using .loc[row_indexer,col_indexer] = value instead\n",
      "\n",
      "See the caveats in the documentation: http://pandas.pydata.org/pandas-docs/stable/user_guide/indexing.html#returning-a-view-versus-a-copy\n",
      "  \"\"\"Entry point for launching an IPython kernel.\n"
     ]
    }
   ],
   "source": [
    "X_train[\"text_combined\"] = X_train[['city', 'room_type']].apply(' '.join, axis=1)"
   ]
  },
  {
   "cell_type": "code",
   "execution_count": 352,
   "metadata": {},
   "outputs": [
    {
     "name": "stderr",
     "output_type": "stream",
     "text": [
      "c:\\users\\tigju\\anaconda3\\envs\\datascience\\lib\\site-packages\\ipykernel_launcher.py:1: SettingWithCopyWarning: \n",
      "A value is trying to be set on a copy of a slice from a DataFrame.\n",
      "Try using .loc[row_indexer,col_indexer] = value instead\n",
      "\n",
      "See the caveats in the documentation: http://pandas.pydata.org/pandas-docs/stable/user_guide/indexing.html#returning-a-view-versus-a-copy\n",
      "  \"\"\"Entry point for launching an IPython kernel.\n"
     ]
    }
   ],
   "source": [
    "X_test[\"text_combined\"] = X_test[['city', 'room_type']].apply(' '.join, axis=1)"
   ]
  },
  {
   "cell_type": "code",
   "execution_count": 353,
   "metadata": {},
   "outputs": [
    {
     "data": {
      "text/plain": [
       "103943     ROWLAND HEIGHTS Private room\n",
       "18134       NEW ORLEANS Entire home/apt\n",
       "75745               AUSTIN Private room\n",
       "131277          CHICAGO Entire home/apt\n",
       "69170           HALEIWA Entire home/apt\n",
       "                      ...              \n",
       "37488            NEW ORLEANS Hotel room\n",
       "78380     BEVERLY HILLS Entire home/apt\n",
       "93044          NEW ORLEANS Private room\n",
       "26344          BROOKLYN Entire home/apt\n",
       "96395            DALY CITY Private room\n",
       "Name: text_combined, Length: 53184, dtype: object"
      ]
     },
     "execution_count": 353,
     "metadata": {},
     "output_type": "execute_result"
    }
   ],
   "source": [
    "X_train['text_combined']"
   ]
  },
  {
   "cell_type": "code",
   "execution_count": 354,
   "metadata": {},
   "outputs": [
    {
     "data": {
      "text/plain": [
       "34319          AUSTIN Entire home/apt\n",
       "96309        LOS ANGELES Private room\n",
       "89301     NEW ORLEANS Entire home/apt\n",
       "40589           BROOKLYN Private room\n",
       "17355        NEW YORK Entire home/apt\n",
       "                     ...             \n",
       "42861           NEW YORK Private room\n",
       "24689        SAN JOSE Entire home/apt\n",
       "16697           NEW YORK Private room\n",
       "46056       SAN DIEGO Entire home/apt\n",
       "116452        CHICAGO Entire home/apt\n",
       "Name: text_combined, Length: 13296, dtype: object"
      ]
     },
     "execution_count": 354,
     "metadata": {},
     "output_type": "execute_result"
    }
   ],
   "source": [
    "X_test[\"text_combined\"]"
   ]
  },
  {
   "cell_type": "code",
   "execution_count": 355,
   "metadata": {},
   "outputs": [],
   "source": [
    "tfidf = TfidfVectorizer(\n",
    "    strip_accents=\"unicode\",\n",
    "#     max_features=100,\n",
    "    norm='l2',\n",
    "    stop_words='english'\n",
    "    )"
   ]
  },
  {
   "cell_type": "code",
   "execution_count": 356,
   "metadata": {},
   "outputs": [],
   "source": [
    "dtm1 = tfidf.fit_transform(X_train['text_combined'])"
   ]
  },
  {
   "cell_type": "code",
   "execution_count": 357,
   "metadata": {},
   "outputs": [
    {
     "data": {
      "text/plain": [
       "<53184x482 sparse matrix of type '<class 'numpy.float64'>'\n",
       "\twith 220018 stored elements in Compressed Sparse Row format>"
      ]
     },
     "execution_count": 357,
     "metadata": {},
     "output_type": "execute_result"
    }
   ],
   "source": [
    "dtm1"
   ]
  },
  {
   "cell_type": "code",
   "execution_count": 358,
   "metadata": {},
   "outputs": [
    {
     "name": "stdout",
     "output_type": "stream",
     "text": [
      "Shape:  (53184, 482)\n"
     ]
    },
    {
     "data": {
      "text/html": [
       "<div>\n",
       "<style scoped>\n",
       "    .dataframe tbody tr th:only-of-type {\n",
       "        vertical-align: middle;\n",
       "    }\n",
       "\n",
       "    .dataframe tbody tr th {\n",
       "        vertical-align: top;\n",
       "    }\n",
       "\n",
       "    .dataframe thead th {\n",
       "        text-align: right;\n",
       "    }\n",
       "</style>\n",
       "<table border=\"1\" class=\"dataframe\">\n",
       "  <thead>\n",
       "    <tr style=\"text-align: right;\">\n",
       "      <th></th>\n",
       "      <th>afton</th>\n",
       "      <th>agoura</th>\n",
       "      <th>agua</th>\n",
       "      <th>aiea</th>\n",
       "      <th>albany</th>\n",
       "      <th>alhambra</th>\n",
       "      <th>...</th>\n",
       "      <th>woodland</th>\n",
       "      <th>woodside</th>\n",
       "      <th>worthington</th>\n",
       "      <th>wrightwood</th>\n",
       "      <th>york</th>\n",
       "      <th>zimmerman</th>\n",
       "    </tr>\n",
       "  </thead>\n",
       "  <tbody>\n",
       "    <tr>\n",
       "      <th>0</th>\n",
       "      <td>0.0</td>\n",
       "      <td>0.0</td>\n",
       "      <td>0.0</td>\n",
       "      <td>0.0</td>\n",
       "      <td>0.0</td>\n",
       "      <td>0.0</td>\n",
       "      <td>...</td>\n",
       "      <td>0.0</td>\n",
       "      <td>0.0</td>\n",
       "      <td>0.0</td>\n",
       "      <td>0.0</td>\n",
       "      <td>0.0</td>\n",
       "      <td>0.0</td>\n",
       "    </tr>\n",
       "    <tr>\n",
       "      <th>1</th>\n",
       "      <td>0.0</td>\n",
       "      <td>0.0</td>\n",
       "      <td>0.0</td>\n",
       "      <td>0.0</td>\n",
       "      <td>0.0</td>\n",
       "      <td>0.0</td>\n",
       "      <td>...</td>\n",
       "      <td>0.0</td>\n",
       "      <td>0.0</td>\n",
       "      <td>0.0</td>\n",
       "      <td>0.0</td>\n",
       "      <td>0.0</td>\n",
       "      <td>0.0</td>\n",
       "    </tr>\n",
       "  </tbody>\n",
       "</table>\n",
       "<p>2 rows × 482 columns</p>\n",
       "</div>"
      ],
      "text/plain": [
       "   afton  agoura  agua  aiea  albany  alhambra  ...  woodland  woodside  \\\n",
       "0    0.0     0.0   0.0   0.0     0.0       0.0  ...       0.0       0.0   \n",
       "1    0.0     0.0   0.0   0.0     0.0       0.0  ...       0.0       0.0   \n",
       "\n",
       "   worthington  wrightwood  york  zimmerman  \n",
       "0          0.0         0.0   0.0        0.0  \n",
       "1          0.0         0.0   0.0        0.0  \n",
       "\n",
       "[2 rows x 482 columns]"
      ]
     },
     "execution_count": 358,
     "metadata": {},
     "output_type": "execute_result"
    }
   ],
   "source": [
    "dtm1_df = pd.DataFrame(dtm1.todense(), columns=tfidf.get_feature_names())\n",
    "print('Shape: ', dtm1_df.shape)\n",
    "dtm1_df.head(2)"
   ]
  },
  {
   "cell_type": "code",
   "execution_count": 359,
   "metadata": {},
   "outputs": [],
   "source": [
    "dtm2 = tfidf.transform(X_test['text_combined'])"
   ]
  },
  {
   "cell_type": "code",
   "execution_count": 360,
   "metadata": {},
   "outputs": [
    {
     "data": {
      "text/plain": [
       "(13296, 482)"
      ]
     },
     "execution_count": 360,
     "metadata": {},
     "output_type": "execute_result"
    }
   ],
   "source": [
    "dtm2.shape"
   ]
  },
  {
   "cell_type": "code",
   "execution_count": 361,
   "metadata": {},
   "outputs": [
    {
     "name": "stdout",
     "output_type": "stream",
     "text": [
      "Shape:  (13296, 482)\n"
     ]
    },
    {
     "data": {
      "text/html": [
       "<div>\n",
       "<style scoped>\n",
       "    .dataframe tbody tr th:only-of-type {\n",
       "        vertical-align: middle;\n",
       "    }\n",
       "\n",
       "    .dataframe tbody tr th {\n",
       "        vertical-align: top;\n",
       "    }\n",
       "\n",
       "    .dataframe thead th {\n",
       "        text-align: right;\n",
       "    }\n",
       "</style>\n",
       "<table border=\"1\" class=\"dataframe\">\n",
       "  <thead>\n",
       "    <tr style=\"text-align: right;\">\n",
       "      <th></th>\n",
       "      <th>afton</th>\n",
       "      <th>agoura</th>\n",
       "      <th>agua</th>\n",
       "      <th>aiea</th>\n",
       "      <th>albany</th>\n",
       "      <th>alhambra</th>\n",
       "      <th>...</th>\n",
       "      <th>woodland</th>\n",
       "      <th>woodside</th>\n",
       "      <th>worthington</th>\n",
       "      <th>wrightwood</th>\n",
       "      <th>york</th>\n",
       "      <th>zimmerman</th>\n",
       "    </tr>\n",
       "  </thead>\n",
       "  <tbody>\n",
       "    <tr>\n",
       "      <th>0</th>\n",
       "      <td>0.0</td>\n",
       "      <td>0.0</td>\n",
       "      <td>0.0</td>\n",
       "      <td>0.0</td>\n",
       "      <td>0.0</td>\n",
       "      <td>0.0</td>\n",
       "      <td>...</td>\n",
       "      <td>0.0</td>\n",
       "      <td>0.0</td>\n",
       "      <td>0.0</td>\n",
       "      <td>0.0</td>\n",
       "      <td>0.0</td>\n",
       "      <td>0.0</td>\n",
       "    </tr>\n",
       "    <tr>\n",
       "      <th>1</th>\n",
       "      <td>0.0</td>\n",
       "      <td>0.0</td>\n",
       "      <td>0.0</td>\n",
       "      <td>0.0</td>\n",
       "      <td>0.0</td>\n",
       "      <td>0.0</td>\n",
       "      <td>...</td>\n",
       "      <td>0.0</td>\n",
       "      <td>0.0</td>\n",
       "      <td>0.0</td>\n",
       "      <td>0.0</td>\n",
       "      <td>0.0</td>\n",
       "      <td>0.0</td>\n",
       "    </tr>\n",
       "  </tbody>\n",
       "</table>\n",
       "<p>2 rows × 482 columns</p>\n",
       "</div>"
      ],
      "text/plain": [
       "   afton  agoura  agua  aiea  albany  alhambra  ...  woodland  woodside  \\\n",
       "0    0.0     0.0   0.0   0.0     0.0       0.0  ...       0.0       0.0   \n",
       "1    0.0     0.0   0.0   0.0     0.0       0.0  ...       0.0       0.0   \n",
       "\n",
       "   worthington  wrightwood  york  zimmerman  \n",
       "0          0.0         0.0   0.0        0.0  \n",
       "1          0.0         0.0   0.0        0.0  \n",
       "\n",
       "[2 rows x 482 columns]"
      ]
     },
     "execution_count": 361,
     "metadata": {},
     "output_type": "execute_result"
    }
   ],
   "source": [
    "dtm2_df = pd.DataFrame(dtm2.todense(), columns=tfidf.get_feature_names())\n",
    "print('Shape: ', dtm2_df.shape)\n",
    "dtm2_df.head(2)"
   ]
  },
  {
   "cell_type": "code",
   "execution_count": 362,
   "metadata": {},
   "outputs": [],
   "source": [
    "X_train_new = X_train.reset_index()\n",
    "X_train_new.drop(columns=['index'], inplace=True)"
   ]
  },
  {
   "cell_type": "code",
   "execution_count": 363,
   "metadata": {},
   "outputs": [],
   "source": [
    "X_train_new = pd.concat([X_train_new, dtm1_df], axis=1)"
   ]
  },
  {
   "cell_type": "code",
   "execution_count": 364,
   "metadata": {},
   "outputs": [],
   "source": [
    "X_test_new = X_test.reset_index()\n",
    "X_test_new.drop(columns=['index'], inplace=True)\n",
    "X_test_new = pd.concat([X_test_new, dtm2_df], axis=1)"
   ]
  },
  {
   "cell_type": "code",
   "execution_count": 365,
   "metadata": {},
   "outputs": [],
   "source": [
    "X_train_new.drop(columns=['city', 'room_type', 'text_combined'], inplace=True)\n",
    "X_test_new.drop(columns=['city', 'room_type', 'text_combined'], inplace=True)"
   ]
  },
  {
   "cell_type": "code",
   "execution_count": 366,
   "metadata": {},
   "outputs": [],
   "source": [
    "def prep_data(data):\n",
    "    dtm = tfidf.transform(data)\n",
    "    dtm_df = pd.DataFrame(dtm.todense(), columns=tfidf.get_feature_names())\n",
    "    return dtm_df"
   ]
  },
  {
   "cell_type": "code",
   "execution_count": 367,
   "metadata": {},
   "outputs": [
    {
     "data": {
      "text/html": [
       "<div>\n",
       "<style scoped>\n",
       "    .dataframe tbody tr th:only-of-type {\n",
       "        vertical-align: middle;\n",
       "    }\n",
       "\n",
       "    .dataframe tbody tr th {\n",
       "        vertical-align: top;\n",
       "    }\n",
       "\n",
       "    .dataframe thead th {\n",
       "        text-align: right;\n",
       "    }\n",
       "</style>\n",
       "<table border=\"1\" class=\"dataframe\">\n",
       "  <thead>\n",
       "    <tr style=\"text-align: right;\">\n",
       "      <th></th>\n",
       "      <th>city</th>\n",
       "      <th>room_type</th>\n",
       "      <th>security_deposit</th>\n",
       "      <th>guests_included</th>\n",
       "      <th>minimum_nights</th>\n",
       "      <th>text_combined</th>\n",
       "    </tr>\n",
       "  </thead>\n",
       "  <tbody>\n",
       "    <tr>\n",
       "      <th>103943</th>\n",
       "      <td>ROWLAND HEIGHTS</td>\n",
       "      <td>Private room</td>\n",
       "      <td>150.0</td>\n",
       "      <td>1</td>\n",
       "      <td>1</td>\n",
       "      <td>ROWLAND HEIGHTS Private room</td>\n",
       "    </tr>\n",
       "    <tr>\n",
       "      <th>18134</th>\n",
       "      <td>NEW ORLEANS</td>\n",
       "      <td>Entire home/apt</td>\n",
       "      <td>0.0</td>\n",
       "      <td>1</td>\n",
       "      <td>30</td>\n",
       "      <td>NEW ORLEANS Entire home/apt</td>\n",
       "    </tr>\n",
       "    <tr>\n",
       "      <th>75745</th>\n",
       "      <td>AUSTIN</td>\n",
       "      <td>Private room</td>\n",
       "      <td>0.0</td>\n",
       "      <td>1</td>\n",
       "      <td>1</td>\n",
       "      <td>AUSTIN Private room</td>\n",
       "    </tr>\n",
       "    <tr>\n",
       "      <th>131277</th>\n",
       "      <td>CHICAGO</td>\n",
       "      <td>Entire home/apt</td>\n",
       "      <td>500.0</td>\n",
       "      <td>8</td>\n",
       "      <td>3</td>\n",
       "      <td>CHICAGO Entire home/apt</td>\n",
       "    </tr>\n",
       "    <tr>\n",
       "      <th>69170</th>\n",
       "      <td>HALEIWA</td>\n",
       "      <td>Entire home/apt</td>\n",
       "      <td>0.0</td>\n",
       "      <td>15</td>\n",
       "      <td>1</td>\n",
       "      <td>HALEIWA Entire home/apt</td>\n",
       "    </tr>\n",
       "  </tbody>\n",
       "</table>\n",
       "</div>"
      ],
      "text/plain": [
       "                   city        room_type  security_deposit  guests_included  \\\n",
       "103943  ROWLAND HEIGHTS     Private room             150.0                1   \n",
       "18134       NEW ORLEANS  Entire home/apt               0.0                1   \n",
       "75745            AUSTIN     Private room               0.0                1   \n",
       "131277          CHICAGO  Entire home/apt             500.0                8   \n",
       "69170           HALEIWA  Entire home/apt               0.0               15   \n",
       "\n",
       "        minimum_nights                 text_combined  \n",
       "103943               1  ROWLAND HEIGHTS Private room  \n",
       "18134               30   NEW ORLEANS Entire home/apt  \n",
       "75745                1           AUSTIN Private room  \n",
       "131277               3       CHICAGO Entire home/apt  \n",
       "69170                1       HALEIWA Entire home/apt  "
      ]
     },
     "execution_count": 367,
     "metadata": {},
     "output_type": "execute_result"
    }
   ],
   "source": [
    "X_train.head()"
   ]
  },
  {
   "cell_type": "code",
   "execution_count": 368,
   "metadata": {},
   "outputs": [
    {
     "data": {
      "text/html": [
       "<div>\n",
       "<style scoped>\n",
       "    .dataframe tbody tr th:only-of-type {\n",
       "        vertical-align: middle;\n",
       "    }\n",
       "\n",
       "    .dataframe tbody tr th {\n",
       "        vertical-align: top;\n",
       "    }\n",
       "\n",
       "    .dataframe thead th {\n",
       "        text-align: right;\n",
       "    }\n",
       "</style>\n",
       "<table border=\"1\" class=\"dataframe\">\n",
       "  <thead>\n",
       "    <tr style=\"text-align: right;\">\n",
       "      <th></th>\n",
       "      <th>city</th>\n",
       "      <th>room_type</th>\n",
       "      <th>security_deposit</th>\n",
       "      <th>guests_included</th>\n",
       "      <th>minimum_nights</th>\n",
       "      <th>text_combined</th>\n",
       "    </tr>\n",
       "  </thead>\n",
       "  <tbody>\n",
       "    <tr>\n",
       "      <th>34319</th>\n",
       "      <td>AUSTIN</td>\n",
       "      <td>Entire home/apt</td>\n",
       "      <td>100.0</td>\n",
       "      <td>1</td>\n",
       "      <td>2</td>\n",
       "      <td>AUSTIN Entire home/apt</td>\n",
       "    </tr>\n",
       "    <tr>\n",
       "      <th>96309</th>\n",
       "      <td>LOS ANGELES</td>\n",
       "      <td>Private room</td>\n",
       "      <td>0.0</td>\n",
       "      <td>1</td>\n",
       "      <td>356</td>\n",
       "      <td>LOS ANGELES Private room</td>\n",
       "    </tr>\n",
       "    <tr>\n",
       "      <th>89301</th>\n",
       "      <td>NEW ORLEANS</td>\n",
       "      <td>Entire home/apt</td>\n",
       "      <td>200.0</td>\n",
       "      <td>2</td>\n",
       "      <td>3</td>\n",
       "      <td>NEW ORLEANS Entire home/apt</td>\n",
       "    </tr>\n",
       "    <tr>\n",
       "      <th>40589</th>\n",
       "      <td>BROOKLYN</td>\n",
       "      <td>Private room</td>\n",
       "      <td>0.0</td>\n",
       "      <td>1</td>\n",
       "      <td>2</td>\n",
       "      <td>BROOKLYN Private room</td>\n",
       "    </tr>\n",
       "    <tr>\n",
       "      <th>17355</th>\n",
       "      <td>NEW YORK</td>\n",
       "      <td>Entire home/apt</td>\n",
       "      <td>100.0</td>\n",
       "      <td>2</td>\n",
       "      <td>30</td>\n",
       "      <td>NEW YORK Entire home/apt</td>\n",
       "    </tr>\n",
       "  </tbody>\n",
       "</table>\n",
       "</div>"
      ],
      "text/plain": [
       "              city        room_type  security_deposit  guests_included  \\\n",
       "34319       AUSTIN  Entire home/apt             100.0                1   \n",
       "96309  LOS ANGELES     Private room               0.0                1   \n",
       "89301  NEW ORLEANS  Entire home/apt             200.0                2   \n",
       "40589     BROOKLYN     Private room               0.0                1   \n",
       "17355     NEW YORK  Entire home/apt             100.0                2   \n",
       "\n",
       "       minimum_nights                text_combined  \n",
       "34319               2       AUSTIN Entire home/apt  \n",
       "96309             356     LOS ANGELES Private room  \n",
       "89301               3  NEW ORLEANS Entire home/apt  \n",
       "40589               2        BROOKLYN Private room  \n",
       "17355              30     NEW YORK Entire home/apt  "
      ]
     },
     "execution_count": 368,
     "metadata": {},
     "output_type": "execute_result"
    }
   ],
   "source": [
    "X_test.head()"
   ]
  },
  {
   "cell_type": "code",
   "execution_count": 369,
   "metadata": {},
   "outputs": [],
   "source": [
    "import numpy as np\n",
    "import os\n",
    "import datetime\n",
    "import tensorflow as tf\n",
    "\n",
    "from tensorflow.keras import Sequential\n",
    "from tensorflow.keras.layers import Dense, Flatten\n",
    "from tensorflow.keras.optimizers import RMSprop\n",
    "from tensorflow.keras.callbacks import TensorBoard\n",
    "from tensorflow.keras.callbacks import EarlyStopping\n",
    "from tensorflow.keras.layers import Dropout\n",
    "from tensorflow.keras import regularizers"
   ]
  },
  {
   "cell_type": "code",
   "execution_count": 370,
   "metadata": {},
   "outputs": [],
   "source": [
    "# # scale and normalize data\n",
    "\n",
    "# from sklearn.preprocessing import MinMaxScaler, Normalizer\n",
    "\n",
    "# scaler = MinMaxScaler()\n",
    "# normalize = Normalizer()\n",
    "\n",
    "# scaled_X_train = scaler.fit_transform(X_train_new)\n",
    "# scaled_X_test = scaler.fit_transform(X_test_new)\n",
    "\n",
    "# normalized_X_train = normalize.fit_transform(scaled_X_train)\n",
    "# normalized_X_test = normalize.transform(scaled_X_test)"
   ]
  },
  {
   "cell_type": "code",
   "execution_count": 373,
   "metadata": {},
   "outputs": [
    {
     "data": {
      "text/plain": [
       "(53184, 484)"
      ]
     },
     "execution_count": 373,
     "metadata": {},
     "output_type": "execute_result"
    }
   ],
   "source": [
    "X_train_new.shape"
   ]
  },
  {
   "cell_type": "code",
   "execution_count": 379,
   "metadata": {},
   "outputs": [
    {
     "name": "stdout",
     "output_type": "stream",
     "text": [
      "Train on 53184 samples, validate on 13296 samples\n",
      "Epoch 1/100\n",
      "53184/53184 [==============================] - 13s 238us/sample - loss: 96417.1470 - mse: 96413.2656 - mae: 114.0400 - val_loss: 73516.5726 - val_mse: 73511.4141 - val_mae: 98.2864\n",
      "Epoch 2/100\n",
      "53184/53184 [==============================] - 12s 218us/sample - loss: 89717.2426 - mse: 89710.1719 - mae: 106.7039 - val_loss: 69768.2525 - val_mse: 69759.3359 - val_mae: 109.2922\n",
      "Epoch 3/100\n",
      "53184/53184 [==============================] - 12s 217us/sample - loss: 88718.6615 - mse: 88707.6641 - mae: 105.5880 - val_loss: 68198.0964 - val_mse: 68184.8125 - val_mae: 110.2744\n",
      "Epoch 4/100\n",
      "53184/53184 [==============================] - 10s 195us/sample - loss: 88342.0910 - mse: 88326.3828 - mae: 105.6227 - val_loss: 66886.2278 - val_mse: 66868.4453 - val_mae: 100.1713\n"
     ]
    }
   ],
   "source": [
    "model = Sequential([\n",
    "    Flatten(),\n",
    "    Dense(128, activation='relu', kernel_regularizer=regularizers.l2(0.01)),\n",
    "    Dropout(0.1),\n",
    "    Dense(128, activation='relu', kernel_regularizer=regularizers.l2(0.01)),\n",
    "    Dropout(0.1),\n",
    "    Dense(128, activation='relu', kernel_regularizer=regularizers.l2(0.01)),\n",
    "    Dropout(0.1),\n",
    "    Dense(1)\n",
    "])\n",
    "\n",
    "optimizer = tf.keras.optimizers.RMSprop(0.001)\n",
    "\n",
    "epochs = 100\n",
    "\n",
    "stop = EarlyStopping(monitor='val_mae', min_delta=0.01, patience=3)\n",
    "\n",
    "model.compile(loss='mse', optimizer=optimizer, metrics=['mse','mae'])\n",
    "\n",
    "history = model.fit(X_train_new.values, y_train.values, epochs=epochs, \n",
    "                    validation_data=(X_test_new.values, y_test.values),\n",
    "                    verbose=1,\n",
    "                    callbacks=[stop])"
   ]
  },
  {
   "cell_type": "code",
   "execution_count": 380,
   "metadata": {},
   "outputs": [
    {
     "data": {
      "text/plain": [
       "array([[163.08533 ],\n",
       "       [ 89.020935],\n",
       "       [193.17088 ],\n",
       "       ...,\n",
       "       [ 91.17809 ],\n",
       "       [298.19177 ],\n",
       "       [277.79987 ]], dtype=float32)"
      ]
     },
     "execution_count": 380,
     "metadata": {},
     "output_type": "execute_result"
    }
   ],
   "source": [
    "predictions = model.predict(X_test_new)\n",
    "predictions"
   ]
  },
  {
   "cell_type": "code",
   "execution_count": 381,
   "metadata": {},
   "outputs": [
    {
     "data": {
      "text/html": [
       "<div>\n",
       "<style scoped>\n",
       "    .dataframe tbody tr th:only-of-type {\n",
       "        vertical-align: middle;\n",
       "    }\n",
       "\n",
       "    .dataframe tbody tr th {\n",
       "        vertical-align: top;\n",
       "    }\n",
       "\n",
       "    .dataframe thead th {\n",
       "        text-align: right;\n",
       "    }\n",
       "</style>\n",
       "<table border=\"1\" class=\"dataframe\">\n",
       "  <thead>\n",
       "    <tr style=\"text-align: right;\">\n",
       "      <th></th>\n",
       "      <th>price</th>\n",
       "    </tr>\n",
       "  </thead>\n",
       "  <tbody>\n",
       "    <tr>\n",
       "      <th>34319</th>\n",
       "      <td>62.0</td>\n",
       "    </tr>\n",
       "    <tr>\n",
       "      <th>96309</th>\n",
       "      <td>155.0</td>\n",
       "    </tr>\n",
       "    <tr>\n",
       "      <th>89301</th>\n",
       "      <td>179.0</td>\n",
       "    </tr>\n",
       "    <tr>\n",
       "      <th>40589</th>\n",
       "      <td>90.0</td>\n",
       "    </tr>\n",
       "    <tr>\n",
       "      <th>17355</th>\n",
       "      <td>83.0</td>\n",
       "    </tr>\n",
       "    <tr>\n",
       "      <th>...</th>\n",
       "      <td>...</td>\n",
       "    </tr>\n",
       "    <tr>\n",
       "      <th>42861</th>\n",
       "      <td>40.0</td>\n",
       "    </tr>\n",
       "    <tr>\n",
       "      <th>24689</th>\n",
       "      <td>95.0</td>\n",
       "    </tr>\n",
       "    <tr>\n",
       "      <th>16697</th>\n",
       "      <td>68.0</td>\n",
       "    </tr>\n",
       "    <tr>\n",
       "      <th>46056</th>\n",
       "      <td>223.0</td>\n",
       "    </tr>\n",
       "    <tr>\n",
       "      <th>116452</th>\n",
       "      <td>119.0</td>\n",
       "    </tr>\n",
       "  </tbody>\n",
       "</table>\n",
       "<p>13296 rows × 1 columns</p>\n",
       "</div>"
      ],
      "text/plain": [
       "        price\n",
       "34319    62.0\n",
       "96309   155.0\n",
       "89301   179.0\n",
       "40589    90.0\n",
       "17355    83.0\n",
       "...       ...\n",
       "42861    40.0\n",
       "24689    95.0\n",
       "16697    68.0\n",
       "46056   223.0\n",
       "116452  119.0\n",
       "\n",
       "[13296 rows x 1 columns]"
      ]
     },
     "execution_count": 381,
     "metadata": {},
     "output_type": "execute_result"
    }
   ],
   "source": [
    "y_test"
   ]
  },
  {
   "cell_type": "code",
   "execution_count": 384,
   "metadata": {},
   "outputs": [],
   "source": [
    "def vectorize_data(data):\n",
    "    \n",
    "    dtm = tfidf.transform(data)\n",
    "    dtm_df = pd.DataFrame(dtm.todense(), columns=tfidf.get_feature_names())\n",
    "    return dtm_df"
   ]
  },
  {
   "cell_type": "code",
   "execution_count": 391,
   "metadata": {},
   "outputs": [],
   "source": [
    "def predict(city='United States', room_type='any', security_deposit=0.0, guests_included=1, min_nights=1):\n",
    "\n",
    "    # Make dataframe from the inputs\n",
    "    df = pd.DataFrame(\n",
    "        data=[[city, room_type, security_deposit, guests_included, min_nights]], \n",
    "        columns=['city', 'room_type', 'security_deposit', 'guests_included', 'min_nights']\n",
    "    )\n",
    "\n",
    "    df[\"text_combined\"] = df[['city', 'room_type']].apply(' '.join, axis=1)\n",
    "    \n",
    "    matrix = vectorize_data(df[\"text_combined\"])\n",
    "\n",
    "    df = pd.concat([df, matrix], axis=1)    \n",
    "    df = df.drop(columns=['city', 'room_type', 'text_combined'])\n",
    "\n",
    "    # Get the model's prediction\n",
    "    pred = model.predict(df.values)[0][0]\n",
    "    \n",
    "    return f'city: {city}, room_type: {room_type}, security_deposit: {security_deposit}, guests_included: {guests_included}, min_nights: {min_nights}, price: ${pred:.2f}'\n",
    "\n",
    "#     return jsonify({\"city\": city, \n",
    "#                     \"room_type\": room_type, \n",
    "#                     \"security_deposit\": security_deposit, \n",
    "#                     \"guests_included\": guests_included, \n",
    "#                     \"min_nights\": min_nights,\n",
    "#                     \"price\": results})"
   ]
  },
  {
   "cell_type": "code",
   "execution_count": 392,
   "metadata": {},
   "outputs": [
    {
     "data": {
      "text/plain": [
       "'city: Boston, room_type: Private room, security_deposit: 0.0, guests_included: 1, min_nights: 5, price: $89.34'"
      ]
     },
     "execution_count": 392,
     "metadata": {},
     "output_type": "execute_result"
    }
   ],
   "source": [
    "predict('Boston', 'Private room', min_nights=5)"
   ]
  },
  {
   "cell_type": "code",
   "execution_count": 394,
   "metadata": {},
   "outputs": [],
   "source": [
    "model.save('light_model.h5')"
   ]
  },
  {
   "cell_type": "code",
   "execution_count": null,
   "metadata": {},
   "outputs": [],
   "source": []
  }
 ],
 "metadata": {
  "kernelspec": {
   "display_name": "Python 3",
   "language": "python",
   "name": "python3"
  },
  "language_info": {
   "codemirror_mode": {
    "name": "ipython",
    "version": 3
   },
   "file_extension": ".py",
   "mimetype": "text/x-python",
   "name": "python",
   "nbconvert_exporter": "python",
   "pygments_lexer": "ipython3",
   "version": "3.7.6"
  }
 },
 "nbformat": 4,
 "nbformat_minor": 4
}
