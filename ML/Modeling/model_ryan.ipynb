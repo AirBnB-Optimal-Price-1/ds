{
 "metadata": {
  "language_info": {
   "codemirror_mode": {
    "name": "ipython",
    "version": 3
   },
   "file_extension": ".py",
   "mimetype": "text/x-python",
   "name": "python",
   "nbconvert_exporter": "python",
   "pygments_lexer": "ipython3",
   "version": "3.8.3-final"
  },
  "orig_nbformat": 2,
  "kernelspec": {
   "name": "python_defaultSpec_1598140903973",
   "display_name": "Python 3.8.3 64-bit ('sprint1': conda)"
  }
 },
 "nbformat": 4,
 "nbformat_minor": 2,
 "cells": [
  {
   "cell_type": "code",
   "execution_count": 1,
   "metadata": {},
   "outputs": [],
   "source": [
    "import pandas as pd\n",
    "\n",
    "df = pd.read_csv('cleaned_airbnb_scalleddown.csv')\n"
   ]
  },
  {
   "cell_type": "code",
   "execution_count": 2,
   "metadata": {},
   "outputs": [],
   "source": [
    "import json\n",
    "import pickle\n",
    "\n",
    "from sklearn.neighbors import NearestNeighbors\n",
    "from sklearn.metrics.pairwise import cosine_similarity"
   ]
  },
  {
   "cell_type": "code",
   "execution_count": 3,
   "metadata": {
    "tags": []
   },
   "outputs": [
    {
     "output_type": "stream",
     "name": "stdout",
     "text": "This dataframe has 31999 entries and 12 columns.\n----------\nTotal missing entries per column:\n\nspace                   0\ndescription             0\ncity                    0\nstate                   0\nroom_type               0\nprice                   0\nsecurity_deposit        0\nguests_included         0\nextra_people            0\nminimum_nights          0\nmaximum_nights          0\nreview_scores_rating    0\ndtype: int64\n----------\n"
    },
    {
     "output_type": "execute_result",
     "data": {
      "text/plain": "                                               space  \\\n0  I like to call my place \"the penthouse\". It's ...   \n1  This room is one of two  bedrooms open to book...   \n2  Our craftsman style home was aesthetically rem...   \n3  There are two bathrooms on this floor where th...   \n4  - Just renovated 3.5 bedroom / 2 bathroom pent...   \n\n                                         description      city state  \\\n0  I like to think of my place as a cozy escape. ...  BROOKLYN    NY   \n1  Gorgeous, spacious, clean & cozy bedroom in th...  NEW YORK    NY   \n2  This cozy two bedroom apt is well lit. Then ap...   SEATTLE    WA   \n3  The subways that is near with the house is the...  BROOKLYN    NY   \n4  Just updated 3.5 BR | 2 BA condo that features...    BOSTON    MA   \n\n         room_type  price  security_deposit  guests_included  extra_people  \\\n0  Entire home/apt     87                 0                1             0   \n1     Private room    100                 0                1            25   \n2  Entire home/apt    175               250                2            10   \n3     Private room     80                 0                2             0   \n4  Entire home/apt    600               650                5            40   \n\n   minimum_nights  maximum_nights  review_scores_rating  \n0               4            1125                   100  \n1               2              25                    96  \n2               3            1125                   100  \n3              30            1125                   100  \n4               2             270                    99  ",
      "text/html": "<div>\n<style scoped>\n    .dataframe tbody tr th:only-of-type {\n        vertical-align: middle;\n    }\n\n    .dataframe tbody tr th {\n        vertical-align: top;\n    }\n\n    .dataframe thead th {\n        text-align: right;\n    }\n</style>\n<table border=\"1\" class=\"dataframe\">\n  <thead>\n    <tr style=\"text-align: right;\">\n      <th></th>\n      <th>space</th>\n      <th>description</th>\n      <th>city</th>\n      <th>state</th>\n      <th>room_type</th>\n      <th>price</th>\n      <th>security_deposit</th>\n      <th>guests_included</th>\n      <th>extra_people</th>\n      <th>minimum_nights</th>\n      <th>maximum_nights</th>\n      <th>review_scores_rating</th>\n    </tr>\n  </thead>\n  <tbody>\n    <tr>\n      <th>0</th>\n      <td>I like to call my place \"the penthouse\". It's ...</td>\n      <td>I like to think of my place as a cozy escape. ...</td>\n      <td>BROOKLYN</td>\n      <td>NY</td>\n      <td>Entire home/apt</td>\n      <td>87</td>\n      <td>0</td>\n      <td>1</td>\n      <td>0</td>\n      <td>4</td>\n      <td>1125</td>\n      <td>100</td>\n    </tr>\n    <tr>\n      <th>1</th>\n      <td>This room is one of two  bedrooms open to book...</td>\n      <td>Gorgeous, spacious, clean &amp; cozy bedroom in th...</td>\n      <td>NEW YORK</td>\n      <td>NY</td>\n      <td>Private room</td>\n      <td>100</td>\n      <td>0</td>\n      <td>1</td>\n      <td>25</td>\n      <td>2</td>\n      <td>25</td>\n      <td>96</td>\n    </tr>\n    <tr>\n      <th>2</th>\n      <td>Our craftsman style home was aesthetically rem...</td>\n      <td>This cozy two bedroom apt is well lit. Then ap...</td>\n      <td>SEATTLE</td>\n      <td>WA</td>\n      <td>Entire home/apt</td>\n      <td>175</td>\n      <td>250</td>\n      <td>2</td>\n      <td>10</td>\n      <td>3</td>\n      <td>1125</td>\n      <td>100</td>\n    </tr>\n    <tr>\n      <th>3</th>\n      <td>There are two bathrooms on this floor where th...</td>\n      <td>The subways that is near with the house is the...</td>\n      <td>BROOKLYN</td>\n      <td>NY</td>\n      <td>Private room</td>\n      <td>80</td>\n      <td>0</td>\n      <td>2</td>\n      <td>0</td>\n      <td>30</td>\n      <td>1125</td>\n      <td>100</td>\n    </tr>\n    <tr>\n      <th>4</th>\n      <td>- Just renovated 3.5 bedroom / 2 bathroom pent...</td>\n      <td>Just updated 3.5 BR | 2 BA condo that features...</td>\n      <td>BOSTON</td>\n      <td>MA</td>\n      <td>Entire home/apt</td>\n      <td>600</td>\n      <td>650</td>\n      <td>5</td>\n      <td>40</td>\n      <td>2</td>\n      <td>270</td>\n      <td>99</td>\n    </tr>\n  </tbody>\n</table>\n</div>"
     },
     "metadata": {},
     "execution_count": 3
    }
   ],
   "source": [
    "# Print the shape and number of missing data per column.\n",
    "print(f'This dataframe has {df.shape[0]} entries and {df.shape[1]} columns.')\n",
    "print('----------')\n",
    "print('Total missing entries per column:\\n')\n",
    "print(df.isna().sum())\n",
    "\n",
    "# Print the head of the dataframe.\n",
    "print('----------')\n",
    "df.head()"
   ]
  },
  {
   "cell_type": "code",
   "execution_count": 9,
   "metadata": {},
   "outputs": [
    {
     "output_type": "execute_result",
     "data": {
      "text/plain": "((22399, 12), (9600, 12))"
     },
     "metadata": {},
     "execution_count": 9
    }
   ],
   "source": [
    "from sklearn.model_selection import train_test_split\n",
    "\n",
    "train, test = train_test_split(df, test_size=0.3, random_state=42)\n",
    "\n",
    "train.shape, test.shape"
   ]
  },
  {
   "cell_type": "code",
   "execution_count": 10,
   "metadata": {},
   "outputs": [],
   "source": [
    "train, val = train_test_split(train, train_size=0.80, test_size=0.20,\n",
    "                               random_state=42)\n",
    "\n"
   ]
  },
  {
   "cell_type": "code",
   "execution_count": 11,
   "metadata": {},
   "outputs": [
    {
     "output_type": "execute_result",
     "data": {
      "text/plain": "((17919, 12), (9600, 12), (4480, 12))"
     },
     "metadata": {},
     "execution_count": 11
    }
   ],
   "source": [
    "train.shape, test.shape, val.shape"
   ]
  },
  {
   "cell_type": "code",
   "execution_count": 12,
   "metadata": {},
   "outputs": [],
   "source": [
    "features = ['security_deposit', 'guests_included', 'extra_people', 'minimum_nights', 'maximum_nights', 'city', 'state', 'space', 'description', 'room_type']\n",
    "target = 'price'"
   ]
  },
  {
   "cell_type": "code",
   "execution_count": 13,
   "metadata": {},
   "outputs": [],
   "source": [
    "\n",
    "X_train = train[features]\n",
    "y_train = train[target]\n",
    "X_val = val[features]\n",
    "y_val = val[target]\n",
    "X_test = test[features]\n",
    "X_test = test[target]"
   ]
  },
  {
   "cell_type": "code",
   "execution_count": 9,
   "metadata": {
    "tags": []
   },
   "outputs": [],
   "source": [
    "from lightgbm import LGBMClassifier\n",
    "import category_encoders as ce\n",
    "from sklearn.preprocessing import QuantileTransformer\n",
    "from sklearn.preprocessing import StandardScaler\n",
    "from sklearn.impute import SimpleImputer\n",
    "from sklearn.pipeline import make_pipeline\n",
    "\n",
    "pipeline = make_pipeline(\n",
    "    ce.OneHotEncoder(),\n",
    "    SimpleImputer(),\n",
    "    StandardScaler(), \n",
    "    LGBMClassifier()\n",
    "    \n",
    ")\n",
    "\n",
    "# Fit on train, score on val, predict on test\n",
    "pipeline.fit(X_train, y_train)\n",
    "print('Validation Accuracy', pipeline.score(X_val, y_val))\n",
    "y_pred = pipeline.predict(X_test)\n"
   ]
  },
  {
   "cell_type": "code",
   "execution_count": null,
   "metadata": {},
   "outputs": [],
   "source": [
    "from sklearn.externals import joblib\n",
    "joblib.dump(pipeline, 'placeholder.pkl')"
   ]
  },
  {
   "cell_type": "code",
   "execution_count": null,
   "metadata": {},
   "outputs": [],
   "source": []
  }
 ]
}