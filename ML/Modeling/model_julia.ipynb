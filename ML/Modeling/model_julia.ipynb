{
 "cells": [
  {
   "cell_type": "markdown",
   "metadata": {},
   "source": [
    "## Preparing Data for Training"
   ]
  },
  {
   "cell_type": "code",
   "execution_count": 1,
   "metadata": {},
   "outputs": [],
   "source": [
    "import pandas as pd\n",
    "import numpy as np"
   ]
  },
  {
   "cell_type": "code",
   "execution_count": 2,
   "metadata": {},
   "outputs": [],
   "source": [
    "airbnb = pd.read_csv('cleaned_airbnb.csv')"
   ]
  },
  {
   "cell_type": "code",
   "execution_count": 3,
   "metadata": {},
   "outputs": [],
   "source": [
    "target = 'price'\n",
    "\n",
    "one_hot_encode_features = ['room_type', 'city', 'state', 'guests_included']\n",
    "\n",
    "price_features = ['security_deposit', 'extra_people'] \n",
    "\n",
    "text_cols = ['space', 'description']\n",
    "\n",
    "other_features = ['minimum_nights', 'maximum_nights', 'review_scores_rating']\n",
    "\n",
    "features = one_hot_encode_features + price_features + text_cols + other_features"
   ]
  },
  {
   "cell_type": "code",
   "execution_count": 4,
   "metadata": {},
   "outputs": [
    {
     "data": {
      "text/plain": [
       "Entire home/apt    92795\n",
       "Private room       37731\n",
       "Shared room         2102\n",
       "Hotel room           957\n",
       "Name: room_type, dtype: int64"
      ]
     },
     "execution_count": 4,
     "metadata": {},
     "output_type": "execute_result"
    }
   ],
   "source": [
    "airbnb['room_type'].value_counts()"
   ]
  },
  {
   "cell_type": "code",
   "execution_count": 5,
   "metadata": {},
   "outputs": [
    {
     "data": {
      "text/plain": [
       "1     73567\n",
       "2     30796\n",
       "4     12752\n",
       "6      5672\n",
       "3      4135\n",
       "8      2132\n",
       "5      2057\n",
       "10      989\n",
       "7       551\n",
       "12      347\n",
       "16      194\n",
       "9       148\n",
       "14       84\n",
       "11       55\n",
       "15       45\n",
       "13       31\n",
       "20        8\n",
       "24        5\n",
       "18        4\n",
       "19        2\n",
       "21        2\n",
       "28        2\n",
       "35        1\n",
       "17        1\n",
       "22        1\n",
       "29        1\n",
       "30        1\n",
       "32        1\n",
       "36        1\n",
       "Name: guests_included, dtype: int64"
      ]
     },
     "execution_count": 5,
     "metadata": {},
     "output_type": "execute_result"
    }
   ],
   "source": [
    "airbnb['guests_included'].value_counts()"
   ]
  },
  {
   "cell_type": "code",
   "execution_count": 6,
   "metadata": {},
   "outputs": [
    {
     "data": {
      "text/plain": [
       "100.0    36412\n",
       "98.0     15098\n",
       "99.0     13710\n",
       "97.0     12053\n",
       "96.0     10147\n",
       "95.0      8375\n",
       "93.0      6337\n",
       "94.0      5668\n",
       "90.0      4385\n",
       "92.0      3617\n",
       "80.0      3069\n",
       "91.0      2872\n",
       "89.0      1813\n",
       "87.0      1711\n",
       "88.0      1670\n",
       "85.0       901\n",
       "86.0       795\n",
       "60.0       771\n",
       "84.0       740\n",
       "83.0       607\n",
       "82.0       327\n",
       "70.0       321\n",
       "73.0       306\n",
       "20.0       268\n",
       "75.0       198\n",
       "40.0       177\n",
       "81.0       161\n",
       "78.0       160\n",
       "76.0       138\n",
       "77.0       133\n",
       "67.0       104\n",
       "79.0        92\n",
       "50.0        78\n",
       "74.0        56\n",
       "72.0        50\n",
       "71.0        45\n",
       "65.0        42\n",
       "68.0        38\n",
       "69.0        27\n",
       "64.0        17\n",
       "53.0        17\n",
       "63.0        15\n",
       "66.0        14\n",
       "30.0        13\n",
       "47.0         8\n",
       "62.0         6\n",
       "56.0         5\n",
       "57.0         4\n",
       "58.0         3\n",
       "61.0         2\n",
       "55.0         2\n",
       "45.0         2\n",
       "43.0         1\n",
       "59.0         1\n",
       "33.0         1\n",
       "48.0         1\n",
       "52.0         1\n",
       "Name: review_scores_rating, dtype: int64"
      ]
     },
     "execution_count": 6,
     "metadata": {},
     "output_type": "execute_result"
    }
   ],
   "source": [
    "airbnb['review_scores_rating'].value_counts()"
   ]
  },
  {
   "cell_type": "code",
   "execution_count": 7,
   "metadata": {},
   "outputs": [],
   "source": [
    "from sklearn.model_selection import train_test_split\n",
    "\n",
    "from category_encoders.one_hot import OneHotEncoder\n",
    "from category_encoders.ordinal import OrdinalEncoder\n",
    "\n",
    "from sklearn.feature_extraction.text import TfidfVectorizer"
   ]
  },
  {
   "cell_type": "code",
   "execution_count": 8,
   "metadata": {},
   "outputs": [
    {
     "data": {
      "text/plain": [
       "((133585, 11), (133585, 1))"
      ]
     },
     "execution_count": 8,
     "metadata": {},
     "output_type": "execute_result"
    }
   ],
   "source": [
    "X = airbnb.drop(['price'], axis=1)\n",
    "y = airbnb.drop(features, axis=1)\n",
    "\n",
    "X.shape, y.shape"
   ]
  },
  {
   "cell_type": "code",
   "execution_count": 9,
   "metadata": {},
   "outputs": [],
   "source": [
    "X_train, X_test, y_train, y_test = train_test_split(X, y, test_size=0.2, random_state=42)"
   ]
  },
  {
   "cell_type": "code",
   "execution_count": 10,
   "metadata": {},
   "outputs": [
    {
     "data": {
      "text/html": [
       "<div>\n",
       "<style scoped>\n",
       "    .dataframe tbody tr th:only-of-type {\n",
       "        vertical-align: middle;\n",
       "    }\n",
       "\n",
       "    .dataframe tbody tr th {\n",
       "        vertical-align: top;\n",
       "    }\n",
       "\n",
       "    .dataframe thead th {\n",
       "        text-align: right;\n",
       "    }\n",
       "</style>\n",
       "<table border=\"1\" class=\"dataframe\">\n",
       "  <thead>\n",
       "    <tr style=\"text-align: right;\">\n",
       "      <th></th>\n",
       "      <th>space</th>\n",
       "      <th>description</th>\n",
       "      <th>city</th>\n",
       "      <th>state</th>\n",
       "      <th>room_type</th>\n",
       "      <th>security_deposit</th>\n",
       "      <th>guests_included</th>\n",
       "      <th>extra_people</th>\n",
       "      <th>minimum_nights</th>\n",
       "      <th>maximum_nights</th>\n",
       "      <th>review_scores_rating</th>\n",
       "    </tr>\n",
       "  </thead>\n",
       "  <tbody>\n",
       "    <tr>\n",
       "      <th>4128</th>\n",
       "      <td>Everyone talks about Williamsburg as if Bedfor...</td>\n",
       "      <td>Modern, vibrantly painted 1B with large backya...</td>\n",
       "      <td>BROOKLYN</td>\n",
       "      <td>NY</td>\n",
       "      <td>Entire home/apt</td>\n",
       "      <td>250.0</td>\n",
       "      <td>1</td>\n",
       "      <td>0.0</td>\n",
       "      <td>2</td>\n",
       "      <td>1125</td>\n",
       "      <td>100.0</td>\n",
       "    </tr>\n",
       "    <tr>\n",
       "      <th>122022</th>\n",
       "      <td>This is a cbd retail store during the day and ...</td>\n",
       "      <td>Our 1,000 sq ft storefront is the most conveni...</td>\n",
       "      <td>NEW YORK</td>\n",
       "      <td>NY</td>\n",
       "      <td>Entire home/apt</td>\n",
       "      <td>0.0</td>\n",
       "      <td>1</td>\n",
       "      <td>0.0</td>\n",
       "      <td>1</td>\n",
       "      <td>2</td>\n",
       "      <td>100.0</td>\n",
       "    </tr>\n",
       "    <tr>\n",
       "      <th>113213</th>\n",
       "      <td>Newly renovated downstairs studio apartment.  ...</td>\n",
       "      <td>This newly remodeled studio apartment is in a ...</td>\n",
       "      <td>NASHVILLE</td>\n",
       "      <td>TN</td>\n",
       "      <td>Entire home/apt</td>\n",
       "      <td>300.0</td>\n",
       "      <td>2</td>\n",
       "      <td>55.0</td>\n",
       "      <td>28</td>\n",
       "      <td>1125</td>\n",
       "      <td>99.0</td>\n",
       "    </tr>\n",
       "  </tbody>\n",
       "</table>\n",
       "</div>"
      ],
      "text/plain": [
       "                                                    space  \\\n",
       "4128    Everyone talks about Williamsburg as if Bedfor...   \n",
       "122022  This is a cbd retail store during the day and ...   \n",
       "113213  Newly renovated downstairs studio apartment.  ...   \n",
       "\n",
       "                                              description       city state  \\\n",
       "4128    Modern, vibrantly painted 1B with large backya...   BROOKLYN    NY   \n",
       "122022  Our 1,000 sq ft storefront is the most conveni...   NEW YORK    NY   \n",
       "113213  This newly remodeled studio apartment is in a ...  NASHVILLE    TN   \n",
       "\n",
       "              room_type  security_deposit  guests_included  extra_people  \\\n",
       "4128    Entire home/apt             250.0                1           0.0   \n",
       "122022  Entire home/apt               0.0                1           0.0   \n",
       "113213  Entire home/apt             300.0                2          55.0   \n",
       "\n",
       "        minimum_nights  maximum_nights  review_scores_rating  \n",
       "4128                 2            1125                 100.0  \n",
       "122022               1               2                 100.0  \n",
       "113213              28            1125                  99.0  "
      ]
     },
     "execution_count": 10,
     "metadata": {},
     "output_type": "execute_result"
    }
   ],
   "source": [
    "X_train.head(3)"
   ]
  },
  {
   "cell_type": "code",
   "execution_count": 12,
   "metadata": {},
   "outputs": [],
   "source": [
    "# onehot encode\n",
    "onehot = OneHotEncoder([])\n",
    "ordinal = OrdinalEncoder()\n",
    "\n",
    "# one hot encode train\n",
    "transformed_train = onehot.fit_transform(X_train[['state', 'room_type']])\n",
    "X_train.loc[:, 'city'] = ordinal.fit_transform(X_train['city'])\n",
    "\n",
    "# one hot encode test\n",
    "transformed_test = onehot.transform(X_test[['state', 'room_type']])\n",
    "X_test.loc[:, 'city'] = ordinal.transform(X_test['city'])"
   ]
  },
  {
   "cell_type": "code",
   "execution_count": 13,
   "metadata": {},
   "outputs": [],
   "source": [
    "X_train = pd.concat([X_train, transformed_train], axis=1)"
   ]
  },
  {
   "cell_type": "code",
   "execution_count": 14,
   "metadata": {},
   "outputs": [],
   "source": [
    "X_test = pd.concat([X_test, transformed_test], axis=1)"
   ]
  },
  {
   "cell_type": "code",
   "execution_count": 15,
   "metadata": {},
   "outputs": [
    {
     "data": {
      "text/html": [
       "<div>\n",
       "<style scoped>\n",
       "    .dataframe tbody tr th:only-of-type {\n",
       "        vertical-align: middle;\n",
       "    }\n",
       "\n",
       "    .dataframe tbody tr th {\n",
       "        vertical-align: top;\n",
       "    }\n",
       "\n",
       "    .dataframe thead th {\n",
       "        text-align: right;\n",
       "    }\n",
       "</style>\n",
       "<table border=\"1\" class=\"dataframe\">\n",
       "  <thead>\n",
       "    <tr style=\"text-align: right;\">\n",
       "      <th></th>\n",
       "      <th>space</th>\n",
       "      <th>description</th>\n",
       "      <th>city</th>\n",
       "      <th>state</th>\n",
       "      <th>room_type</th>\n",
       "      <th>security_deposit</th>\n",
       "      <th>guests_included</th>\n",
       "      <th>extra_people</th>\n",
       "      <th>minimum_nights</th>\n",
       "      <th>maximum_nights</th>\n",
       "      <th>...</th>\n",
       "      <th>state_11</th>\n",
       "      <th>state_12</th>\n",
       "      <th>state_13</th>\n",
       "      <th>state_14</th>\n",
       "      <th>state_15</th>\n",
       "      <th>state_16</th>\n",
       "      <th>room_type_1</th>\n",
       "      <th>room_type_2</th>\n",
       "      <th>room_type_3</th>\n",
       "      <th>room_type_4</th>\n",
       "    </tr>\n",
       "  </thead>\n",
       "  <tbody>\n",
       "    <tr>\n",
       "      <th>4128</th>\n",
       "      <td>Everyone talks about Williamsburg as if Bedfor...</td>\n",
       "      <td>Modern, vibrantly painted 1B with large backya...</td>\n",
       "      <td>1</td>\n",
       "      <td>NY</td>\n",
       "      <td>Entire home/apt</td>\n",
       "      <td>250.0</td>\n",
       "      <td>1</td>\n",
       "      <td>0.0</td>\n",
       "      <td>2</td>\n",
       "      <td>1125</td>\n",
       "      <td>...</td>\n",
       "      <td>0</td>\n",
       "      <td>0</td>\n",
       "      <td>0</td>\n",
       "      <td>0</td>\n",
       "      <td>0</td>\n",
       "      <td>0</td>\n",
       "      <td>1</td>\n",
       "      <td>0</td>\n",
       "      <td>0</td>\n",
       "      <td>0</td>\n",
       "    </tr>\n",
       "    <tr>\n",
       "      <th>122022</th>\n",
       "      <td>This is a cbd retail store during the day and ...</td>\n",
       "      <td>Our 1,000 sq ft storefront is the most conveni...</td>\n",
       "      <td>2</td>\n",
       "      <td>NY</td>\n",
       "      <td>Entire home/apt</td>\n",
       "      <td>0.0</td>\n",
       "      <td>1</td>\n",
       "      <td>0.0</td>\n",
       "      <td>1</td>\n",
       "      <td>2</td>\n",
       "      <td>...</td>\n",
       "      <td>0</td>\n",
       "      <td>0</td>\n",
       "      <td>0</td>\n",
       "      <td>0</td>\n",
       "      <td>0</td>\n",
       "      <td>0</td>\n",
       "      <td>1</td>\n",
       "      <td>0</td>\n",
       "      <td>0</td>\n",
       "      <td>0</td>\n",
       "    </tr>\n",
       "  </tbody>\n",
       "</table>\n",
       "<p>2 rows × 31 columns</p>\n",
       "</div>"
      ],
      "text/plain": [
       "                                                    space  \\\n",
       "4128    Everyone talks about Williamsburg as if Bedfor...   \n",
       "122022  This is a cbd retail store during the day and ...   \n",
       "\n",
       "                                              description  city state  \\\n",
       "4128    Modern, vibrantly painted 1B with large backya...     1    NY   \n",
       "122022  Our 1,000 sq ft storefront is the most conveni...     2    NY   \n",
       "\n",
       "              room_type  security_deposit  guests_included  extra_people  \\\n",
       "4128    Entire home/apt             250.0                1           0.0   \n",
       "122022  Entire home/apt               0.0                1           0.0   \n",
       "\n",
       "        minimum_nights  maximum_nights  ...  state_11  state_12  state_13  \\\n",
       "4128                 2            1125  ...         0         0         0   \n",
       "122022               1               2  ...         0         0         0   \n",
       "\n",
       "        state_14  state_15  state_16  room_type_1  room_type_2  room_type_3  \\\n",
       "4128           0         0         0            1            0            0   \n",
       "122022         0         0         0            1            0            0   \n",
       "\n",
       "        room_type_4  \n",
       "4128              0  \n",
       "122022            0  \n",
       "\n",
       "[2 rows x 31 columns]"
      ]
     },
     "execution_count": 15,
     "metadata": {},
     "output_type": "execute_result"
    }
   ],
   "source": [
    "X_train.head(2)"
   ]
  },
  {
   "cell_type": "code",
   "execution_count": 16,
   "metadata": {},
   "outputs": [],
   "source": [
    "X_train.drop(columns=['state', 'room_type'], axis=1, inplace=True)\n",
    "X_test.drop(columns=['state', 'room_type'], axis=1, inplace=True)"
   ]
  },
  {
   "cell_type": "code",
   "execution_count": 17,
   "metadata": {},
   "outputs": [
    {
     "data": {
      "text/plain": [
       "((106868, 29), (106868, 1), (26717, 29), (26717, 1))"
      ]
     },
     "execution_count": 17,
     "metadata": {},
     "output_type": "execute_result"
    }
   ],
   "source": [
    "X_train.shape, y_train.shape, X_test.shape, y_test.shape"
   ]
  },
  {
   "cell_type": "code",
   "execution_count": 18,
   "metadata": {},
   "outputs": [
    {
     "data": {
      "text/plain": [
       "Index(['space', 'description', 'city', 'security_deposit', 'guests_included',\n",
       "       'extra_people', 'minimum_nights', 'maximum_nights',\n",
       "       'review_scores_rating', 'state_1', 'state_2', 'state_3', 'state_4',\n",
       "       'state_5', 'state_6', 'state_7', 'state_8', 'state_9', 'state_10',\n",
       "       'state_11', 'state_12', 'state_13', 'state_14', 'state_15', 'state_16',\n",
       "       'room_type_1', 'room_type_2', 'room_type_3', 'room_type_4'],\n",
       "      dtype='object')"
      ]
     },
     "execution_count": 18,
     "metadata": {},
     "output_type": "execute_result"
    }
   ],
   "source": [
    "X_train.columns"
   ]
  },
  {
   "cell_type": "code",
   "execution_count": 19,
   "metadata": {},
   "outputs": [],
   "source": [
    "import spacy\n",
    "from spacy.tokenizer import Tokenizer\n",
    "import en_core_web_lg\n",
    "\n",
    "#nlp = spacy.load(\"en_core_web_lg\") # error occurs - problem is related to the way spaCy detects installed packages\n",
    "nlp = en_core_web_lg.load()\n",
    "\n",
    "\n",
    "# Tokenizer\n",
    "tokenizer = Tokenizer(nlp.vocab)\n",
    "\n",
    "# stop words\n",
    "stop_words = nlp.Defaults.stop_words.union(['厨房', '  ', ' ', '®', '~', '●', '★', '★ ★', '☆', '♦', '✅', '✓', '✔', '❤', '⭐', '|', \n",
    "                                            '+', '\\t', '+ +', '-a', '$', '-1', '-2', '-', 'yo'])"
   ]
  },
  {
   "cell_type": "code",
   "execution_count": 20,
   "metadata": {},
   "outputs": [],
   "source": [
    "def get_lemmas(text):\n",
    "\n",
    "    lemmas = []\n",
    "    \n",
    "    doc = nlp(text)\n",
    "    \n",
    "    # Something goes here :P\n",
    "    for token in doc: \n",
    "        if ((token.text.lower() not in stop_words) and (token.is_punct == False)) and (token.pos_ != 'PRON'):\n",
    "            lemmas.append(token.lemma_.lower())\n",
    "    \n",
    "    return lemmas"
   ]
  },
  {
   "cell_type": "code",
   "execution_count": 19,
   "metadata": {},
   "outputs": [
    {
     "name": "stderr",
     "output_type": "stream",
     "text": [
      "c:\\users\\tigju\\anaconda3\\envs\\datascience\\lib\\site-packages\\tqdm\\std.py:668: FutureWarning: The Panel class is removed from pandas. Accessing it from the top-level namespace will also be removed in the next version\n",
      "  from pandas import Panel\n"
     ]
    }
   ],
   "source": [
    "from tqdm import tqdm \n",
    "tqdm.pandas()"
   ]
  },
  {
   "cell_type": "code",
   "execution_count": 54,
   "metadata": {},
   "outputs": [
    {
     "name": "stderr",
     "output_type": "stream",
     "text": [
      "100%|████████████████████████████████████████████████████████████████████████| 106868/106868 [1:10:07<00:00, 25.40it/s]\n"
     ]
    }
   ],
   "source": [
    "X_train.loc[:, 'space_tokens'] = X_train['space'].progress_apply(get_lemmas)"
   ]
  },
  {
   "cell_type": "code",
   "execution_count": 55,
   "metadata": {},
   "outputs": [
    {
     "name": "stderr",
     "output_type": "stream",
     "text": [
      "100%|████████████████████████████████████████████████████████████████████████| 106868/106868 [1:29:21<00:00, 19.93it/s]\n"
     ]
    }
   ],
   "source": [
    "X_train.loc[:, 'description_tokens'] = X_train['description'].progress_apply(get_lemmas)"
   ]
  },
  {
   "cell_type": "code",
   "execution_count": 56,
   "metadata": {},
   "outputs": [
    {
     "name": "stderr",
     "output_type": "stream",
     "text": [
      "100%|████████████████████████████████████████████████████████████████████████████| 26717/26717 [06:58<00:00, 63.86it/s]\n"
     ]
    }
   ],
   "source": [
    "X_test.loc[:, 'space_tokens'] = X_test['space'].progress_apply(get_lemmas)"
   ]
  },
  {
   "cell_type": "code",
   "execution_count": 57,
   "metadata": {},
   "outputs": [
    {
     "name": "stderr",
     "output_type": "stream",
     "text": [
      "100%|████████████████████████████████████████████████████████████████████████████| 26717/26717 [10:32<00:00, 42.22it/s]\n"
     ]
    }
   ],
   "source": [
    "X_test.loc[:, 'description_tokens'] = X_test['description'].progress_apply(get_lemmas)"
   ]
  },
  {
   "cell_type": "code",
   "execution_count": 21,
   "metadata": {},
   "outputs": [],
   "source": [
    "space_lemmas_train = pd.read_csv('space_lemmas_train.csv', index_col=0)\n",
    "desc_lemmas_train = pd.read_csv('desc_lemmas_train.csv', index_col=0)\n",
    "space_lemmas_test = pd.read_csv('space_lemmas_test.csv', index_col=0)\n",
    "desc_lemmas_test = pd.read_csv('desc_lemmas_test.csv', index_col=0)"
   ]
  },
  {
   "cell_type": "code",
   "execution_count": 22,
   "metadata": {},
   "outputs": [
    {
     "data": {
      "text/plain": [
       "((106868, 1), (106868, 1), (26717, 1), (26717, 1))"
      ]
     },
     "execution_count": 22,
     "metadata": {},
     "output_type": "execute_result"
    }
   ],
   "source": [
    "space_lemmas_train.shape, desc_lemmas_train.shape, space_lemmas_test.shape, desc_lemmas_test.shape"
   ]
  },
  {
   "cell_type": "code",
   "execution_count": 23,
   "metadata": {},
   "outputs": [
    {
     "data": {
      "text/html": [
       "<div>\n",
       "<style scoped>\n",
       "    .dataframe tbody tr th:only-of-type {\n",
       "        vertical-align: middle;\n",
       "    }\n",
       "\n",
       "    .dataframe tbody tr th {\n",
       "        vertical-align: top;\n",
       "    }\n",
       "\n",
       "    .dataframe thead th {\n",
       "        text-align: right;\n",
       "    }\n",
       "</style>\n",
       "<table border=\"1\" class=\"dataframe\">\n",
       "  <thead>\n",
       "    <tr style=\"text-align: right;\">\n",
       "      <th></th>\n",
       "      <th>desc_tokens</th>\n",
       "    </tr>\n",
       "  </thead>\n",
       "  <tbody>\n",
       "    <tr>\n",
       "      <th>0</th>\n",
       "      <td>['modern', 'vibrantly', 'paint', '1b', 'large'...</td>\n",
       "    </tr>\n",
       "    <tr>\n",
       "      <th>1</th>\n",
       "      <td>['1,000', 'sq', 'ft', 'storefront', 'convenien...</td>\n",
       "    </tr>\n",
       "    <tr>\n",
       "      <th>2</th>\n",
       "      <td>['newly', 'remodel', 'studio', 'apartment', 'q...</td>\n",
       "    </tr>\n",
       "    <tr>\n",
       "      <th>3</th>\n",
       "      <td>['enjoy', 'weekend', 'cozy', 'studio', 'apartm...</td>\n",
       "    </tr>\n",
       "    <tr>\n",
       "      <th>4</th>\n",
       "      <td>['metro', 'style', 'live', 'washington', 'dc',...</td>\n",
       "    </tr>\n",
       "  </tbody>\n",
       "</table>\n",
       "</div>"
      ],
      "text/plain": [
       "                                         desc_tokens\n",
       "0  ['modern', 'vibrantly', 'paint', '1b', 'large'...\n",
       "1  ['1,000', 'sq', 'ft', 'storefront', 'convenien...\n",
       "2  ['newly', 'remodel', 'studio', 'apartment', 'q...\n",
       "3  ['enjoy', 'weekend', 'cozy', 'studio', 'apartm...\n",
       "4  ['metro', 'style', 'live', 'washington', 'dc',..."
      ]
     },
     "execution_count": 23,
     "metadata": {},
     "output_type": "execute_result"
    }
   ],
   "source": [
    "desc_lemmas_train.head()"
   ]
  },
  {
   "cell_type": "code",
   "execution_count": 24,
   "metadata": {},
   "outputs": [],
   "source": [
    "# Instantiate vectorizer object\n",
    "\n",
    "tfidf = TfidfVectorizer(\n",
    "#     min_df=2,\n",
    "    ngram_range=(1,2),\n",
    "    max_features=5000,\n",
    "    strip_accents=\"unicode\",\n",
    "    norm='l2',\n",
    "    preprocessor=' '.join,\n",
    "    stop_words='english'\n",
    "    )"
   ]
  },
  {
   "cell_type": "code",
   "execution_count": 25,
   "metadata": {},
   "outputs": [],
   "source": [
    "token_list = space_lemmas_train['space_tokens'].to_list()\n",
    "token_list2 = desc_lemmas_train['desc_tokens'].to_list()\n",
    "token_list3 = space_lemmas_test['space_tokens'].to_list()\n",
    "token_list4 = desc_lemmas_test['desc_tokens'].to_list()"
   ]
  },
  {
   "cell_type": "code",
   "execution_count": 26,
   "metadata": {},
   "outputs": [],
   "source": [
    "pre_docs = [d.strip('][').replace(\"'\", \"\").split(', ') for d in token_list]\n",
    "pre_docs2 = [d.strip('][').replace(\"'\", \"\").split(', ') for d in token_list2]\n",
    "pre_docs3 = [d.strip('][').replace(\"'\", \"\").split(', ') for d in token_list3]\n",
    "pre_docs4 = [d.strip('][').replace(\"'\", \"\").split(', ') for d in token_list4]"
   ]
  },
  {
   "cell_type": "code",
   "execution_count": 27,
   "metadata": {},
   "outputs": [
    {
     "data": {
      "text/plain": [
       "list"
      ]
     },
     "execution_count": 27,
     "metadata": {},
     "output_type": "execute_result"
    }
   ],
   "source": [
    "type(pre_docs[9])"
   ]
  },
  {
   "cell_type": "code",
   "execution_count": 28,
   "metadata": {},
   "outputs": [
    {
     "data": {
      "text/plain": [
       "<2x3 sparse matrix of type '<class 'numpy.float64'>'\n",
       "\twith 4 stored elements in Compressed Sparse Row format>"
      ]
     },
     "execution_count": 28,
     "metadata": {},
     "output_type": "execute_result"
    }
   ],
   "source": [
    "# TEST tfidf\n",
    "tokenized_sentences = [['this', 'is', 'one', 'cat', 'or', 'dog'],\n",
    "                       ['this', 'is', 'another', 'dog']]\n",
    "\n",
    "tfidf.fit_transform(tokenized_sentences)"
   ]
  },
  {
   "cell_type": "code",
   "execution_count": 29,
   "metadata": {},
   "outputs": [
    {
     "data": {
      "text/plain": [
       "['cat', 'cat dog', 'dog']"
      ]
     },
     "execution_count": 29,
     "metadata": {},
     "output_type": "execute_result"
    }
   ],
   "source": [
    "# test tfidf\n",
    "tfidf.get_feature_names()"
   ]
  },
  {
   "cell_type": "code",
   "execution_count": 30,
   "metadata": {},
   "outputs": [],
   "source": [
    "# Create a vocabulary and get word counts per document on train data columns ['space', 'description']\n",
    "\n",
    "dtm1 = tfidf.fit_transform(pre_docs)\n",
    "dtm2 = tfidf.fit_transform(pre_docs2)"
   ]
  },
  {
   "cell_type": "code",
   "execution_count": 31,
   "metadata": {},
   "outputs": [
    {
     "data": {
      "text/plain": [
       "<106868x5000 sparse matrix of type '<class 'numpy.float64'>'\n",
       "\twith 5717191 stored elements in Compressed Sparse Row format>"
      ]
     },
     "execution_count": 31,
     "metadata": {},
     "output_type": "execute_result"
    }
   ],
   "source": [
    "dtm1"
   ]
  },
  {
   "cell_type": "code",
   "execution_count": 32,
   "metadata": {},
   "outputs": [
    {
     "data": {
      "text/plain": [
       "<106868x5000 sparse matrix of type '<class 'numpy.float64'>'\n",
       "\twith 9405774 stored elements in Compressed Sparse Row format>"
      ]
     },
     "execution_count": 32,
     "metadata": {},
     "output_type": "execute_result"
    }
   ],
   "source": [
    "dtm2"
   ]
  },
  {
   "cell_type": "code",
   "execution_count": 33,
   "metadata": {},
   "outputs": [],
   "source": [
    "# Create a vocabulary and get word counts per document on test data columns ['space', 'description']\n",
    "\n",
    "dtm3 = tfidf.transform(pre_docs3)\n",
    "dtm4 = tfidf.transform(pre_docs4)"
   ]
  },
  {
   "cell_type": "code",
   "execution_count": 34,
   "metadata": {},
   "outputs": [
    {
     "name": "stdout",
     "output_type": "stream",
     "text": [
      "Shape:  (106868, 5000)\n"
     ]
    },
    {
     "data": {
      "text/html": [
       "<div>\n",
       "<style scoped>\n",
       "    .dataframe tbody tr th:only-of-type {\n",
       "        vertical-align: middle;\n",
       "    }\n",
       "\n",
       "    .dataframe tbody tr th {\n",
       "        vertical-align: top;\n",
       "    }\n",
       "\n",
       "    .dataframe thead th {\n",
       "        text-align: right;\n",
       "    }\n",
       "</style>\n",
       "<table border=\"1\" class=\"dataframe\">\n",
       "  <thead>\n",
       "    <tr style=\"text-align: right;\">\n",
       "      <th></th>\n",
       "      <th>00</th>\n",
       "      <th>00 pm</th>\n",
       "      <th>000</th>\n",
       "      <th>000 space</th>\n",
       "      <th>10</th>\n",
       "      <th>10 15</th>\n",
       "      <th>10 mile</th>\n",
       "      <th>10 min</th>\n",
       "      <th>10 minute</th>\n",
       "      <th>100</th>\n",
       "      <th>...</th>\n",
       "      <th>youtube</th>\n",
       "      <th>zen</th>\n",
       "      <th>zero</th>\n",
       "      <th>zeus</th>\n",
       "      <th>zeus focus</th>\n",
       "      <th>zeus property</th>\n",
       "      <th>zilker</th>\n",
       "      <th>zilker park</th>\n",
       "      <th>zone</th>\n",
       "      <th>zoo</th>\n",
       "    </tr>\n",
       "  </thead>\n",
       "  <tbody>\n",
       "    <tr>\n",
       "      <th>0</th>\n",
       "      <td>0.0</td>\n",
       "      <td>0.0</td>\n",
       "      <td>0.237371</td>\n",
       "      <td>0.0</td>\n",
       "      <td>0.0</td>\n",
       "      <td>0.0</td>\n",
       "      <td>0.0</td>\n",
       "      <td>0.0</td>\n",
       "      <td>0.0</td>\n",
       "      <td>0.0</td>\n",
       "      <td>...</td>\n",
       "      <td>0.0</td>\n",
       "      <td>0.0</td>\n",
       "      <td>0.0</td>\n",
       "      <td>0.0</td>\n",
       "      <td>0.0</td>\n",
       "      <td>0.0</td>\n",
       "      <td>0.0</td>\n",
       "      <td>0.0</td>\n",
       "      <td>0.0</td>\n",
       "      <td>0.0</td>\n",
       "    </tr>\n",
       "    <tr>\n",
       "      <th>1</th>\n",
       "      <td>0.0</td>\n",
       "      <td>0.0</td>\n",
       "      <td>0.000000</td>\n",
       "      <td>0.0</td>\n",
       "      <td>0.0</td>\n",
       "      <td>0.0</td>\n",
       "      <td>0.0</td>\n",
       "      <td>0.0</td>\n",
       "      <td>0.0</td>\n",
       "      <td>0.0</td>\n",
       "      <td>...</td>\n",
       "      <td>0.0</td>\n",
       "      <td>0.0</td>\n",
       "      <td>0.0</td>\n",
       "      <td>0.0</td>\n",
       "      <td>0.0</td>\n",
       "      <td>0.0</td>\n",
       "      <td>0.0</td>\n",
       "      <td>0.0</td>\n",
       "      <td>0.0</td>\n",
       "      <td>0.0</td>\n",
       "    </tr>\n",
       "  </tbody>\n",
       "</table>\n",
       "<p>2 rows × 5000 columns</p>\n",
       "</div>"
      ],
      "text/plain": [
       "    00  00 pm       000  000 space   10  10 15  10 mile  10 min  10 minute  \\\n",
       "0  0.0    0.0  0.237371        0.0  0.0    0.0      0.0     0.0        0.0   \n",
       "1  0.0    0.0  0.000000        0.0  0.0    0.0      0.0     0.0        0.0   \n",
       "\n",
       "   100  ...  youtube  zen  zero  zeus  zeus focus  zeus property  zilker  \\\n",
       "0  0.0  ...      0.0  0.0   0.0   0.0         0.0            0.0     0.0   \n",
       "1  0.0  ...      0.0  0.0   0.0   0.0         0.0            0.0     0.0   \n",
       "\n",
       "   zilker park  zone  zoo  \n",
       "0          0.0   0.0  0.0  \n",
       "1          0.0   0.0  0.0  \n",
       "\n",
       "[2 rows x 5000 columns]"
      ]
     },
     "execution_count": 34,
     "metadata": {},
     "output_type": "execute_result"
    }
   ],
   "source": [
    "# Print word counts\n",
    "\n",
    "dtm1_df = pd.DataFrame(dtm1.todense(), columns=tfidf.get_feature_names())\n",
    "print('Shape: ', dtm1_df.shape)\n",
    "dtm1_df.head(2)"
   ]
  },
  {
   "cell_type": "code",
   "execution_count": 35,
   "metadata": {},
   "outputs": [
    {
     "name": "stdout",
     "output_type": "stream",
     "text": [
      "Shape:  (106868, 5000)\n"
     ]
    },
    {
     "data": {
      "text/html": [
       "<div>\n",
       "<style scoped>\n",
       "    .dataframe tbody tr th:only-of-type {\n",
       "        vertical-align: middle;\n",
       "    }\n",
       "\n",
       "    .dataframe tbody tr th {\n",
       "        vertical-align: top;\n",
       "    }\n",
       "\n",
       "    .dataframe thead th {\n",
       "        text-align: right;\n",
       "    }\n",
       "</style>\n",
       "<table border=\"1\" class=\"dataframe\">\n",
       "  <thead>\n",
       "    <tr style=\"text-align: right;\">\n",
       "      <th></th>\n",
       "      <th>00</th>\n",
       "      <th>00 pm</th>\n",
       "      <th>000</th>\n",
       "      <th>000 space</th>\n",
       "      <th>10</th>\n",
       "      <th>10 15</th>\n",
       "      <th>10 mile</th>\n",
       "      <th>10 min</th>\n",
       "      <th>10 minute</th>\n",
       "      <th>100</th>\n",
       "      <th>...</th>\n",
       "      <th>youtube</th>\n",
       "      <th>zen</th>\n",
       "      <th>zero</th>\n",
       "      <th>zeus</th>\n",
       "      <th>zeus focus</th>\n",
       "      <th>zeus property</th>\n",
       "      <th>zilker</th>\n",
       "      <th>zilker park</th>\n",
       "      <th>zone</th>\n",
       "      <th>zoo</th>\n",
       "    </tr>\n",
       "  </thead>\n",
       "  <tbody>\n",
       "    <tr>\n",
       "      <th>0</th>\n",
       "      <td>0.0</td>\n",
       "      <td>0.0</td>\n",
       "      <td>0.239107</td>\n",
       "      <td>0.0</td>\n",
       "      <td>0.0</td>\n",
       "      <td>0.0</td>\n",
       "      <td>0.0</td>\n",
       "      <td>0.0</td>\n",
       "      <td>0.0</td>\n",
       "      <td>0.0</td>\n",
       "      <td>...</td>\n",
       "      <td>0.0</td>\n",
       "      <td>0.0</td>\n",
       "      <td>0.0</td>\n",
       "      <td>0.0</td>\n",
       "      <td>0.0</td>\n",
       "      <td>0.0</td>\n",
       "      <td>0.0</td>\n",
       "      <td>0.0</td>\n",
       "      <td>0.0</td>\n",
       "      <td>0.0</td>\n",
       "    </tr>\n",
       "    <tr>\n",
       "      <th>1</th>\n",
       "      <td>0.0</td>\n",
       "      <td>0.0</td>\n",
       "      <td>0.124415</td>\n",
       "      <td>0.0</td>\n",
       "      <td>0.0</td>\n",
       "      <td>0.0</td>\n",
       "      <td>0.0</td>\n",
       "      <td>0.0</td>\n",
       "      <td>0.0</td>\n",
       "      <td>0.0</td>\n",
       "      <td>...</td>\n",
       "      <td>0.0</td>\n",
       "      <td>0.0</td>\n",
       "      <td>0.0</td>\n",
       "      <td>0.0</td>\n",
       "      <td>0.0</td>\n",
       "      <td>0.0</td>\n",
       "      <td>0.0</td>\n",
       "      <td>0.0</td>\n",
       "      <td>0.0</td>\n",
       "      <td>0.0</td>\n",
       "    </tr>\n",
       "    <tr>\n",
       "      <th>2</th>\n",
       "      <td>0.0</td>\n",
       "      <td>0.0</td>\n",
       "      <td>0.000000</td>\n",
       "      <td>0.0</td>\n",
       "      <td>0.0</td>\n",
       "      <td>0.0</td>\n",
       "      <td>0.0</td>\n",
       "      <td>0.0</td>\n",
       "      <td>0.0</td>\n",
       "      <td>0.0</td>\n",
       "      <td>...</td>\n",
       "      <td>0.0</td>\n",
       "      <td>0.0</td>\n",
       "      <td>0.0</td>\n",
       "      <td>0.0</td>\n",
       "      <td>0.0</td>\n",
       "      <td>0.0</td>\n",
       "      <td>0.0</td>\n",
       "      <td>0.0</td>\n",
       "      <td>0.0</td>\n",
       "      <td>0.0</td>\n",
       "    </tr>\n",
       "    <tr>\n",
       "      <th>3</th>\n",
       "      <td>0.0</td>\n",
       "      <td>0.0</td>\n",
       "      <td>0.000000</td>\n",
       "      <td>0.0</td>\n",
       "      <td>0.0</td>\n",
       "      <td>0.0</td>\n",
       "      <td>0.0</td>\n",
       "      <td>0.0</td>\n",
       "      <td>0.0</td>\n",
       "      <td>0.0</td>\n",
       "      <td>...</td>\n",
       "      <td>0.0</td>\n",
       "      <td>0.0</td>\n",
       "      <td>0.0</td>\n",
       "      <td>0.0</td>\n",
       "      <td>0.0</td>\n",
       "      <td>0.0</td>\n",
       "      <td>0.0</td>\n",
       "      <td>0.0</td>\n",
       "      <td>0.0</td>\n",
       "      <td>0.0</td>\n",
       "    </tr>\n",
       "    <tr>\n",
       "      <th>4</th>\n",
       "      <td>0.0</td>\n",
       "      <td>0.0</td>\n",
       "      <td>0.000000</td>\n",
       "      <td>0.0</td>\n",
       "      <td>0.0</td>\n",
       "      <td>0.0</td>\n",
       "      <td>0.0</td>\n",
       "      <td>0.0</td>\n",
       "      <td>0.0</td>\n",
       "      <td>0.0</td>\n",
       "      <td>...</td>\n",
       "      <td>0.0</td>\n",
       "      <td>0.0</td>\n",
       "      <td>0.0</td>\n",
       "      <td>0.0</td>\n",
       "      <td>0.0</td>\n",
       "      <td>0.0</td>\n",
       "      <td>0.0</td>\n",
       "      <td>0.0</td>\n",
       "      <td>0.0</td>\n",
       "      <td>0.0</td>\n",
       "    </tr>\n",
       "  </tbody>\n",
       "</table>\n",
       "<p>5 rows × 5000 columns</p>\n",
       "</div>"
      ],
      "text/plain": [
       "    00  00 pm       000  000 space   10  10 15  10 mile  10 min  10 minute  \\\n",
       "0  0.0    0.0  0.239107        0.0  0.0    0.0      0.0     0.0        0.0   \n",
       "1  0.0    0.0  0.124415        0.0  0.0    0.0      0.0     0.0        0.0   \n",
       "2  0.0    0.0  0.000000        0.0  0.0    0.0      0.0     0.0        0.0   \n",
       "3  0.0    0.0  0.000000        0.0  0.0    0.0      0.0     0.0        0.0   \n",
       "4  0.0    0.0  0.000000        0.0  0.0    0.0      0.0     0.0        0.0   \n",
       "\n",
       "   100  ...  youtube  zen  zero  zeus  zeus focus  zeus property  zilker  \\\n",
       "0  0.0  ...      0.0  0.0   0.0   0.0         0.0            0.0     0.0   \n",
       "1  0.0  ...      0.0  0.0   0.0   0.0         0.0            0.0     0.0   \n",
       "2  0.0  ...      0.0  0.0   0.0   0.0         0.0            0.0     0.0   \n",
       "3  0.0  ...      0.0  0.0   0.0   0.0         0.0            0.0     0.0   \n",
       "4  0.0  ...      0.0  0.0   0.0   0.0         0.0            0.0     0.0   \n",
       "\n",
       "   zilker park  zone  zoo  \n",
       "0          0.0   0.0  0.0  \n",
       "1          0.0   0.0  0.0  \n",
       "2          0.0   0.0  0.0  \n",
       "3          0.0   0.0  0.0  \n",
       "4          0.0   0.0  0.0  \n",
       "\n",
       "[5 rows x 5000 columns]"
      ]
     },
     "execution_count": 35,
     "metadata": {},
     "output_type": "execute_result"
    }
   ],
   "source": [
    "# Print word counts\n",
    "# Get feature names to use as dataframe column headers\n",
    "\n",
    "dtm2_df = pd.DataFrame(dtm2.todense(), columns=tfidf.get_feature_names())\n",
    "\n",
    "# View Feature Matrix as DataFrame\n",
    "print('Shape: ', dtm2_df.shape)\n",
    "dtm2_df.head()"
   ]
  },
  {
   "cell_type": "code",
   "execution_count": 36,
   "metadata": {},
   "outputs": [
    {
     "data": {
      "text/plain": [
       "((26717, 5000), (26717, 5000))"
      ]
     },
     "execution_count": 36,
     "metadata": {},
     "output_type": "execute_result"
    }
   ],
   "source": [
    "# test data \n",
    "dtm3_df = pd.DataFrame(dtm3.todense(), columns=tfidf.get_feature_names())\n",
    "dtm4_df = pd.DataFrame(dtm4.todense(), columns=tfidf.get_feature_names())\n",
    "\n",
    "dtm3_df.shape, dtm4_df.shape"
   ]
  },
  {
   "cell_type": "code",
   "execution_count": 37,
   "metadata": {},
   "outputs": [
    {
     "data": {
      "text/html": [
       "<div>\n",
       "<style scoped>\n",
       "    .dataframe tbody tr th:only-of-type {\n",
       "        vertical-align: middle;\n",
       "    }\n",
       "\n",
       "    .dataframe tbody tr th {\n",
       "        vertical-align: top;\n",
       "    }\n",
       "\n",
       "    .dataframe thead th {\n",
       "        text-align: right;\n",
       "    }\n",
       "</style>\n",
       "<table border=\"1\" class=\"dataframe\">\n",
       "  <thead>\n",
       "    <tr style=\"text-align: right;\">\n",
       "      <th></th>\n",
       "      <th>space</th>\n",
       "      <th>description</th>\n",
       "      <th>city</th>\n",
       "      <th>security_deposit</th>\n",
       "      <th>guests_included</th>\n",
       "      <th>extra_people</th>\n",
       "      <th>minimum_nights</th>\n",
       "      <th>maximum_nights</th>\n",
       "      <th>review_scores_rating</th>\n",
       "      <th>state_1</th>\n",
       "      <th>...</th>\n",
       "      <th>state_11</th>\n",
       "      <th>state_12</th>\n",
       "      <th>state_13</th>\n",
       "      <th>state_14</th>\n",
       "      <th>state_15</th>\n",
       "      <th>state_16</th>\n",
       "      <th>room_type_1</th>\n",
       "      <th>room_type_2</th>\n",
       "      <th>room_type_3</th>\n",
       "      <th>room_type_4</th>\n",
       "    </tr>\n",
       "  </thead>\n",
       "  <tbody>\n",
       "    <tr>\n",
       "      <th>4128</th>\n",
       "      <td>Everyone talks about Williamsburg as if Bedfor...</td>\n",
       "      <td>Modern, vibrantly painted 1B with large backya...</td>\n",
       "      <td>1</td>\n",
       "      <td>250.0</td>\n",
       "      <td>1</td>\n",
       "      <td>0.0</td>\n",
       "      <td>2</td>\n",
       "      <td>1125</td>\n",
       "      <td>100.0</td>\n",
       "      <td>1</td>\n",
       "      <td>...</td>\n",
       "      <td>0</td>\n",
       "      <td>0</td>\n",
       "      <td>0</td>\n",
       "      <td>0</td>\n",
       "      <td>0</td>\n",
       "      <td>0</td>\n",
       "      <td>1</td>\n",
       "      <td>0</td>\n",
       "      <td>0</td>\n",
       "      <td>0</td>\n",
       "    </tr>\n",
       "  </tbody>\n",
       "</table>\n",
       "<p>1 rows × 29 columns</p>\n",
       "</div>"
      ],
      "text/plain": [
       "                                                  space  \\\n",
       "4128  Everyone talks about Williamsburg as if Bedfor...   \n",
       "\n",
       "                                            description  city  \\\n",
       "4128  Modern, vibrantly painted 1B with large backya...     1   \n",
       "\n",
       "      security_deposit  guests_included  extra_people  minimum_nights  \\\n",
       "4128             250.0                1           0.0               2   \n",
       "\n",
       "      maximum_nights  review_scores_rating  state_1  ...  state_11  state_12  \\\n",
       "4128            1125                 100.0        1  ...         0         0   \n",
       "\n",
       "      state_13  state_14  state_15  state_16  room_type_1  room_type_2  \\\n",
       "4128         0         0         0         0            1            0   \n",
       "\n",
       "      room_type_3  room_type_4  \n",
       "4128            0            0  \n",
       "\n",
       "[1 rows x 29 columns]"
      ]
     },
     "execution_count": 37,
     "metadata": {},
     "output_type": "execute_result"
    }
   ],
   "source": [
    "X_train.head(1)"
   ]
  },
  {
   "cell_type": "code",
   "execution_count": 38,
   "metadata": {},
   "outputs": [],
   "source": [
    "X_train_copy = X_train.drop(columns=['space', 'description'], axis=1)\n",
    "X_test_copy = X_test.drop(columns=['space', 'description'], axis=1)"
   ]
  },
  {
   "cell_type": "code",
   "execution_count": 39,
   "metadata": {},
   "outputs": [
    {
     "data": {
      "text/html": [
       "<div>\n",
       "<style scoped>\n",
       "    .dataframe tbody tr th:only-of-type {\n",
       "        vertical-align: middle;\n",
       "    }\n",
       "\n",
       "    .dataframe tbody tr th {\n",
       "        vertical-align: top;\n",
       "    }\n",
       "\n",
       "    .dataframe thead th {\n",
       "        text-align: right;\n",
       "    }\n",
       "</style>\n",
       "<table border=\"1\" class=\"dataframe\">\n",
       "  <thead>\n",
       "    <tr style=\"text-align: right;\">\n",
       "      <th></th>\n",
       "      <th>city</th>\n",
       "      <th>security_deposit</th>\n",
       "      <th>guests_included</th>\n",
       "      <th>extra_people</th>\n",
       "      <th>minimum_nights</th>\n",
       "      <th>maximum_nights</th>\n",
       "      <th>review_scores_rating</th>\n",
       "      <th>state_1</th>\n",
       "      <th>state_2</th>\n",
       "      <th>state_3</th>\n",
       "      <th>...</th>\n",
       "      <th>state_11</th>\n",
       "      <th>state_12</th>\n",
       "      <th>state_13</th>\n",
       "      <th>state_14</th>\n",
       "      <th>state_15</th>\n",
       "      <th>state_16</th>\n",
       "      <th>room_type_1</th>\n",
       "      <th>room_type_2</th>\n",
       "      <th>room_type_3</th>\n",
       "      <th>room_type_4</th>\n",
       "    </tr>\n",
       "  </thead>\n",
       "  <tbody>\n",
       "    <tr>\n",
       "      <th>4128</th>\n",
       "      <td>1</td>\n",
       "      <td>250.0</td>\n",
       "      <td>1</td>\n",
       "      <td>0.0</td>\n",
       "      <td>2</td>\n",
       "      <td>1125</td>\n",
       "      <td>100.0</td>\n",
       "      <td>1</td>\n",
       "      <td>0</td>\n",
       "      <td>0</td>\n",
       "      <td>...</td>\n",
       "      <td>0</td>\n",
       "      <td>0</td>\n",
       "      <td>0</td>\n",
       "      <td>0</td>\n",
       "      <td>0</td>\n",
       "      <td>0</td>\n",
       "      <td>1</td>\n",
       "      <td>0</td>\n",
       "      <td>0</td>\n",
       "      <td>0</td>\n",
       "    </tr>\n",
       "    <tr>\n",
       "      <th>122022</th>\n",
       "      <td>2</td>\n",
       "      <td>0.0</td>\n",
       "      <td>1</td>\n",
       "      <td>0.0</td>\n",
       "      <td>1</td>\n",
       "      <td>2</td>\n",
       "      <td>100.0</td>\n",
       "      <td>1</td>\n",
       "      <td>0</td>\n",
       "      <td>0</td>\n",
       "      <td>...</td>\n",
       "      <td>0</td>\n",
       "      <td>0</td>\n",
       "      <td>0</td>\n",
       "      <td>0</td>\n",
       "      <td>0</td>\n",
       "      <td>0</td>\n",
       "      <td>1</td>\n",
       "      <td>0</td>\n",
       "      <td>0</td>\n",
       "      <td>0</td>\n",
       "    </tr>\n",
       "    <tr>\n",
       "      <th>113213</th>\n",
       "      <td>3</td>\n",
       "      <td>300.0</td>\n",
       "      <td>2</td>\n",
       "      <td>55.0</td>\n",
       "      <td>28</td>\n",
       "      <td>1125</td>\n",
       "      <td>99.0</td>\n",
       "      <td>0</td>\n",
       "      <td>1</td>\n",
       "      <td>0</td>\n",
       "      <td>...</td>\n",
       "      <td>0</td>\n",
       "      <td>0</td>\n",
       "      <td>0</td>\n",
       "      <td>0</td>\n",
       "      <td>0</td>\n",
       "      <td>0</td>\n",
       "      <td>1</td>\n",
       "      <td>0</td>\n",
       "      <td>0</td>\n",
       "      <td>0</td>\n",
       "    </tr>\n",
       "    <tr>\n",
       "      <th>26550</th>\n",
       "      <td>1</td>\n",
       "      <td>0.0</td>\n",
       "      <td>1</td>\n",
       "      <td>0.0</td>\n",
       "      <td>2</td>\n",
       "      <td>4</td>\n",
       "      <td>93.0</td>\n",
       "      <td>1</td>\n",
       "      <td>0</td>\n",
       "      <td>0</td>\n",
       "      <td>...</td>\n",
       "      <td>0</td>\n",
       "      <td>0</td>\n",
       "      <td>0</td>\n",
       "      <td>0</td>\n",
       "      <td>0</td>\n",
       "      <td>0</td>\n",
       "      <td>1</td>\n",
       "      <td>0</td>\n",
       "      <td>0</td>\n",
       "      <td>0</td>\n",
       "    </tr>\n",
       "    <tr>\n",
       "      <th>91062</th>\n",
       "      <td>4</td>\n",
       "      <td>0.0</td>\n",
       "      <td>1</td>\n",
       "      <td>0.0</td>\n",
       "      <td>5</td>\n",
       "      <td>365</td>\n",
       "      <td>90.0</td>\n",
       "      <td>0</td>\n",
       "      <td>0</td>\n",
       "      <td>1</td>\n",
       "      <td>...</td>\n",
       "      <td>0</td>\n",
       "      <td>0</td>\n",
       "      <td>0</td>\n",
       "      <td>0</td>\n",
       "      <td>0</td>\n",
       "      <td>0</td>\n",
       "      <td>0</td>\n",
       "      <td>1</td>\n",
       "      <td>0</td>\n",
       "      <td>0</td>\n",
       "    </tr>\n",
       "  </tbody>\n",
       "</table>\n",
       "<p>5 rows × 27 columns</p>\n",
       "</div>"
      ],
      "text/plain": [
       "        city  security_deposit  guests_included  extra_people  minimum_nights  \\\n",
       "4128       1             250.0                1           0.0               2   \n",
       "122022     2               0.0                1           0.0               1   \n",
       "113213     3             300.0                2          55.0              28   \n",
       "26550      1               0.0                1           0.0               2   \n",
       "91062      4               0.0                1           0.0               5   \n",
       "\n",
       "        maximum_nights  review_scores_rating  state_1  state_2  state_3  ...  \\\n",
       "4128              1125                 100.0        1        0        0  ...   \n",
       "122022               2                 100.0        1        0        0  ...   \n",
       "113213            1125                  99.0        0        1        0  ...   \n",
       "26550                4                  93.0        1        0        0  ...   \n",
       "91062              365                  90.0        0        0        1  ...   \n",
       "\n",
       "        state_11  state_12  state_13  state_14  state_15  state_16  \\\n",
       "4128           0         0         0         0         0         0   \n",
       "122022         0         0         0         0         0         0   \n",
       "113213         0         0         0         0         0         0   \n",
       "26550          0         0         0         0         0         0   \n",
       "91062          0         0         0         0         0         0   \n",
       "\n",
       "        room_type_1  room_type_2  room_type_3  room_type_4  \n",
       "4128              1            0            0            0  \n",
       "122022            1            0            0            0  \n",
       "113213            1            0            0            0  \n",
       "26550             1            0            0            0  \n",
       "91062             0            1            0            0  \n",
       "\n",
       "[5 rows x 27 columns]"
      ]
     },
     "execution_count": 39,
     "metadata": {},
     "output_type": "execute_result"
    }
   ],
   "source": [
    "X_train_copy.head()"
   ]
  },
  {
   "cell_type": "markdown",
   "metadata": {},
   "source": [
    "## Train Model"
   ]
  },
  {
   "cell_type": "code",
   "execution_count": 40,
   "metadata": {},
   "outputs": [],
   "source": [
    "import numpy as np\n",
    "import os\n",
    "import datetime\n",
    "import tensorflow as tf\n",
    "\n",
    "from tensorflow.keras import Sequential\n",
    "from tensorflow.keras.layers import Dense, Flatten\n",
    "from tensorflow.keras.optimizers import RMSprop\n",
    "from tensorflow.keras.callbacks import TensorBoard\n",
    "from tensorflow.keras.callbacks import EarlyStopping\n",
    "from tensorflow.keras.layers import Dropout\n",
    "from tensorflow.keras import regularizers"
   ]
  },
  {
   "cell_type": "code",
   "execution_count": 41,
   "metadata": {},
   "outputs": [],
   "source": [
    "logdir = os.path.join(\"logs\", datetime.datetime.now().strftime(\"%Y%m%d-%H%M%S\"))\n",
    "tensorboard_callback = tf.keras.callbacks.TensorBoard(logdir, histogram_freq=1)"
   ]
  },
  {
   "cell_type": "code",
   "execution_count": 42,
   "metadata": {},
   "outputs": [
    {
     "data": {
      "text/plain": [
       "((106868, 27), (26717, 27))"
      ]
     },
     "execution_count": 42,
     "metadata": {},
     "output_type": "execute_result"
    }
   ],
   "source": [
    "X_train_copy.shape, X_test_copy.shape"
   ]
  },
  {
   "cell_type": "code",
   "execution_count": 43,
   "metadata": {},
   "outputs": [
    {
     "data": {
      "text/html": [
       "<div>\n",
       "<style scoped>\n",
       "    .dataframe tbody tr th:only-of-type {\n",
       "        vertical-align: middle;\n",
       "    }\n",
       "\n",
       "    .dataframe tbody tr th {\n",
       "        vertical-align: top;\n",
       "    }\n",
       "\n",
       "    .dataframe thead th {\n",
       "        text-align: right;\n",
       "    }\n",
       "</style>\n",
       "<table border=\"1\" class=\"dataframe\">\n",
       "  <thead>\n",
       "    <tr style=\"text-align: right;\">\n",
       "      <th></th>\n",
       "      <th>city</th>\n",
       "      <th>security_deposit</th>\n",
       "      <th>guests_included</th>\n",
       "      <th>extra_people</th>\n",
       "      <th>minimum_nights</th>\n",
       "      <th>maximum_nights</th>\n",
       "      <th>review_scores_rating</th>\n",
       "      <th>state_1</th>\n",
       "      <th>state_2</th>\n",
       "      <th>state_3</th>\n",
       "      <th>...</th>\n",
       "      <th>state_11</th>\n",
       "      <th>state_12</th>\n",
       "      <th>state_13</th>\n",
       "      <th>state_14</th>\n",
       "      <th>state_15</th>\n",
       "      <th>state_16</th>\n",
       "      <th>room_type_1</th>\n",
       "      <th>room_type_2</th>\n",
       "      <th>room_type_3</th>\n",
       "      <th>room_type_4</th>\n",
       "    </tr>\n",
       "  </thead>\n",
       "  <tbody>\n",
       "    <tr>\n",
       "      <th>4128</th>\n",
       "      <td>1</td>\n",
       "      <td>250.0</td>\n",
       "      <td>1</td>\n",
       "      <td>0.0</td>\n",
       "      <td>2</td>\n",
       "      <td>1125</td>\n",
       "      <td>100.0</td>\n",
       "      <td>1</td>\n",
       "      <td>0</td>\n",
       "      <td>0</td>\n",
       "      <td>...</td>\n",
       "      <td>0</td>\n",
       "      <td>0</td>\n",
       "      <td>0</td>\n",
       "      <td>0</td>\n",
       "      <td>0</td>\n",
       "      <td>0</td>\n",
       "      <td>1</td>\n",
       "      <td>0</td>\n",
       "      <td>0</td>\n",
       "      <td>0</td>\n",
       "    </tr>\n",
       "    <tr>\n",
       "      <th>122022</th>\n",
       "      <td>2</td>\n",
       "      <td>0.0</td>\n",
       "      <td>1</td>\n",
       "      <td>0.0</td>\n",
       "      <td>1</td>\n",
       "      <td>2</td>\n",
       "      <td>100.0</td>\n",
       "      <td>1</td>\n",
       "      <td>0</td>\n",
       "      <td>0</td>\n",
       "      <td>...</td>\n",
       "      <td>0</td>\n",
       "      <td>0</td>\n",
       "      <td>0</td>\n",
       "      <td>0</td>\n",
       "      <td>0</td>\n",
       "      <td>0</td>\n",
       "      <td>1</td>\n",
       "      <td>0</td>\n",
       "      <td>0</td>\n",
       "      <td>0</td>\n",
       "    </tr>\n",
       "    <tr>\n",
       "      <th>113213</th>\n",
       "      <td>3</td>\n",
       "      <td>300.0</td>\n",
       "      <td>2</td>\n",
       "      <td>55.0</td>\n",
       "      <td>28</td>\n",
       "      <td>1125</td>\n",
       "      <td>99.0</td>\n",
       "      <td>0</td>\n",
       "      <td>1</td>\n",
       "      <td>0</td>\n",
       "      <td>...</td>\n",
       "      <td>0</td>\n",
       "      <td>0</td>\n",
       "      <td>0</td>\n",
       "      <td>0</td>\n",
       "      <td>0</td>\n",
       "      <td>0</td>\n",
       "      <td>1</td>\n",
       "      <td>0</td>\n",
       "      <td>0</td>\n",
       "      <td>0</td>\n",
       "    </tr>\n",
       "    <tr>\n",
       "      <th>26550</th>\n",
       "      <td>1</td>\n",
       "      <td>0.0</td>\n",
       "      <td>1</td>\n",
       "      <td>0.0</td>\n",
       "      <td>2</td>\n",
       "      <td>4</td>\n",
       "      <td>93.0</td>\n",
       "      <td>1</td>\n",
       "      <td>0</td>\n",
       "      <td>0</td>\n",
       "      <td>...</td>\n",
       "      <td>0</td>\n",
       "      <td>0</td>\n",
       "      <td>0</td>\n",
       "      <td>0</td>\n",
       "      <td>0</td>\n",
       "      <td>0</td>\n",
       "      <td>1</td>\n",
       "      <td>0</td>\n",
       "      <td>0</td>\n",
       "      <td>0</td>\n",
       "    </tr>\n",
       "    <tr>\n",
       "      <th>91062</th>\n",
       "      <td>4</td>\n",
       "      <td>0.0</td>\n",
       "      <td>1</td>\n",
       "      <td>0.0</td>\n",
       "      <td>5</td>\n",
       "      <td>365</td>\n",
       "      <td>90.0</td>\n",
       "      <td>0</td>\n",
       "      <td>0</td>\n",
       "      <td>1</td>\n",
       "      <td>...</td>\n",
       "      <td>0</td>\n",
       "      <td>0</td>\n",
       "      <td>0</td>\n",
       "      <td>0</td>\n",
       "      <td>0</td>\n",
       "      <td>0</td>\n",
       "      <td>0</td>\n",
       "      <td>1</td>\n",
       "      <td>0</td>\n",
       "      <td>0</td>\n",
       "    </tr>\n",
       "  </tbody>\n",
       "</table>\n",
       "<p>5 rows × 27 columns</p>\n",
       "</div>"
      ],
      "text/plain": [
       "        city  security_deposit  guests_included  extra_people  minimum_nights  \\\n",
       "4128       1             250.0                1           0.0               2   \n",
       "122022     2               0.0                1           0.0               1   \n",
       "113213     3             300.0                2          55.0              28   \n",
       "26550      1               0.0                1           0.0               2   \n",
       "91062      4               0.0                1           0.0               5   \n",
       "\n",
       "        maximum_nights  review_scores_rating  state_1  state_2  state_3  ...  \\\n",
       "4128              1125                 100.0        1        0        0  ...   \n",
       "122022               2                 100.0        1        0        0  ...   \n",
       "113213            1125                  99.0        0        1        0  ...   \n",
       "26550                4                  93.0        1        0        0  ...   \n",
       "91062              365                  90.0        0        0        1  ...   \n",
       "\n",
       "        state_11  state_12  state_13  state_14  state_15  state_16  \\\n",
       "4128           0         0         0         0         0         0   \n",
       "122022         0         0         0         0         0         0   \n",
       "113213         0         0         0         0         0         0   \n",
       "26550          0         0         0         0         0         0   \n",
       "91062          0         0         0         0         0         0   \n",
       "\n",
       "        room_type_1  room_type_2  room_type_3  room_type_4  \n",
       "4128              1            0            0            0  \n",
       "122022            1            0            0            0  \n",
       "113213            1            0            0            0  \n",
       "26550             1            0            0            0  \n",
       "91062             0            1            0            0  \n",
       "\n",
       "[5 rows x 27 columns]"
      ]
     },
     "execution_count": 43,
     "metadata": {},
     "output_type": "execute_result"
    }
   ],
   "source": [
    "X_train_copy.head()"
   ]
  },
  {
   "cell_type": "code",
   "execution_count": 44,
   "metadata": {},
   "outputs": [
    {
     "data": {
      "text/html": [
       "<div>\n",
       "<style scoped>\n",
       "    .dataframe tbody tr th:only-of-type {\n",
       "        vertical-align: middle;\n",
       "    }\n",
       "\n",
       "    .dataframe tbody tr th {\n",
       "        vertical-align: top;\n",
       "    }\n",
       "\n",
       "    .dataframe thead th {\n",
       "        text-align: right;\n",
       "    }\n",
       "</style>\n",
       "<table border=\"1\" class=\"dataframe\">\n",
       "  <thead>\n",
       "    <tr style=\"text-align: right;\">\n",
       "      <th></th>\n",
       "      <th>city</th>\n",
       "      <th>security_deposit</th>\n",
       "      <th>guests_included</th>\n",
       "      <th>extra_people</th>\n",
       "      <th>minimum_nights</th>\n",
       "      <th>maximum_nights</th>\n",
       "      <th>review_scores_rating</th>\n",
       "      <th>state_1</th>\n",
       "      <th>state_2</th>\n",
       "      <th>state_3</th>\n",
       "      <th>...</th>\n",
       "      <th>state_11</th>\n",
       "      <th>state_12</th>\n",
       "      <th>state_13</th>\n",
       "      <th>state_14</th>\n",
       "      <th>state_15</th>\n",
       "      <th>state_16</th>\n",
       "      <th>room_type_1</th>\n",
       "      <th>room_type_2</th>\n",
       "      <th>room_type_3</th>\n",
       "      <th>room_type_4</th>\n",
       "    </tr>\n",
       "  </thead>\n",
       "  <tbody>\n",
       "    <tr>\n",
       "      <th>0</th>\n",
       "      <td>1</td>\n",
       "      <td>250.0</td>\n",
       "      <td>1</td>\n",
       "      <td>0.0</td>\n",
       "      <td>2</td>\n",
       "      <td>1125</td>\n",
       "      <td>100.0</td>\n",
       "      <td>1</td>\n",
       "      <td>0</td>\n",
       "      <td>0</td>\n",
       "      <td>...</td>\n",
       "      <td>0</td>\n",
       "      <td>0</td>\n",
       "      <td>0</td>\n",
       "      <td>0</td>\n",
       "      <td>0</td>\n",
       "      <td>0</td>\n",
       "      <td>1</td>\n",
       "      <td>0</td>\n",
       "      <td>0</td>\n",
       "      <td>0</td>\n",
       "    </tr>\n",
       "    <tr>\n",
       "      <th>1</th>\n",
       "      <td>2</td>\n",
       "      <td>0.0</td>\n",
       "      <td>1</td>\n",
       "      <td>0.0</td>\n",
       "      <td>1</td>\n",
       "      <td>2</td>\n",
       "      <td>100.0</td>\n",
       "      <td>1</td>\n",
       "      <td>0</td>\n",
       "      <td>0</td>\n",
       "      <td>...</td>\n",
       "      <td>0</td>\n",
       "      <td>0</td>\n",
       "      <td>0</td>\n",
       "      <td>0</td>\n",
       "      <td>0</td>\n",
       "      <td>0</td>\n",
       "      <td>1</td>\n",
       "      <td>0</td>\n",
       "      <td>0</td>\n",
       "      <td>0</td>\n",
       "    </tr>\n",
       "    <tr>\n",
       "      <th>2</th>\n",
       "      <td>3</td>\n",
       "      <td>300.0</td>\n",
       "      <td>2</td>\n",
       "      <td>55.0</td>\n",
       "      <td>28</td>\n",
       "      <td>1125</td>\n",
       "      <td>99.0</td>\n",
       "      <td>0</td>\n",
       "      <td>1</td>\n",
       "      <td>0</td>\n",
       "      <td>...</td>\n",
       "      <td>0</td>\n",
       "      <td>0</td>\n",
       "      <td>0</td>\n",
       "      <td>0</td>\n",
       "      <td>0</td>\n",
       "      <td>0</td>\n",
       "      <td>1</td>\n",
       "      <td>0</td>\n",
       "      <td>0</td>\n",
       "      <td>0</td>\n",
       "    </tr>\n",
       "    <tr>\n",
       "      <th>3</th>\n",
       "      <td>1</td>\n",
       "      <td>0.0</td>\n",
       "      <td>1</td>\n",
       "      <td>0.0</td>\n",
       "      <td>2</td>\n",
       "      <td>4</td>\n",
       "      <td>93.0</td>\n",
       "      <td>1</td>\n",
       "      <td>0</td>\n",
       "      <td>0</td>\n",
       "      <td>...</td>\n",
       "      <td>0</td>\n",
       "      <td>0</td>\n",
       "      <td>0</td>\n",
       "      <td>0</td>\n",
       "      <td>0</td>\n",
       "      <td>0</td>\n",
       "      <td>1</td>\n",
       "      <td>0</td>\n",
       "      <td>0</td>\n",
       "      <td>0</td>\n",
       "    </tr>\n",
       "    <tr>\n",
       "      <th>4</th>\n",
       "      <td>4</td>\n",
       "      <td>0.0</td>\n",
       "      <td>1</td>\n",
       "      <td>0.0</td>\n",
       "      <td>5</td>\n",
       "      <td>365</td>\n",
       "      <td>90.0</td>\n",
       "      <td>0</td>\n",
       "      <td>0</td>\n",
       "      <td>1</td>\n",
       "      <td>...</td>\n",
       "      <td>0</td>\n",
       "      <td>0</td>\n",
       "      <td>0</td>\n",
       "      <td>0</td>\n",
       "      <td>0</td>\n",
       "      <td>0</td>\n",
       "      <td>0</td>\n",
       "      <td>1</td>\n",
       "      <td>0</td>\n",
       "      <td>0</td>\n",
       "    </tr>\n",
       "  </tbody>\n",
       "</table>\n",
       "<p>5 rows × 27 columns</p>\n",
       "</div>"
      ],
      "text/plain": [
       "   city  security_deposit  guests_included  extra_people  minimum_nights  \\\n",
       "0     1             250.0                1           0.0               2   \n",
       "1     2               0.0                1           0.0               1   \n",
       "2     3             300.0                2          55.0              28   \n",
       "3     1               0.0                1           0.0               2   \n",
       "4     4               0.0                1           0.0               5   \n",
       "\n",
       "   maximum_nights  review_scores_rating  state_1  state_2  state_3  ...  \\\n",
       "0            1125                 100.0        1        0        0  ...   \n",
       "1               2                 100.0        1        0        0  ...   \n",
       "2            1125                  99.0        0        1        0  ...   \n",
       "3               4                  93.0        1        0        0  ...   \n",
       "4             365                  90.0        0        0        1  ...   \n",
       "\n",
       "   state_11  state_12  state_13  state_14  state_15  state_16  room_type_1  \\\n",
       "0         0         0         0         0         0         0            1   \n",
       "1         0         0         0         0         0         0            1   \n",
       "2         0         0         0         0         0         0            1   \n",
       "3         0         0         0         0         0         0            1   \n",
       "4         0         0         0         0         0         0            0   \n",
       "\n",
       "   room_type_2  room_type_3  room_type_4  \n",
       "0            0            0            0  \n",
       "1            0            0            0  \n",
       "2            0            0            0  \n",
       "3            0            0            0  \n",
       "4            1            0            0  \n",
       "\n",
       "[5 rows x 27 columns]"
      ]
     },
     "execution_count": 44,
     "metadata": {},
     "output_type": "execute_result"
    }
   ],
   "source": [
    "# reset index for conctenation with dtm matrices\n",
    "\n",
    "X_train_new = X_train_copy.reset_index()\n",
    "X_train_new.drop(columns=['index'], inplace=True)\n",
    "X_train_new.head()"
   ]
  },
  {
   "cell_type": "code",
   "execution_count": 45,
   "metadata": {},
   "outputs": [
    {
     "data": {
      "text/html": [
       "<div>\n",
       "<style scoped>\n",
       "    .dataframe tbody tr th:only-of-type {\n",
       "        vertical-align: middle;\n",
       "    }\n",
       "\n",
       "    .dataframe tbody tr th {\n",
       "        vertical-align: top;\n",
       "    }\n",
       "\n",
       "    .dataframe thead th {\n",
       "        text-align: right;\n",
       "    }\n",
       "</style>\n",
       "<table border=\"1\" class=\"dataframe\">\n",
       "  <thead>\n",
       "    <tr style=\"text-align: right;\">\n",
       "      <th></th>\n",
       "      <th>city</th>\n",
       "      <th>security_deposit</th>\n",
       "      <th>guests_included</th>\n",
       "      <th>extra_people</th>\n",
       "      <th>minimum_nights</th>\n",
       "      <th>maximum_nights</th>\n",
       "      <th>review_scores_rating</th>\n",
       "      <th>state_1</th>\n",
       "      <th>state_2</th>\n",
       "      <th>state_3</th>\n",
       "      <th>...</th>\n",
       "      <th>state_11</th>\n",
       "      <th>state_12</th>\n",
       "      <th>state_13</th>\n",
       "      <th>state_14</th>\n",
       "      <th>state_15</th>\n",
       "      <th>state_16</th>\n",
       "      <th>room_type_1</th>\n",
       "      <th>room_type_2</th>\n",
       "      <th>room_type_3</th>\n",
       "      <th>room_type_4</th>\n",
       "    </tr>\n",
       "  </thead>\n",
       "  <tbody>\n",
       "    <tr>\n",
       "      <th>0</th>\n",
       "      <td>1</td>\n",
       "      <td>250.0</td>\n",
       "      <td>1</td>\n",
       "      <td>0.0</td>\n",
       "      <td>2</td>\n",
       "      <td>1125</td>\n",
       "      <td>100.0</td>\n",
       "      <td>1</td>\n",
       "      <td>0</td>\n",
       "      <td>0</td>\n",
       "      <td>...</td>\n",
       "      <td>0</td>\n",
       "      <td>0</td>\n",
       "      <td>0</td>\n",
       "      <td>0</td>\n",
       "      <td>0</td>\n",
       "      <td>0</td>\n",
       "      <td>1</td>\n",
       "      <td>0</td>\n",
       "      <td>0</td>\n",
       "      <td>0</td>\n",
       "    </tr>\n",
       "    <tr>\n",
       "      <th>1</th>\n",
       "      <td>2</td>\n",
       "      <td>0.0</td>\n",
       "      <td>1</td>\n",
       "      <td>0.0</td>\n",
       "      <td>1</td>\n",
       "      <td>2</td>\n",
       "      <td>100.0</td>\n",
       "      <td>1</td>\n",
       "      <td>0</td>\n",
       "      <td>0</td>\n",
       "      <td>...</td>\n",
       "      <td>0</td>\n",
       "      <td>0</td>\n",
       "      <td>0</td>\n",
       "      <td>0</td>\n",
       "      <td>0</td>\n",
       "      <td>0</td>\n",
       "      <td>1</td>\n",
       "      <td>0</td>\n",
       "      <td>0</td>\n",
       "      <td>0</td>\n",
       "    </tr>\n",
       "    <tr>\n",
       "      <th>2</th>\n",
       "      <td>3</td>\n",
       "      <td>300.0</td>\n",
       "      <td>2</td>\n",
       "      <td>55.0</td>\n",
       "      <td>28</td>\n",
       "      <td>1125</td>\n",
       "      <td>99.0</td>\n",
       "      <td>0</td>\n",
       "      <td>1</td>\n",
       "      <td>0</td>\n",
       "      <td>...</td>\n",
       "      <td>0</td>\n",
       "      <td>0</td>\n",
       "      <td>0</td>\n",
       "      <td>0</td>\n",
       "      <td>0</td>\n",
       "      <td>0</td>\n",
       "      <td>1</td>\n",
       "      <td>0</td>\n",
       "      <td>0</td>\n",
       "      <td>0</td>\n",
       "    </tr>\n",
       "    <tr>\n",
       "      <th>3</th>\n",
       "      <td>1</td>\n",
       "      <td>0.0</td>\n",
       "      <td>1</td>\n",
       "      <td>0.0</td>\n",
       "      <td>2</td>\n",
       "      <td>4</td>\n",
       "      <td>93.0</td>\n",
       "      <td>1</td>\n",
       "      <td>0</td>\n",
       "      <td>0</td>\n",
       "      <td>...</td>\n",
       "      <td>0</td>\n",
       "      <td>0</td>\n",
       "      <td>0</td>\n",
       "      <td>0</td>\n",
       "      <td>0</td>\n",
       "      <td>0</td>\n",
       "      <td>1</td>\n",
       "      <td>0</td>\n",
       "      <td>0</td>\n",
       "      <td>0</td>\n",
       "    </tr>\n",
       "    <tr>\n",
       "      <th>4</th>\n",
       "      <td>4</td>\n",
       "      <td>0.0</td>\n",
       "      <td>1</td>\n",
       "      <td>0.0</td>\n",
       "      <td>5</td>\n",
       "      <td>365</td>\n",
       "      <td>90.0</td>\n",
       "      <td>0</td>\n",
       "      <td>0</td>\n",
       "      <td>1</td>\n",
       "      <td>...</td>\n",
       "      <td>0</td>\n",
       "      <td>0</td>\n",
       "      <td>0</td>\n",
       "      <td>0</td>\n",
       "      <td>0</td>\n",
       "      <td>0</td>\n",
       "      <td>0</td>\n",
       "      <td>1</td>\n",
       "      <td>0</td>\n",
       "      <td>0</td>\n",
       "    </tr>\n",
       "  </tbody>\n",
       "</table>\n",
       "<p>5 rows × 27 columns</p>\n",
       "</div>"
      ],
      "text/plain": [
       "   city  security_deposit  guests_included  extra_people  minimum_nights  \\\n",
       "0     1             250.0                1           0.0               2   \n",
       "1     2               0.0                1           0.0               1   \n",
       "2     3             300.0                2          55.0              28   \n",
       "3     1               0.0                1           0.0               2   \n",
       "4     4               0.0                1           0.0               5   \n",
       "\n",
       "   maximum_nights  review_scores_rating  state_1  state_2  state_3  ...  \\\n",
       "0            1125                 100.0        1        0        0  ...   \n",
       "1               2                 100.0        1        0        0  ...   \n",
       "2            1125                  99.0        0        1        0  ...   \n",
       "3               4                  93.0        1        0        0  ...   \n",
       "4             365                  90.0        0        0        1  ...   \n",
       "\n",
       "   state_11  state_12  state_13  state_14  state_15  state_16  room_type_1  \\\n",
       "0         0         0         0         0         0         0            1   \n",
       "1         0         0         0         0         0         0            1   \n",
       "2         0         0         0         0         0         0            1   \n",
       "3         0         0         0         0         0         0            1   \n",
       "4         0         0         0         0         0         0            0   \n",
       "\n",
       "   room_type_2  room_type_3  room_type_4  \n",
       "0            0            0            0  \n",
       "1            0            0            0  \n",
       "2            0            0            0  \n",
       "3            0            0            0  \n",
       "4            1            0            0  \n",
       "\n",
       "[5 rows x 27 columns]"
      ]
     },
     "execution_count": 45,
     "metadata": {},
     "output_type": "execute_result"
    }
   ],
   "source": [
    "# reset index for conctenation with dtm matrices\n",
    "\n",
    "X_test_new = X_test_copy.reset_index()\n",
    "X_test_new.drop(columns=['index'], inplace=True)\n",
    "X_train_new.head()"
   ]
  },
  {
   "cell_type": "code",
   "execution_count": 46,
   "metadata": {},
   "outputs": [],
   "source": [
    "# concat with dtm train\n",
    "\n",
    "X_train_new = pd.concat([X_train_new, dtm1_df], axis=1)\n",
    "X_train_new = pd.concat([X_train_new, dtm2_df], axis=1)"
   ]
  },
  {
   "cell_type": "code",
   "execution_count": 47,
   "metadata": {},
   "outputs": [
    {
     "data": {
      "text/html": [
       "<div>\n",
       "<style scoped>\n",
       "    .dataframe tbody tr th:only-of-type {\n",
       "        vertical-align: middle;\n",
       "    }\n",
       "\n",
       "    .dataframe tbody tr th {\n",
       "        vertical-align: top;\n",
       "    }\n",
       "\n",
       "    .dataframe thead th {\n",
       "        text-align: right;\n",
       "    }\n",
       "</style>\n",
       "<table border=\"1\" class=\"dataframe\">\n",
       "  <thead>\n",
       "    <tr style=\"text-align: right;\">\n",
       "      <th></th>\n",
       "      <th>city</th>\n",
       "      <th>security_deposit</th>\n",
       "      <th>guests_included</th>\n",
       "      <th>extra_people</th>\n",
       "      <th>minimum_nights</th>\n",
       "      <th>maximum_nights</th>\n",
       "      <th>review_scores_rating</th>\n",
       "      <th>state_1</th>\n",
       "      <th>state_2</th>\n",
       "      <th>state_3</th>\n",
       "      <th>...</th>\n",
       "      <th>youtube</th>\n",
       "      <th>zen</th>\n",
       "      <th>zero</th>\n",
       "      <th>zeus</th>\n",
       "      <th>zeus focus</th>\n",
       "      <th>zeus property</th>\n",
       "      <th>zilker</th>\n",
       "      <th>zilker park</th>\n",
       "      <th>zone</th>\n",
       "      <th>zoo</th>\n",
       "    </tr>\n",
       "  </thead>\n",
       "  <tbody>\n",
       "    <tr>\n",
       "      <th>0</th>\n",
       "      <td>1</td>\n",
       "      <td>250.0</td>\n",
       "      <td>1</td>\n",
       "      <td>0.0</td>\n",
       "      <td>2</td>\n",
       "      <td>1125</td>\n",
       "      <td>100.0</td>\n",
       "      <td>1</td>\n",
       "      <td>0</td>\n",
       "      <td>0</td>\n",
       "      <td>...</td>\n",
       "      <td>0.0</td>\n",
       "      <td>0.0</td>\n",
       "      <td>0.0</td>\n",
       "      <td>0.0</td>\n",
       "      <td>0.0</td>\n",
       "      <td>0.0</td>\n",
       "      <td>0.0</td>\n",
       "      <td>0.0</td>\n",
       "      <td>0.0</td>\n",
       "      <td>0.0</td>\n",
       "    </tr>\n",
       "    <tr>\n",
       "      <th>1</th>\n",
       "      <td>2</td>\n",
       "      <td>0.0</td>\n",
       "      <td>1</td>\n",
       "      <td>0.0</td>\n",
       "      <td>1</td>\n",
       "      <td>2</td>\n",
       "      <td>100.0</td>\n",
       "      <td>1</td>\n",
       "      <td>0</td>\n",
       "      <td>0</td>\n",
       "      <td>...</td>\n",
       "      <td>0.0</td>\n",
       "      <td>0.0</td>\n",
       "      <td>0.0</td>\n",
       "      <td>0.0</td>\n",
       "      <td>0.0</td>\n",
       "      <td>0.0</td>\n",
       "      <td>0.0</td>\n",
       "      <td>0.0</td>\n",
       "      <td>0.0</td>\n",
       "      <td>0.0</td>\n",
       "    </tr>\n",
       "    <tr>\n",
       "      <th>2</th>\n",
       "      <td>3</td>\n",
       "      <td>300.0</td>\n",
       "      <td>2</td>\n",
       "      <td>55.0</td>\n",
       "      <td>28</td>\n",
       "      <td>1125</td>\n",
       "      <td>99.0</td>\n",
       "      <td>0</td>\n",
       "      <td>1</td>\n",
       "      <td>0</td>\n",
       "      <td>...</td>\n",
       "      <td>0.0</td>\n",
       "      <td>0.0</td>\n",
       "      <td>0.0</td>\n",
       "      <td>0.0</td>\n",
       "      <td>0.0</td>\n",
       "      <td>0.0</td>\n",
       "      <td>0.0</td>\n",
       "      <td>0.0</td>\n",
       "      <td>0.0</td>\n",
       "      <td>0.0</td>\n",
       "    </tr>\n",
       "    <tr>\n",
       "      <th>3</th>\n",
       "      <td>1</td>\n",
       "      <td>0.0</td>\n",
       "      <td>1</td>\n",
       "      <td>0.0</td>\n",
       "      <td>2</td>\n",
       "      <td>4</td>\n",
       "      <td>93.0</td>\n",
       "      <td>1</td>\n",
       "      <td>0</td>\n",
       "      <td>0</td>\n",
       "      <td>...</td>\n",
       "      <td>0.0</td>\n",
       "      <td>0.0</td>\n",
       "      <td>0.0</td>\n",
       "      <td>0.0</td>\n",
       "      <td>0.0</td>\n",
       "      <td>0.0</td>\n",
       "      <td>0.0</td>\n",
       "      <td>0.0</td>\n",
       "      <td>0.0</td>\n",
       "      <td>0.0</td>\n",
       "    </tr>\n",
       "    <tr>\n",
       "      <th>4</th>\n",
       "      <td>4</td>\n",
       "      <td>0.0</td>\n",
       "      <td>1</td>\n",
       "      <td>0.0</td>\n",
       "      <td>5</td>\n",
       "      <td>365</td>\n",
       "      <td>90.0</td>\n",
       "      <td>0</td>\n",
       "      <td>0</td>\n",
       "      <td>1</td>\n",
       "      <td>...</td>\n",
       "      <td>0.0</td>\n",
       "      <td>0.0</td>\n",
       "      <td>0.0</td>\n",
       "      <td>0.0</td>\n",
       "      <td>0.0</td>\n",
       "      <td>0.0</td>\n",
       "      <td>0.0</td>\n",
       "      <td>0.0</td>\n",
       "      <td>0.0</td>\n",
       "      <td>0.0</td>\n",
       "    </tr>\n",
       "  </tbody>\n",
       "</table>\n",
       "<p>5 rows × 10027 columns</p>\n",
       "</div>"
      ],
      "text/plain": [
       "   city  security_deposit  guests_included  extra_people  minimum_nights  \\\n",
       "0     1             250.0                1           0.0               2   \n",
       "1     2               0.0                1           0.0               1   \n",
       "2     3             300.0                2          55.0              28   \n",
       "3     1               0.0                1           0.0               2   \n",
       "4     4               0.0                1           0.0               5   \n",
       "\n",
       "   maximum_nights  review_scores_rating  state_1  state_2  state_3  ...  \\\n",
       "0            1125                 100.0        1        0        0  ...   \n",
       "1               2                 100.0        1        0        0  ...   \n",
       "2            1125                  99.0        0        1        0  ...   \n",
       "3               4                  93.0        1        0        0  ...   \n",
       "4             365                  90.0        0        0        1  ...   \n",
       "\n",
       "   youtube  zen  zero  zeus  zeus focus  zeus property  zilker  zilker park  \\\n",
       "0      0.0  0.0   0.0   0.0         0.0            0.0     0.0          0.0   \n",
       "1      0.0  0.0   0.0   0.0         0.0            0.0     0.0          0.0   \n",
       "2      0.0  0.0   0.0   0.0         0.0            0.0     0.0          0.0   \n",
       "3      0.0  0.0   0.0   0.0         0.0            0.0     0.0          0.0   \n",
       "4      0.0  0.0   0.0   0.0         0.0            0.0     0.0          0.0   \n",
       "\n",
       "   zone  zoo  \n",
       "0   0.0  0.0  \n",
       "1   0.0  0.0  \n",
       "2   0.0  0.0  \n",
       "3   0.0  0.0  \n",
       "4   0.0  0.0  \n",
       "\n",
       "[5 rows x 10027 columns]"
      ]
     },
     "execution_count": 47,
     "metadata": {},
     "output_type": "execute_result"
    }
   ],
   "source": [
    "X_train_new.head()"
   ]
  },
  {
   "cell_type": "code",
   "execution_count": 48,
   "metadata": {},
   "outputs": [],
   "source": [
    "# concat with dtm test\n",
    "\n",
    "X_test_new = pd.concat([X_test_new, dtm3_df], axis=1)\n",
    "X_test_new = pd.concat([X_test_new, dtm4_df], axis=1)"
   ]
  },
  {
   "cell_type": "code",
   "execution_count": 49,
   "metadata": {},
   "outputs": [],
   "source": [
    "# scale and normalize data\n",
    "\n",
    "from sklearn.preprocessing import MinMaxScaler, Normalizer\n",
    "\n",
    "scaler = MinMaxScaler()\n",
    "normalize = Normalizer()\n",
    "\n",
    "scaled_X_train = scaler.fit_transform(X_train_new)\n",
    "scaled_X_test = scaler.fit_transform(X_test_new)\n",
    "\n",
    "normalized_X_train = normalize.fit_transform(scaled_X_train)\n",
    "normalized_X_test = normalize.transform(scaled_X_test)"
   ]
  },
  {
   "cell_type": "code",
   "execution_count": 50,
   "metadata": {},
   "outputs": [
    {
     "data": {
      "text/plain": [
       "((106868, 10027), (26717, 10027))"
      ]
     },
     "execution_count": 50,
     "metadata": {},
     "output_type": "execute_result"
    }
   ],
   "source": [
    "normalized_X_train.shape, normalized_X_test.shape"
   ]
  },
  {
   "cell_type": "code",
   "execution_count": 68,
   "metadata": {},
   "outputs": [
    {
     "name": "stdout",
     "output_type": "stream",
     "text": [
      "Train on 106868 samples, validate on 26717 samples\n",
      "Epoch 1/1000\n",
      "106868/106868 [==============================] - 33s 309us/sample - loss: 70803.5385 - mse: 70777.4531 - mae: 90.1631 - val_loss: 78598.3026 - val_mse: 78569.3516 - val_mae: 93.6542\n",
      "Epoch 2/1000\n",
      "106868/106868 [==============================] - 32s 297us/sample - loss: 66403.6806 - mse: 66373.7578 - mae: 86.2809 - val_loss: 75055.1794 - val_mse: 75025.0781 - val_mae: 88.3897\n",
      "Epoch 3/1000\n",
      "106868/106868 [==============================] - 32s 302us/sample - loss: 65387.7326 - mse: 65355.3438 - mae: 84.7262 - val_loss: 76516.1011 - val_mse: 76480.3828 - val_mae: 88.4631\n",
      "Epoch 4/1000\n",
      "106868/106868 [==============================] - 32s 296us/sample - loss: 64592.5562 - mse: 64549.9844 - mae: 83.5388 - val_loss: 75837.0497 - val_mse: 75786.7734 - val_mae: 86.7798\n",
      "Epoch 5/1000\n",
      "106868/106868 [==============================] - 35s 328us/sample - loss: 62913.5371 - mse: 62854.9414 - mae: 81.5932 - val_loss: 75242.4705 - val_mse: 75174.9453 - val_mae: 85.7102\n",
      "Epoch 6/1000\n",
      "106868/106868 [==============================] - 33s 312us/sample - loss: 61147.9087 - mse: 61069.3828 - mae: 79.5021 - val_loss: 74773.8511 - val_mse: 74684.1719 - val_mae: 86.5181\n",
      "Epoch 7/1000\n",
      "106868/106868 [==============================] - 34s 321us/sample - loss: 58614.1934 - mse: 58513.3320 - mae: 77.7706 - val_loss: 73029.5033 - val_mse: 72916.1172 - val_mae: 87.7557\n",
      "Epoch 8/1000\n",
      "106868/106868 [==============================] - 34s 321us/sample - loss: 56560.6014 - mse: 56434.9961 - mae: 76.4663 - val_loss: 73440.7906 - val_mse: 73303.9922 - val_mae: 87.0626\n"
     ]
    }
   ],
   "source": [
    "model = Sequential([\n",
    "    Flatten(),\n",
    "    Dense(256, input_dim=10027, activation='relu', kernel_regularizer=regularizers.l2(0.01)),\n",
    "    Dropout(0.1),\n",
    "    Dense(128, activation='relu', kernel_regularizer=regularizers.l2(0.01)),\n",
    "    Dropout(0.1),\n",
    "    Dense(128, activation='relu', kernel_regularizer=regularizers.l2(0.01)),\n",
    "    Dropout(0.1),\n",
    "    Dense(1)\n",
    "])\n",
    "\n",
    "optimizer = tf.keras.optimizers.RMSprop(0.001)\n",
    "\n",
    "epochs = 1000\n",
    "\n",
    "stop = EarlyStopping(monitor='val_mae', min_delta=0.01, patience=3)\n",
    "\n",
    "model.compile(loss='mse', optimizer=optimizer, metrics=['mse','mae'])\n",
    "\n",
    "history = model.fit(normalized_X_train, y_train.values, epochs=epochs, \n",
    "                    validation_data=(normalized_X_test, y_test.values),\n",
    "                    verbose=1,\n",
    "                    callbacks=[tensorboard_callback, stop])"
   ]
  },
  {
   "cell_type": "code",
   "execution_count": 69,
   "metadata": {},
   "outputs": [
    {
     "name": "stdout",
     "output_type": "stream",
     "text": [
      "Model: \"sequential_1\"\n",
      "_________________________________________________________________\n",
      "Layer (type)                 Output Shape              Param #   \n",
      "=================================================================\n",
      "flatten_1 (Flatten)          multiple                  0         \n",
      "_________________________________________________________________\n",
      "dense_4 (Dense)              multiple                  2567168   \n",
      "_________________________________________________________________\n",
      "dropout_3 (Dropout)          multiple                  0         \n",
      "_________________________________________________________________\n",
      "dense_5 (Dense)              multiple                  32896     \n",
      "_________________________________________________________________\n",
      "dropout_4 (Dropout)          multiple                  0         \n",
      "_________________________________________________________________\n",
      "dense_6 (Dense)              multiple                  16512     \n",
      "_________________________________________________________________\n",
      "dropout_5 (Dropout)          multiple                  0         \n",
      "_________________________________________________________________\n",
      "dense_7 (Dense)              multiple                  129       \n",
      "=================================================================\n",
      "Total params: 2,616,705\n",
      "Trainable params: 2,616,705\n",
      "Non-trainable params: 0\n",
      "_________________________________________________________________\n"
     ]
    }
   ],
   "source": [
    "model.summary()"
   ]
  },
  {
   "cell_type": "code",
   "execution_count": 73,
   "metadata": {},
   "outputs": [
    {
     "data": {
      "text/plain": [
       "[93.654236,\n",
       " 88.38974,\n",
       " 88.46311,\n",
       " 86.77982,\n",
       " 85.71017,\n",
       " 86.518105,\n",
       " 87.75566,\n",
       " 87.06262]"
      ]
     },
     "execution_count": 73,
     "metadata": {},
     "output_type": "execute_result"
    }
   ],
   "source": [
    "history.history['val_mae']"
   ]
  },
  {
   "cell_type": "code",
   "execution_count": 74,
   "metadata": {},
   "outputs": [
    {
     "data": {
      "image/png": "[encoded data removed]",
      "text/plain": [
       "<Figure size 432x288 with 1 Axes>"
      ]
     },
     "metadata": {
      "needs_background": "light"
     },
     "output_type": "display_data"
    }
   ],
   "source": [
    "import matplotlib.pyplot as plt\n",
    "\n",
    "# Plot training & validation loss values\n",
    "plt.plot(history.history['mae'])\n",
    "plt.plot(history.history['val_mae'])\n",
    "plt.title('Model (fully-connected) mae')\n",
    "plt.ylabel('MAE')\n",
    "plt.xlabel('Epoch')\n",
    "plt.legend(['Train', 'Valid'], loc='upper left')\n",
    "plt.show();"
   ]
  },
  {
   "cell_type": "code",
   "execution_count": 76,
   "metadata": {},
   "outputs": [],
   "source": [
    "%load_ext tensorboard"
   ]
  },
  {
   "cell_type": "code",
   "execution_count": 78,
   "metadata": {},
   "outputs": [
    {
     "data": {
      "text/plain": [
       "Reusing TensorBoard on port 6006 (pid 12488), started 0:00:57 ago. (Use '!kill 12488' to kill it.)"
      ]
     },
     "metadata": {},
     "output_type": "display_data"
    },
    {
     "data": {
      "text/html": [
       "\n",
       "      <iframe id=\"tensorboard-frame-fbcacc8c88fc1f15\" width=\"100%\" height=\"800\" frameborder=\"0\">\n",
       "      </iframe>\n",
       "      <script>\n",
       "        (function() {\n",
       "          const frame = document.getElementById(\"tensorboard-frame-fbcacc8c88fc1f15\");\n",
       "          const url = new URL(\"/\", window.location);\n",
       "          url.port = 6006;\n",
       "          frame.src = url;\n",
       "        })();\n",
       "      </script>\n",
       "  "
      ],
      "text/plain": [
       "<IPython.core.display.HTML object>"
      ]
     },
     "metadata": {},
     "output_type": "display_data"
    }
   ],
   "source": [
    "%tensorboard --logdir logs"
   ]
  },
  {
   "cell_type": "code",
   "execution_count": 79,
   "metadata": {},
   "outputs": [
    {
     "name": "stdout",
     "output_type": "stream",
     "text": [
      "26717/26717 [==============================] - 3s 123us/sample - loss: 73440.7906 - mse: 73303.9922 - mae: 87.0626\n"
     ]
    }
   ],
   "source": [
    "scores = model.evaluate(normalized_X_test,y_test.values)"
   ]
  },
  {
   "cell_type": "code",
   "execution_count": 80,
   "metadata": {},
   "outputs": [],
   "source": [
    "predictions = model.predict(normalized_X_test)"
   ]
  },
  {
   "cell_type": "code",
   "execution_count": 63,
   "metadata": {},
   "outputs": [
    {
     "data": {
      "text/plain": [
       "array([100.42376], dtype=float32)"
      ]
     },
     "execution_count": 63,
     "metadata": {},
     "output_type": "execute_result"
    }
   ],
   "source": [
    "predictions[1]"
   ]
  },
  {
   "cell_type": "code",
   "execution_count": 64,
   "metadata": {},
   "outputs": [
    {
     "data": {
      "text/html": [
       "<div>\n",
       "<style scoped>\n",
       "    .dataframe tbody tr th:only-of-type {\n",
       "        vertical-align: middle;\n",
       "    }\n",
       "\n",
       "    .dataframe tbody tr th {\n",
       "        vertical-align: top;\n",
       "    }\n",
       "\n",
       "    .dataframe thead th {\n",
       "        text-align: right;\n",
       "    }\n",
       "</style>\n",
       "<table border=\"1\" class=\"dataframe\">\n",
       "  <thead>\n",
       "    <tr style=\"text-align: right;\">\n",
       "      <th></th>\n",
       "      <th>price</th>\n",
       "    </tr>\n",
       "  </thead>\n",
       "  <tbody>\n",
       "    <tr>\n",
       "      <th>20797</th>\n",
       "      <td>95.0</td>\n",
       "    </tr>\n",
       "  </tbody>\n",
       "</table>\n",
       "</div>"
      ],
      "text/plain": [
       "       price\n",
       "20797   95.0"
      ]
     },
     "execution_count": 64,
     "metadata": {},
     "output_type": "execute_result"
    }
   ],
   "source": [
    "y_test[1:2]"
   ]
  },
  {
   "cell_type": "code",
   "execution_count": 89,
   "metadata": {},
   "outputs": [],
   "source": [
    "model.save('model.h5')"
   ]
  }
 ],
 "metadata": {
  "kernelspec": {
   "display_name": "Python 3",
   "language": "python",
   "name": "python3"
  },
  "language_info": {
   "codemirror_mode": {
    "name": "ipython",
    "version": 3
   },
   "file_extension": ".py",
   "mimetype": "text/x-python",
   "name": "python",
   "nbconvert_exporter": "python",
   "pygments_lexer": "ipython3",
   "version": "3.7.6"
  }
 },
 "nbformat": 4,
 "nbformat_minor": 4
}
