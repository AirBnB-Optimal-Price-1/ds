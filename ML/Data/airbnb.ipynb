{
  "nbformat": 4,
  "nbformat_minor": 0,
  "metadata": {
    "kernelspec": {
      "display_name": "Python 3",
      "language": "python",
      "name": "python3"
    },
    "language_info": {
      "codemirror_mode": {
        "name": "ipython",
        "version": 3
      },
      "file_extension": ".py",
      "mimetype": "text/x-python",
      "name": "python",
      "nbconvert_exporter": "python",
      "pygments_lexer": "ipython3",
      "version": "3.7.6"
    },
    "colab": {
      "name": "airbnb.ipynb",
      "provenance": []
    }
  },
  "cells": [
    {
      "cell_type": "markdown",
      "metadata": {
        "id": "ujEUEaC1cIqd",
        "colab_type": "text"
      },
      "source": [
        "## Collecting data"
      ]
    },
    {
      "cell_type": "code",
      "metadata": {
        "id": "ld5mXrVQcIqe",
        "colab_type": "code",
        "colab": {}
      },
      "source": [
        "import pandas as pd\n",
        "import glob"
      ],
      "execution_count": null,
      "outputs": []
    },
    {
      "cell_type": "code",
      "metadata": {
        "id": "BAg-Ig7EcIqi",
        "colab_type": "code",
        "colab": {},
        "outputId": "546b1aab-77d6-4d04-b616-29419f8e0e9c"
      },
      "source": [
        "# combine csv's to one big csv\n",
        "path = 'data/'\n",
        "all_files = glob.glob(path + \"*.csv\")\n",
        "df = pd.concat((pd.read_csv(f) for f in all_files))\n",
        "\n",
        "from sklearn.utils import shuffle\n",
        "df = shuffle(df)\n",
        "\n",
        "df.to_csv('combined.csv', index=False)"
      ],
      "execution_count": null,
      "outputs": [
        {
          "output_type": "stream",
          "text": [
            "c:\\users\\tigju\\anaconda3\\envs\\datascience\\lib\\site-packages\\ipykernel_launcher.py:4: DtypeWarning: Columns (61,62) have mixed types. Specify dtype option on import or set low_memory=False.\n",
            "  after removing the cwd from sys.path.\n",
            "c:\\users\\tigju\\anaconda3\\envs\\datascience\\lib\\site-packages\\ipykernel_launcher.py:4: DtypeWarning: Columns (43,61,62,94) have mixed types. Specify dtype option on import or set low_memory=False.\n",
            "  after removing the cwd from sys.path.\n",
            "c:\\users\\tigju\\anaconda3\\envs\\datascience\\lib\\site-packages\\ipykernel_launcher.py:4: DtypeWarning: Columns (61,62,94) have mixed types. Specify dtype option on import or set low_memory=False.\n",
            "  after removing the cwd from sys.path.\n"
          ],
          "name": "stderr"
        }
      ]
    },
    {
      "cell_type": "code",
      "metadata": {
        "id": "a1-y0kSkcIqm",
        "colab_type": "code",
        "colab": {}
      },
      "source": [
        "all_data = pd.read_csv('combined.csv')"
      ],
      "execution_count": null,
      "outputs": []
    },
    {
      "cell_type": "code",
      "metadata": {
        "id": "04dqOQhAcIqp",
        "colab_type": "code",
        "colab": {}
      },
      "source": [
        "pd.set_option('display.max_columns', len(all_data.columns)) # To view all columns\n",
        "pd.set_option('display.max_rows', 120)"
      ],
      "execution_count": null,
      "outputs": []
    },
    {
      "cell_type": "code",
      "metadata": {
        "id": "PDBQA-3fcIqu",
        "colab_type": "code",
        "colab": {},
        "outputId": "07c4ccee-a32c-4c3c-ecb1-7ff941dce9f7"
      },
      "source": [
        "all_data.head(3)"
      ],
      "execution_count": null,
      "outputs": [
        {
          "output_type": "execute_result",
          "data": {
            "text/html": [
              "<div>\n",
              "<style scoped>\n",
              "    .dataframe tbody tr th:only-of-type {\n",
              "        vertical-align: middle;\n",
              "    }\n",
              "\n",
              "    .dataframe tbody tr th {\n",
              "        vertical-align: top;\n",
              "    }\n",
              "\n",
              "    .dataframe thead th {\n",
              "        text-align: right;\n",
              "    }\n",
              "</style>\n",
              "<table border=\"1\" class=\"dataframe\">\n",
              "  <thead>\n",
              "    <tr style=\"text-align: right;\">\n",
              "      <th></th>\n",
              "      <th>id</th>\n",
              "      <th>listing_url</th>\n",
              "      <th>scrape_id</th>\n",
              "      <th>last_scraped</th>\n",
              "      <th>name</th>\n",
              "      <th>summary</th>\n",
              "      <th>space</th>\n",
              "      <th>description</th>\n",
              "      <th>experiences_offered</th>\n",
              "      <th>neighborhood_overview</th>\n",
              "      <th>notes</th>\n",
              "      <th>transit</th>\n",
              "      <th>access</th>\n",
              "      <th>interaction</th>\n",
              "      <th>house_rules</th>\n",
              "      <th>thumbnail_url</th>\n",
              "      <th>medium_url</th>\n",
              "      <th>picture_url</th>\n",
              "      <th>xl_picture_url</th>\n",
              "      <th>host_id</th>\n",
              "      <th>host_url</th>\n",
              "      <th>host_name</th>\n",
              "      <th>host_since</th>\n",
              "      <th>host_location</th>\n",
              "      <th>host_about</th>\n",
              "      <th>host_response_time</th>\n",
              "      <th>host_response_rate</th>\n",
              "      <th>host_acceptance_rate</th>\n",
              "      <th>host_is_superhost</th>\n",
              "      <th>host_thumbnail_url</th>\n",
              "      <th>host_picture_url</th>\n",
              "      <th>host_neighbourhood</th>\n",
              "      <th>host_listings_count</th>\n",
              "      <th>host_total_listings_count</th>\n",
              "      <th>host_verifications</th>\n",
              "      <th>host_has_profile_pic</th>\n",
              "      <th>host_identity_verified</th>\n",
              "      <th>street</th>\n",
              "      <th>neighbourhood</th>\n",
              "      <th>neighbourhood_cleansed</th>\n",
              "      <th>neighbourhood_group_cleansed</th>\n",
              "      <th>city</th>\n",
              "      <th>state</th>\n",
              "      <th>zipcode</th>\n",
              "      <th>market</th>\n",
              "      <th>smart_location</th>\n",
              "      <th>country_code</th>\n",
              "      <th>country</th>\n",
              "      <th>latitude</th>\n",
              "      <th>longitude</th>\n",
              "      <th>is_location_exact</th>\n",
              "      <th>property_type</th>\n",
              "      <th>room_type</th>\n",
              "      <th>accommodates</th>\n",
              "      <th>bathrooms</th>\n",
              "      <th>bedrooms</th>\n",
              "      <th>beds</th>\n",
              "      <th>bed_type</th>\n",
              "      <th>amenities</th>\n",
              "      <th>square_feet</th>\n",
              "      <th>price</th>\n",
              "      <th>weekly_price</th>\n",
              "      <th>monthly_price</th>\n",
              "      <th>security_deposit</th>\n",
              "      <th>cleaning_fee</th>\n",
              "      <th>guests_included</th>\n",
              "      <th>extra_people</th>\n",
              "      <th>minimum_nights</th>\n",
              "      <th>maximum_nights</th>\n",
              "      <th>minimum_minimum_nights</th>\n",
              "      <th>maximum_minimum_nights</th>\n",
              "      <th>minimum_maximum_nights</th>\n",
              "      <th>maximum_maximum_nights</th>\n",
              "      <th>minimum_nights_avg_ntm</th>\n",
              "      <th>maximum_nights_avg_ntm</th>\n",
              "      <th>calendar_updated</th>\n",
              "      <th>has_availability</th>\n",
              "      <th>availability_30</th>\n",
              "      <th>availability_60</th>\n",
              "      <th>availability_90</th>\n",
              "      <th>availability_365</th>\n",
              "      <th>calendar_last_scraped</th>\n",
              "      <th>number_of_reviews</th>\n",
              "      <th>number_of_reviews_ltm</th>\n",
              "      <th>first_review</th>\n",
              "      <th>last_review</th>\n",
              "      <th>review_scores_rating</th>\n",
              "      <th>review_scores_accuracy</th>\n",
              "      <th>review_scores_cleanliness</th>\n",
              "      <th>review_scores_checkin</th>\n",
              "      <th>review_scores_communication</th>\n",
              "      <th>review_scores_location</th>\n",
              "      <th>review_scores_value</th>\n",
              "      <th>requires_license</th>\n",
              "      <th>license</th>\n",
              "      <th>jurisdiction_names</th>\n",
              "      <th>instant_bookable</th>\n",
              "      <th>is_business_travel_ready</th>\n",
              "      <th>cancellation_policy</th>\n",
              "      <th>require_guest_profile_picture</th>\n",
              "      <th>require_guest_phone_verification</th>\n",
              "      <th>calculated_host_listings_count</th>\n",
              "      <th>calculated_host_listings_count_entire_homes</th>\n",
              "      <th>calculated_host_listings_count_private_rooms</th>\n",
              "      <th>calculated_host_listings_count_shared_rooms</th>\n",
              "      <th>reviews_per_month</th>\n",
              "    </tr>\n",
              "  </thead>\n",
              "  <tbody>\n",
              "    <tr>\n",
              "      <th>0</th>\n",
              "      <td>43425579</td>\n",
              "      <td>https://www.airbnb.com/rooms/43425579</td>\n",
              "      <td>20200610033538</td>\n",
              "      <td>2020-06-12</td>\n",
              "      <td>Beverly Grove Villa D</td>\n",
              "      <td>2 king Beds  3 Queen Beds   additional bed can...</td>\n",
              "      <td>Vaulted ceilings, gleaming hardwood floors, ne...</td>\n",
              "      <td>2 king Beds  3 Queen Beds   additional bed can...</td>\n",
              "      <td>none</td>\n",
              "      <td>NaN</td>\n",
              "      <td>NaN</td>\n",
              "      <td>NaN</td>\n",
              "      <td>NaN</td>\n",
              "      <td>NaN</td>\n",
              "      <td>No social gatherings, events or parties allowed.</td>\n",
              "      <td>NaN</td>\n",
              "      <td>NaN</td>\n",
              "      <td>https://a0.muscache.com/im/pictures/ebef8cab-5...</td>\n",
              "      <td>NaN</td>\n",
              "      <td>39937365</td>\n",
              "      <td>https://www.airbnb.com/users/show/39937365</td>\n",
              "      <td>Anixia</td>\n",
              "      <td>2015-07-29</td>\n",
              "      <td>Miami, Florida, United States</td>\n",
              "      <td>NaN</td>\n",
              "      <td>within an hour</td>\n",
              "      <td>98%</td>\n",
              "      <td>72%</td>\n",
              "      <td>f</td>\n",
              "      <td>https://a0.muscache.com/im/users/39937365/prof...</td>\n",
              "      <td>https://a0.muscache.com/im/users/39937365/prof...</td>\n",
              "      <td>Laurel Canyon</td>\n",
              "      <td>8.0</td>\n",
              "      <td>8.0</td>\n",
              "      <td>['email', 'phone', 'reviews', 'jumio', 'selfie...</td>\n",
              "      <td>t</td>\n",
              "      <td>t</td>\n",
              "      <td>Los Angeles, CA, United States</td>\n",
              "      <td>Mid-Wilshire</td>\n",
              "      <td>Beverly Grove</td>\n",
              "      <td>City of Los Angeles</td>\n",
              "      <td>Los Angeles</td>\n",
              "      <td>CA</td>\n",
              "      <td>90048</td>\n",
              "      <td>Los Angeles</td>\n",
              "      <td>Los Angeles, CA</td>\n",
              "      <td>US</td>\n",
              "      <td>United States</td>\n",
              "      <td>34.06928</td>\n",
              "      <td>-118.36871</td>\n",
              "      <td>t</td>\n",
              "      <td>Villa</td>\n",
              "      <td>Entire home/apt</td>\n",
              "      <td>12</td>\n",
              "      <td>5.5</td>\n",
              "      <td>5.0</td>\n",
              "      <td>5.0</td>\n",
              "      <td>Real Bed</td>\n",
              "      <td>{TV,Wifi,\"Air conditioning\",Pool,Kitchen,\"Free...</td>\n",
              "      <td>NaN</td>\n",
              "      <td>$900.00</td>\n",
              "      <td>NaN</td>\n",
              "      <td>NaN</td>\n",
              "      <td>$2,500.00</td>\n",
              "      <td>$400.00</td>\n",
              "      <td>8</td>\n",
              "      <td>$75.00</td>\n",
              "      <td>3</td>\n",
              "      <td>1125</td>\n",
              "      <td>3</td>\n",
              "      <td>3</td>\n",
              "      <td>1125</td>\n",
              "      <td>1125</td>\n",
              "      <td>3.0</td>\n",
              "      <td>1125.0</td>\n",
              "      <td>2 weeks ago</td>\n",
              "      <td>t</td>\n",
              "      <td>8</td>\n",
              "      <td>28</td>\n",
              "      <td>31</td>\n",
              "      <td>306</td>\n",
              "      <td>2020-06-12</td>\n",
              "      <td>0</td>\n",
              "      <td>0</td>\n",
              "      <td>NaN</td>\n",
              "      <td>NaN</td>\n",
              "      <td>NaN</td>\n",
              "      <td>NaN</td>\n",
              "      <td>NaN</td>\n",
              "      <td>NaN</td>\n",
              "      <td>NaN</td>\n",
              "      <td>NaN</td>\n",
              "      <td>NaN</td>\n",
              "      <td>t</td>\n",
              "      <td>HSR20-000823</td>\n",
              "      <td>{\"City of Los Angeles\",\" CA\"}</td>\n",
              "      <td>f</td>\n",
              "      <td>f</td>\n",
              "      <td>strict_14_with_grace_period</td>\n",
              "      <td>f</td>\n",
              "      <td>f</td>\n",
              "      <td>7</td>\n",
              "      <td>7</td>\n",
              "      <td>0</td>\n",
              "      <td>0</td>\n",
              "      <td>NaN</td>\n",
              "    </tr>\n",
              "    <tr>\n",
              "      <th>1</th>\n",
              "      <td>21695338</td>\n",
              "      <td>https://www.airbnb.com/rooms/21695338</td>\n",
              "      <td>20200707031313</td>\n",
              "      <td>2020-07-07</td>\n",
              "      <td>Spacious, Bright &amp; Cozy 1-bedroom in Greenpoint</td>\n",
              "      <td>I like to think of my place as a cozy escape. ...</td>\n",
              "      <td>I like to call my place \"the penthouse\". It's ...</td>\n",
              "      <td>I like to think of my place as a cozy escape. ...</td>\n",
              "      <td>none</td>\n",
              "      <td>Greenpoint is my favorite neighborhood in Broo...</td>\n",
              "      <td>NaN</td>\n",
              "      <td>Steps from the G train and the B32 &amp; B62 buses...</td>\n",
              "      <td>NaN</td>\n",
              "      <td>I will not be home. A key will be left in a lo...</td>\n",
              "      <td>- If you happen to chat with anyone in my buil...</td>\n",
              "      <td>NaN</td>\n",
              "      <td>NaN</td>\n",
              "      <td>https://a0.muscache.com/im/pictures/0e07b56c-f...</td>\n",
              "      <td>NaN</td>\n",
              "      <td>8652278</td>\n",
              "      <td>https://www.airbnb.com/users/show/8652278</td>\n",
              "      <td>Brady</td>\n",
              "      <td>2013-09-05</td>\n",
              "      <td>New York, New York, United States</td>\n",
              "      <td>NaN</td>\n",
              "      <td>NaN</td>\n",
              "      <td>NaN</td>\n",
              "      <td>NaN</td>\n",
              "      <td>f</td>\n",
              "      <td>https://a0.muscache.com/im/users/8652278/profi...</td>\n",
              "      <td>https://a0.muscache.com/im/users/8652278/profi...</td>\n",
              "      <td>Greenpoint</td>\n",
              "      <td>1.0</td>\n",
              "      <td>1.0</td>\n",
              "      <td>['email', 'phone', 'reviews', 'jumio', 'govern...</td>\n",
              "      <td>t</td>\n",
              "      <td>t</td>\n",
              "      <td>Brooklyn, NY, United States</td>\n",
              "      <td>Brooklyn</td>\n",
              "      <td>Greenpoint</td>\n",
              "      <td>Brooklyn</td>\n",
              "      <td>Brooklyn</td>\n",
              "      <td>NY</td>\n",
              "      <td>11222</td>\n",
              "      <td>New York</td>\n",
              "      <td>Brooklyn, NY</td>\n",
              "      <td>US</td>\n",
              "      <td>United States</td>\n",
              "      <td>40.73470</td>\n",
              "      <td>-73.95479</td>\n",
              "      <td>t</td>\n",
              "      <td>Apartment</td>\n",
              "      <td>Entire home/apt</td>\n",
              "      <td>2</td>\n",
              "      <td>1.0</td>\n",
              "      <td>1.0</td>\n",
              "      <td>1.0</td>\n",
              "      <td>Real Bed</td>\n",
              "      <td>{TV,Wifi,\"Air conditioning\",Kitchen,Heating,\"S...</td>\n",
              "      <td>NaN</td>\n",
              "      <td>$87.00</td>\n",
              "      <td>NaN</td>\n",
              "      <td>NaN</td>\n",
              "      <td>$0.00</td>\n",
              "      <td>$120.00</td>\n",
              "      <td>1</td>\n",
              "      <td>$0.00</td>\n",
              "      <td>4</td>\n",
              "      <td>1125</td>\n",
              "      <td>4</td>\n",
              "      <td>4</td>\n",
              "      <td>1125</td>\n",
              "      <td>1125</td>\n",
              "      <td>4.0</td>\n",
              "      <td>1125.0</td>\n",
              "      <td>29 months ago</td>\n",
              "      <td>t</td>\n",
              "      <td>0</td>\n",
              "      <td>0</td>\n",
              "      <td>0</td>\n",
              "      <td>0</td>\n",
              "      <td>2020-07-07</td>\n",
              "      <td>1</td>\n",
              "      <td>0</td>\n",
              "      <td>2017-12-27</td>\n",
              "      <td>2017-12-27</td>\n",
              "      <td>100.0</td>\n",
              "      <td>10.0</td>\n",
              "      <td>10.0</td>\n",
              "      <td>10.0</td>\n",
              "      <td>10.0</td>\n",
              "      <td>10.0</td>\n",
              "      <td>10.0</td>\n",
              "      <td>f</td>\n",
              "      <td>NaN</td>\n",
              "      <td>NaN</td>\n",
              "      <td>f</td>\n",
              "      <td>f</td>\n",
              "      <td>strict_14_with_grace_period</td>\n",
              "      <td>f</td>\n",
              "      <td>f</td>\n",
              "      <td>1</td>\n",
              "      <td>1</td>\n",
              "      <td>0</td>\n",
              "      <td>0</td>\n",
              "      <td>0.03</td>\n",
              "    </tr>\n",
              "    <tr>\n",
              "      <th>2</th>\n",
              "      <td>15126948</td>\n",
              "      <td>https://www.airbnb.com/rooms/15126948</td>\n",
              "      <td>20200707031313</td>\n",
              "      <td>2020-07-08</td>\n",
              "      <td>Large &amp; Nice, Bright 1 Bdrm in East Village, NYC</td>\n",
              "      <td>Gorgeous, spacious, clean &amp; cozy bedroom in th...</td>\n",
              "      <td>This room is one of two  bedrooms open to book...</td>\n",
              "      <td>Gorgeous, spacious, clean &amp; cozy bedroom in th...</td>\n",
              "      <td>none</td>\n",
              "      <td>NaN</td>\n",
              "      <td>Please note, this apartment is a 5th floor wal...</td>\n",
              "      <td>NaN</td>\n",
              "      <td>Only guests on itinerary allowed.  No going ou...</td>\n",
              "      <td>NaN</td>\n",
              "      <td>Only guests on itinerary allowed.   No going o...</td>\n",
              "      <td>NaN</td>\n",
              "      <td>NaN</td>\n",
              "      <td>https://a0.muscache.com/im/pictures/61249901-e...</td>\n",
              "      <td>NaN</td>\n",
              "      <td>23089531</td>\n",
              "      <td>https://www.airbnb.com/users/show/23089531</td>\n",
              "      <td>Caitlin</td>\n",
              "      <td>2014-10-28</td>\n",
              "      <td>New York, New York, United States</td>\n",
              "      <td>NaN</td>\n",
              "      <td>a few days or more</td>\n",
              "      <td>0%</td>\n",
              "      <td>66%</td>\n",
              "      <td>f</td>\n",
              "      <td>https://a0.muscache.com/im/users/23089531/prof...</td>\n",
              "      <td>https://a0.muscache.com/im/users/23089531/prof...</td>\n",
              "      <td>East Village</td>\n",
              "      <td>3.0</td>\n",
              "      <td>3.0</td>\n",
              "      <td>['email', 'phone', 'google', 'reviews', 'kba']</td>\n",
              "      <td>t</td>\n",
              "      <td>t</td>\n",
              "      <td>New York, NY, United States</td>\n",
              "      <td>Manhattan</td>\n",
              "      <td>East Village</td>\n",
              "      <td>Manhattan</td>\n",
              "      <td>New York</td>\n",
              "      <td>NY</td>\n",
              "      <td>10003</td>\n",
              "      <td>New York</td>\n",
              "      <td>New York, NY</td>\n",
              "      <td>US</td>\n",
              "      <td>United States</td>\n",
              "      <td>40.72609</td>\n",
              "      <td>-73.98795</td>\n",
              "      <td>t</td>\n",
              "      <td>Apartment</td>\n",
              "      <td>Private room</td>\n",
              "      <td>2</td>\n",
              "      <td>1.0</td>\n",
              "      <td>1.0</td>\n",
              "      <td>1.0</td>\n",
              "      <td>Real Bed</td>\n",
              "      <td>{Wifi,\"Air conditioning\",Kitchen,Heating,\"Smok...</td>\n",
              "      <td>NaN</td>\n",
              "      <td>$100.00</td>\n",
              "      <td>NaN</td>\n",
              "      <td>NaN</td>\n",
              "      <td>$0.00</td>\n",
              "      <td>$45.00</td>\n",
              "      <td>1</td>\n",
              "      <td>$25.00</td>\n",
              "      <td>2</td>\n",
              "      <td>25</td>\n",
              "      <td>2</td>\n",
              "      <td>2</td>\n",
              "      <td>1125</td>\n",
              "      <td>1125</td>\n",
              "      <td>2.0</td>\n",
              "      <td>1125.0</td>\n",
              "      <td>3 months ago</td>\n",
              "      <td>t</td>\n",
              "      <td>30</td>\n",
              "      <td>60</td>\n",
              "      <td>85</td>\n",
              "      <td>360</td>\n",
              "      <td>2020-07-08</td>\n",
              "      <td>90</td>\n",
              "      <td>15</td>\n",
              "      <td>2016-10-03</td>\n",
              "      <td>2020-02-26</td>\n",
              "      <td>96.0</td>\n",
              "      <td>10.0</td>\n",
              "      <td>9.0</td>\n",
              "      <td>10.0</td>\n",
              "      <td>9.0</td>\n",
              "      <td>10.0</td>\n",
              "      <td>10.0</td>\n",
              "      <td>f</td>\n",
              "      <td>NaN</td>\n",
              "      <td>NaN</td>\n",
              "      <td>f</td>\n",
              "      <td>f</td>\n",
              "      <td>strict_14_with_grace_period</td>\n",
              "      <td>f</td>\n",
              "      <td>f</td>\n",
              "      <td>3</td>\n",
              "      <td>1</td>\n",
              "      <td>2</td>\n",
              "      <td>0</td>\n",
              "      <td>1.96</td>\n",
              "    </tr>\n",
              "  </tbody>\n",
              "</table>\n",
              "</div>"
            ],
            "text/plain": [
              "         id                            listing_url       scrape_id  \\\n",
              "0  43425579  https://www.airbnb.com/rooms/43425579  20200610033538   \n",
              "1  21695338  https://www.airbnb.com/rooms/21695338  20200707031313   \n",
              "2  15126948  https://www.airbnb.com/rooms/15126948  20200707031313   \n",
              "\n",
              "  last_scraped                                              name  \\\n",
              "0   2020-06-12                             Beverly Grove Villa D   \n",
              "1   2020-07-07   Spacious, Bright & Cozy 1-bedroom in Greenpoint   \n",
              "2   2020-07-08  Large & Nice, Bright 1 Bdrm in East Village, NYC   \n",
              "\n",
              "                                             summary  \\\n",
              "0  2 king Beds  3 Queen Beds   additional bed can...   \n",
              "1  I like to think of my place as a cozy escape. ...   \n",
              "2  Gorgeous, spacious, clean & cozy bedroom in th...   \n",
              "\n",
              "                                               space  \\\n",
              "0  Vaulted ceilings, gleaming hardwood floors, ne...   \n",
              "1  I like to call my place \"the penthouse\". It's ...   \n",
              "2  This room is one of two  bedrooms open to book...   \n",
              "\n",
              "                                         description experiences_offered  \\\n",
              "0  2 king Beds  3 Queen Beds   additional bed can...                none   \n",
              "1  I like to think of my place as a cozy escape. ...                none   \n",
              "2  Gorgeous, spacious, clean & cozy bedroom in th...                none   \n",
              "\n",
              "                               neighborhood_overview  \\\n",
              "0                                                NaN   \n",
              "1  Greenpoint is my favorite neighborhood in Broo...   \n",
              "2                                                NaN   \n",
              "\n",
              "                                               notes  \\\n",
              "0                                                NaN   \n",
              "1                                                NaN   \n",
              "2  Please note, this apartment is a 5th floor wal...   \n",
              "\n",
              "                                             transit  \\\n",
              "0                                                NaN   \n",
              "1  Steps from the G train and the B32 & B62 buses...   \n",
              "2                                                NaN   \n",
              "\n",
              "                                              access  \\\n",
              "0                                                NaN   \n",
              "1                                                NaN   \n",
              "2  Only guests on itinerary allowed.  No going ou...   \n",
              "\n",
              "                                         interaction  \\\n",
              "0                                                NaN   \n",
              "1  I will not be home. A key will be left in a lo...   \n",
              "2                                                NaN   \n",
              "\n",
              "                                         house_rules  thumbnail_url  \\\n",
              "0   No social gatherings, events or parties allowed.            NaN   \n",
              "1  - If you happen to chat with anyone in my buil...            NaN   \n",
              "2  Only guests on itinerary allowed.   No going o...            NaN   \n",
              "\n",
              "   medium_url                                        picture_url  \\\n",
              "0         NaN  https://a0.muscache.com/im/pictures/ebef8cab-5...   \n",
              "1         NaN  https://a0.muscache.com/im/pictures/0e07b56c-f...   \n",
              "2         NaN  https://a0.muscache.com/im/pictures/61249901-e...   \n",
              "\n",
              "   xl_picture_url   host_id                                    host_url  \\\n",
              "0             NaN  39937365  https://www.airbnb.com/users/show/39937365   \n",
              "1             NaN   8652278   https://www.airbnb.com/users/show/8652278   \n",
              "2             NaN  23089531  https://www.airbnb.com/users/show/23089531   \n",
              "\n",
              "  host_name  host_since                      host_location host_about  \\\n",
              "0    Anixia  2015-07-29      Miami, Florida, United States        NaN   \n",
              "1     Brady  2013-09-05  New York, New York, United States        NaN   \n",
              "2   Caitlin  2014-10-28  New York, New York, United States        NaN   \n",
              "\n",
              "   host_response_time host_response_rate host_acceptance_rate  \\\n",
              "0      within an hour                98%                  72%   \n",
              "1                 NaN                NaN                  NaN   \n",
              "2  a few days or more                 0%                  66%   \n",
              "\n",
              "  host_is_superhost                                 host_thumbnail_url  \\\n",
              "0                 f  https://a0.muscache.com/im/users/39937365/prof...   \n",
              "1                 f  https://a0.muscache.com/im/users/8652278/profi...   \n",
              "2                 f  https://a0.muscache.com/im/users/23089531/prof...   \n",
              "\n",
              "                                    host_picture_url host_neighbourhood  \\\n",
              "0  https://a0.muscache.com/im/users/39937365/prof...      Laurel Canyon   \n",
              "1  https://a0.muscache.com/im/users/8652278/profi...         Greenpoint   \n",
              "2  https://a0.muscache.com/im/users/23089531/prof...       East Village   \n",
              "\n",
              "   host_listings_count  host_total_listings_count  \\\n",
              "0                  8.0                        8.0   \n",
              "1                  1.0                        1.0   \n",
              "2                  3.0                        3.0   \n",
              "\n",
              "                                  host_verifications host_has_profile_pic  \\\n",
              "0  ['email', 'phone', 'reviews', 'jumio', 'selfie...                    t   \n",
              "1  ['email', 'phone', 'reviews', 'jumio', 'govern...                    t   \n",
              "2     ['email', 'phone', 'google', 'reviews', 'kba']                    t   \n",
              "\n",
              "  host_identity_verified                          street neighbourhood  \\\n",
              "0                      t  Los Angeles, CA, United States  Mid-Wilshire   \n",
              "1                      t     Brooklyn, NY, United States      Brooklyn   \n",
              "2                      t     New York, NY, United States     Manhattan   \n",
              "\n",
              "  neighbourhood_cleansed neighbourhood_group_cleansed         city state  \\\n",
              "0          Beverly Grove          City of Los Angeles  Los Angeles    CA   \n",
              "1             Greenpoint                     Brooklyn     Brooklyn    NY   \n",
              "2           East Village                    Manhattan     New York    NY   \n",
              "\n",
              "  zipcode       market   smart_location country_code        country  latitude  \\\n",
              "0   90048  Los Angeles  Los Angeles, CA           US  United States  34.06928   \n",
              "1   11222     New York     Brooklyn, NY           US  United States  40.73470   \n",
              "2   10003     New York     New York, NY           US  United States  40.72609   \n",
              "\n",
              "   longitude is_location_exact property_type        room_type  accommodates  \\\n",
              "0 -118.36871                 t         Villa  Entire home/apt            12   \n",
              "1  -73.95479                 t     Apartment  Entire home/apt             2   \n",
              "2  -73.98795                 t     Apartment     Private room             2   \n",
              "\n",
              "   bathrooms  bedrooms  beds  bed_type  \\\n",
              "0        5.5       5.0   5.0  Real Bed   \n",
              "1        1.0       1.0   1.0  Real Bed   \n",
              "2        1.0       1.0   1.0  Real Bed   \n",
              "\n",
              "                                           amenities  square_feet    price  \\\n",
              "0  {TV,Wifi,\"Air conditioning\",Pool,Kitchen,\"Free...          NaN  $900.00   \n",
              "1  {TV,Wifi,\"Air conditioning\",Kitchen,Heating,\"S...          NaN   $87.00   \n",
              "2  {Wifi,\"Air conditioning\",Kitchen,Heating,\"Smok...          NaN  $100.00   \n",
              "\n",
              "  weekly_price monthly_price security_deposit cleaning_fee  guests_included  \\\n",
              "0          NaN           NaN        $2,500.00      $400.00                8   \n",
              "1          NaN           NaN            $0.00      $120.00                1   \n",
              "2          NaN           NaN            $0.00       $45.00                1   \n",
              "\n",
              "  extra_people  minimum_nights  maximum_nights  minimum_minimum_nights  \\\n",
              "0       $75.00               3            1125                       3   \n",
              "1        $0.00               4            1125                       4   \n",
              "2       $25.00               2              25                       2   \n",
              "\n",
              "   maximum_minimum_nights  minimum_maximum_nights  maximum_maximum_nights  \\\n",
              "0                       3                    1125                    1125   \n",
              "1                       4                    1125                    1125   \n",
              "2                       2                    1125                    1125   \n",
              "\n",
              "   minimum_nights_avg_ntm  maximum_nights_avg_ntm calendar_updated  \\\n",
              "0                     3.0                  1125.0      2 weeks ago   \n",
              "1                     4.0                  1125.0    29 months ago   \n",
              "2                     2.0                  1125.0     3 months ago   \n",
              "\n",
              "  has_availability  availability_30  availability_60  availability_90  \\\n",
              "0                t                8               28               31   \n",
              "1                t                0                0                0   \n",
              "2                t               30               60               85   \n",
              "\n",
              "   availability_365 calendar_last_scraped  number_of_reviews  \\\n",
              "0               306            2020-06-12                  0   \n",
              "1                 0            2020-07-07                  1   \n",
              "2               360            2020-07-08                 90   \n",
              "\n",
              "   number_of_reviews_ltm first_review last_review  review_scores_rating  \\\n",
              "0                      0          NaN         NaN                   NaN   \n",
              "1                      0   2017-12-27  2017-12-27                 100.0   \n",
              "2                     15   2016-10-03  2020-02-26                  96.0   \n",
              "\n",
              "   review_scores_accuracy  review_scores_cleanliness  review_scores_checkin  \\\n",
              "0                     NaN                        NaN                    NaN   \n",
              "1                    10.0                       10.0                   10.0   \n",
              "2                    10.0                        9.0                   10.0   \n",
              "\n",
              "   review_scores_communication  review_scores_location  review_scores_value  \\\n",
              "0                          NaN                     NaN                  NaN   \n",
              "1                         10.0                    10.0                 10.0   \n",
              "2                          9.0                    10.0                 10.0   \n",
              "\n",
              "  requires_license       license             jurisdiction_names  \\\n",
              "0                t  HSR20-000823  {\"City of Los Angeles\",\" CA\"}   \n",
              "1                f           NaN                            NaN   \n",
              "2                f           NaN                            NaN   \n",
              "\n",
              "  instant_bookable is_business_travel_ready          cancellation_policy  \\\n",
              "0                f                        f  strict_14_with_grace_period   \n",
              "1                f                        f  strict_14_with_grace_period   \n",
              "2                f                        f  strict_14_with_grace_period   \n",
              "\n",
              "  require_guest_profile_picture require_guest_phone_verification  \\\n",
              "0                             f                                f   \n",
              "1                             f                                f   \n",
              "2                             f                                f   \n",
              "\n",
              "   calculated_host_listings_count  \\\n",
              "0                               7   \n",
              "1                               1   \n",
              "2                               3   \n",
              "\n",
              "   calculated_host_listings_count_entire_homes  \\\n",
              "0                                            7   \n",
              "1                                            1   \n",
              "2                                            1   \n",
              "\n",
              "   calculated_host_listings_count_private_rooms  \\\n",
              "0                                             0   \n",
              "1                                             0   \n",
              "2                                             2   \n",
              "\n",
              "   calculated_host_listings_count_shared_rooms  reviews_per_month  \n",
              "0                                            0                NaN  \n",
              "1                                            0               0.03  \n",
              "2                                            0               1.96  "
            ]
          },
          "metadata": {
            "tags": []
          },
          "execution_count": 17
        }
      ]
    },
    {
      "cell_type": "code",
      "metadata": {
        "id": "8_QKZBVHcIqx",
        "colab_type": "code",
        "colab": {},
        "outputId": "40c7d026-e0d9-4892-c4b3-1e3f8dd352e7"
      },
      "source": [
        "all_data.isna().sum()"
      ],
      "execution_count": null,
      "outputs": [
        {
          "output_type": "execute_result",
          "data": {
            "text/plain": [
              "id                                                   0\n",
              "listing_url                                          0\n",
              "scrape_id                                            0\n",
              "last_scraped                                         0\n",
              "name                                                27\n",
              "summary                                           7684\n",
              "space                                            47030\n",
              "description                                       4412\n",
              "experiences_offered                                  0\n",
              "neighborhood_overview                            67191\n",
              "notes                                           102419\n",
              "transit                                          74322\n",
              "access                                           86774\n",
              "interaction                                      73544\n",
              "house_rules                                      66337\n",
              "thumbnail_url                                   209031\n",
              "medium_url                                      209031\n",
              "picture_url                                          0\n",
              "xl_picture_url                                  209031\n",
              "host_id                                              0\n",
              "host_url                                             0\n",
              "host_name                                          129\n",
              "host_since                                         129\n",
              "host_location                                      584\n",
              "host_about                                       70902\n",
              "host_response_time                               70801\n",
              "host_response_rate                               70801\n",
              "host_acceptance_rate                             38829\n",
              "host_is_superhost                                  129\n",
              "host_thumbnail_url                                 129\n",
              "host_picture_url                                   129\n",
              "host_neighbourhood                               38858\n",
              "host_listings_count                                129\n",
              "host_total_listings_count                          129\n",
              "host_verifications                                   0\n",
              "host_has_profile_pic                               129\n",
              "host_identity_verified                             129\n",
              "street                                               0\n",
              "neighbourhood                                    16189\n",
              "neighbourhood_cleansed                               0\n",
              "neighbourhood_group_cleansed                     95194\n",
              "city                                               159\n",
              "state                                               59\n",
              "zipcode                                           1636\n",
              "market                                             328\n",
              "smart_location                                       0\n",
              "country_code                                         0\n",
              "country                                              0\n",
              "latitude                                             0\n",
              "longitude                                            0\n",
              "is_location_exact                                    0\n",
              "property_type                                        0\n",
              "room_type                                            0\n",
              "accommodates                                         0\n",
              "bathrooms                                          175\n",
              "bedrooms                                           386\n",
              "beds                                              1462\n",
              "bed_type                                            26\n",
              "amenities                                            0\n",
              "square_feet                                     207116\n",
              "price                                                0\n",
              "weekly_price                                    191087\n",
              "monthly_price                                   193118\n",
              "security_deposit                                 51757\n",
              "cleaning_fee                                     30118\n",
              "guests_included                                      0\n",
              "extra_people                                         0\n",
              "minimum_nights                                       0\n",
              "maximum_nights                                       0\n",
              "minimum_minimum_nights                               0\n",
              "maximum_minimum_nights                               0\n",
              "minimum_maximum_nights                               0\n",
              "maximum_maximum_nights                               0\n",
              "minimum_nights_avg_ntm                               0\n",
              "maximum_nights_avg_ntm                               0\n",
              "calendar_updated                                     0\n",
              "has_availability                                     0\n",
              "availability_30                                      0\n",
              "availability_60                                      0\n",
              "availability_90                                      0\n",
              "availability_365                                     0\n",
              "calendar_last_scraped                                0\n",
              "number_of_reviews                                    0\n",
              "number_of_reviews_ltm                                0\n",
              "first_review                                     43116\n",
              "last_review                                      43116\n",
              "review_scores_rating                             45447\n",
              "review_scores_accuracy                           45709\n",
              "review_scores_cleanliness                        45687\n",
              "review_scores_checkin                            45764\n",
              "review_scores_communication                      45702\n",
              "review_scores_location                           45773\n",
              "review_scores_value                              45781\n",
              "requires_license                                     0\n",
              "license                                         154741\n",
              "jurisdiction_names                               88055\n",
              "instant_bookable                                     0\n",
              "is_business_travel_ready                             0\n",
              "cancellation_policy                                  0\n",
              "require_guest_profile_picture                        0\n",
              "require_guest_phone_verification                     0\n",
              "calculated_host_listings_count                       0\n",
              "calculated_host_listings_count_entire_homes          0\n",
              "calculated_host_listings_count_private_rooms         0\n",
              "calculated_host_listings_count_shared_rooms          0\n",
              "reviews_per_month                                43116\n",
              "dtype: int64"
            ]
          },
          "metadata": {
            "tags": []
          },
          "execution_count": 38
        }
      ]
    },
    {
      "cell_type": "markdown",
      "metadata": {
        "id": "FVis5ZEOcIq0",
        "colab_type": "text"
      },
      "source": [
        "## Data clean-up and exploration"
      ]
    },
    {
      "cell_type": "code",
      "metadata": {
        "id": "mkpcm4w7cIq0",
        "colab_type": "code",
        "colab": {}
      },
      "source": [
        "columns_to_drop = ['id', 'listing_url', 'scrape_id', 'last_scraped', 'thumbnail_url', 'medium_url', 'picture_url', 'xl_picture_url',\n",
        "                   'host_id', 'host_url', 'host_name', 'host_location', 'host_thumbnail_url', 'host_picture_url', 'host_about', 'market', \n",
        "                   'host_neighbourhood', 'host_has_profile_pic', 'host_verifications', 'host_identity_verified', 'country_code', 'license', \n",
        "                   'jurisdiction_names', 'calendar_last_scraped', 'requires_license', 'neighbourhood_group_cleansed', 'neighbourhood_cleansed',\n",
        "                   'street', 'smart_location', 'host_since',\n",
        "                   'host_acceptance_rate', 'square_feet', 'weekly_price', 'monthly_price', 'host_total_listings_count',\n",
        "                   'calculated_host_listings_count', 'calculated_host_listings_count_entire_homes', 'calculated_host_listings_count_private_rooms',\n",
        "                   'calculated_host_listings_count_shared_rooms', 'zipcode', 'latitude', 'longitude', \n",
        "                   'country', 'is_location_exact', 'minimum_minimum_nights', 'maximum_minimum_nights', 'minimum_maximum_nights', \n",
        "                   'maximum_maximum_nights', 'minimum_nights_avg_ntm', 'maximum_nights_avg_ntm', 'has_availability', 'host_has_profile_pic', \n",
        "                   'is_business_travel_ready', 'require_guest_phone_verification', 'require_guest_profile_picture', 'experiences_offered',\n",
        "                   'host_is_superhost', 'host_listings_count', 'neighbourhood', 'property_type', 'bed_type', 'instant_bookable', \n",
        "                   'cancellation_policy', 'calendar_updated', 'host_response_time', 'cleaning_fee', 'name', 'summary', 'neighborhood_overview',\n",
        "                   'notes', 'transit', 'access', 'interaction', 'house_rules', 'accommodates', 'bathrooms', 'bedrooms', 'beds', \n",
        "                   'availability_90', 'number_of_reviews', 'review_scores_accuracy', 'review_scores_cleanliness', 'review_scores_checkin', \n",
        "                   'review_scores_communication', 'review_scores_location', 'review_scores_value', 'host_response_rate', 'amenities',\n",
        "                   'availability_30', 'availability_60', 'availability_365', 'number_of_reviews_ltm', 'first_review', 'last_review', \n",
        "                   'reviews_per_month'\n",
        "                  ]\n",
        "\n",
        "airbnb = all_data.drop(columns_to_drop, axis=1)"
      ],
      "execution_count": null,
      "outputs": []
    },
    {
      "cell_type": "code",
      "metadata": {
        "id": "iHlIvixmcIq4",
        "colab_type": "code",
        "colab": {}
      },
      "source": [
        "target = 'price'\n",
        "\n",
        "one_hot_encode_features = ['room_type']\n",
        "\n",
        "price_features = ['security_deposit', 'extra_people'] \n",
        "\n",
        "text_cols = ['space', 'description']\n",
        "\n",
        "features = ['guests_included', 'minimum_nights', 'maximum_nights', 'review_scores_rating']\n",
        "\n",
        "all_features = one_hot_encode_features + price_features + text_cols + features"
      ],
      "execution_count": null,
      "outputs": []
    },
    {
      "cell_type": "code",
      "metadata": {
        "id": "_C-rERHKcIq7",
        "colab_type": "code",
        "colab": {},
        "outputId": "457c3956-8235-4576-c7a3-d2abae95156a"
      },
      "source": [
        "print(airbnb.shape)\n",
        "airbnb.head(3)"
      ],
      "execution_count": null,
      "outputs": [
        {
          "output_type": "stream",
          "text": [
            "(209031, 12)\n"
          ],
          "name": "stdout"
        },
        {
          "output_type": "execute_result",
          "data": {
            "text/html": [
              "<div>\n",
              "<style scoped>\n",
              "    .dataframe tbody tr th:only-of-type {\n",
              "        vertical-align: middle;\n",
              "    }\n",
              "\n",
              "    .dataframe tbody tr th {\n",
              "        vertical-align: top;\n",
              "    }\n",
              "\n",
              "    .dataframe thead th {\n",
              "        text-align: right;\n",
              "    }\n",
              "</style>\n",
              "<table border=\"1\" class=\"dataframe\">\n",
              "  <thead>\n",
              "    <tr style=\"text-align: right;\">\n",
              "      <th></th>\n",
              "      <th>space</th>\n",
              "      <th>description</th>\n",
              "      <th>city</th>\n",
              "      <th>state</th>\n",
              "      <th>room_type</th>\n",
              "      <th>price</th>\n",
              "      <th>security_deposit</th>\n",
              "      <th>guests_included</th>\n",
              "      <th>extra_people</th>\n",
              "      <th>minimum_nights</th>\n",
              "      <th>maximum_nights</th>\n",
              "      <th>review_scores_rating</th>\n",
              "    </tr>\n",
              "  </thead>\n",
              "  <tbody>\n",
              "    <tr>\n",
              "      <th>0</th>\n",
              "      <td>Vaulted ceilings, gleaming hardwood floors, ne...</td>\n",
              "      <td>2 king Beds  3 Queen Beds   additional bed can...</td>\n",
              "      <td>Los Angeles</td>\n",
              "      <td>CA</td>\n",
              "      <td>Entire home/apt</td>\n",
              "      <td>$900.00</td>\n",
              "      <td>$2,500.00</td>\n",
              "      <td>8</td>\n",
              "      <td>$75.00</td>\n",
              "      <td>3</td>\n",
              "      <td>1125</td>\n",
              "      <td>NaN</td>\n",
              "    </tr>\n",
              "    <tr>\n",
              "      <th>1</th>\n",
              "      <td>I like to call my place \"the penthouse\". It's ...</td>\n",
              "      <td>I like to think of my place as a cozy escape. ...</td>\n",
              "      <td>Brooklyn</td>\n",
              "      <td>NY</td>\n",
              "      <td>Entire home/apt</td>\n",
              "      <td>$87.00</td>\n",
              "      <td>$0.00</td>\n",
              "      <td>1</td>\n",
              "      <td>$0.00</td>\n",
              "      <td>4</td>\n",
              "      <td>1125</td>\n",
              "      <td>100.0</td>\n",
              "    </tr>\n",
              "    <tr>\n",
              "      <th>2</th>\n",
              "      <td>This room is one of two  bedrooms open to book...</td>\n",
              "      <td>Gorgeous, spacious, clean &amp; cozy bedroom in th...</td>\n",
              "      <td>New York</td>\n",
              "      <td>NY</td>\n",
              "      <td>Private room</td>\n",
              "      <td>$100.00</td>\n",
              "      <td>$0.00</td>\n",
              "      <td>1</td>\n",
              "      <td>$25.00</td>\n",
              "      <td>2</td>\n",
              "      <td>25</td>\n",
              "      <td>96.0</td>\n",
              "    </tr>\n",
              "  </tbody>\n",
              "</table>\n",
              "</div>"
            ],
            "text/plain": [
              "                                               space  \\\n",
              "0  Vaulted ceilings, gleaming hardwood floors, ne...   \n",
              "1  I like to call my place \"the penthouse\". It's ...   \n",
              "2  This room is one of two  bedrooms open to book...   \n",
              "\n",
              "                                         description         city state  \\\n",
              "0  2 king Beds  3 Queen Beds   additional bed can...  Los Angeles    CA   \n",
              "1  I like to think of my place as a cozy escape. ...     Brooklyn    NY   \n",
              "2  Gorgeous, spacious, clean & cozy bedroom in th...     New York    NY   \n",
              "\n",
              "         room_type    price security_deposit  guests_included extra_people  \\\n",
              "0  Entire home/apt  $900.00        $2,500.00                8       $75.00   \n",
              "1  Entire home/apt   $87.00            $0.00                1        $0.00   \n",
              "2     Private room  $100.00            $0.00                1       $25.00   \n",
              "\n",
              "   minimum_nights  maximum_nights  review_scores_rating  \n",
              "0               3            1125                   NaN  \n",
              "1               4            1125                 100.0  \n",
              "2               2              25                  96.0  "
            ]
          },
          "metadata": {
            "tags": []
          },
          "execution_count": 101
        }
      ]
    },
    {
      "cell_type": "code",
      "metadata": {
        "id": "Z6LdBvPJcIq9",
        "colab_type": "code",
        "colab": {},
        "outputId": "02508be5-9768-48b9-b3a6-fbb2835bafdd"
      },
      "source": [
        "airbnb.dtypes"
      ],
      "execution_count": null,
      "outputs": [
        {
          "output_type": "execute_result",
          "data": {
            "text/plain": [
              "space                    object\n",
              "description              object\n",
              "city                     object\n",
              "state                    object\n",
              "room_type                object\n",
              "price                    object\n",
              "security_deposit         object\n",
              "guests_included           int64\n",
              "extra_people             object\n",
              "minimum_nights            int64\n",
              "maximum_nights            int64\n",
              "review_scores_rating    float64\n",
              "dtype: object"
            ]
          },
          "metadata": {
            "tags": []
          },
          "execution_count": 102
        }
      ]
    },
    {
      "cell_type": "code",
      "metadata": {
        "id": "OpB1YVX5cIrA",
        "colab_type": "code",
        "colab": {},
        "outputId": "c89ef5fd-14ac-48c4-cb5b-bc0cf2a21203"
      },
      "source": [
        "airbnb.isna().sum()"
      ],
      "execution_count": null,
      "outputs": [
        {
          "output_type": "execute_result",
          "data": {
            "text/plain": [
              "space                   47030\n",
              "description              4412\n",
              "city                      159\n",
              "state                      59\n",
              "room_type                   0\n",
              "price                       0\n",
              "security_deposit        51757\n",
              "guests_included             0\n",
              "extra_people                0\n",
              "minimum_nights              0\n",
              "maximum_nights              0\n",
              "review_scores_rating    45447\n",
              "dtype: int64"
            ]
          },
          "metadata": {
            "tags": []
          },
          "execution_count": 103
        }
      ]
    },
    {
      "cell_type": "code",
      "metadata": {
        "id": "txCyrM4ocIrD",
        "colab_type": "code",
        "colab": {}
      },
      "source": [
        "airbnb['security_deposit'].fillna(0, inplace=True)"
      ],
      "execution_count": null,
      "outputs": []
    },
    {
      "cell_type": "code",
      "metadata": {
        "id": "9Js2osvmcIrG",
        "colab_type": "code",
        "colab": {}
      },
      "source": [
        "# Removing the $ sign from a string and converting to an integer\n",
        "\n",
        "cols = ['security_deposit', 'extra_people','price']\n",
        "\n",
        "airbnb[cols] = airbnb[cols].replace({'\\$': '', ',': ''}, regex=True)"
      ],
      "execution_count": null,
      "outputs": []
    },
    {
      "cell_type": "code",
      "metadata": {
        "id": "oXkMKCylcIrJ",
        "colab_type": "code",
        "colab": {}
      },
      "source": [
        "airbnb['security_deposit'] = airbnb['security_deposit'].astype('Float64')\n",
        "airbnb['extra_people'] = airbnb['extra_people'].astype('Float64')\n",
        "airbnb['price'] = airbnb['price'].astype('Float64')"
      ],
      "execution_count": null,
      "outputs": []
    },
    {
      "cell_type": "code",
      "metadata": {
        "id": "Wn3hGpQ4cIrM",
        "colab_type": "code",
        "colab": {},
        "outputId": "918091d0-06fb-43fc-cf07-3ccf374d685b"
      },
      "source": [
        "airbnb.dtypes"
      ],
      "execution_count": null,
      "outputs": [
        {
          "output_type": "execute_result",
          "data": {
            "text/plain": [
              "space                    object\n",
              "description              object\n",
              "city                     object\n",
              "state                    object\n",
              "room_type                object\n",
              "price                   float64\n",
              "security_deposit        float64\n",
              "guests_included           int64\n",
              "extra_people            float64\n",
              "minimum_nights            int64\n",
              "maximum_nights            int64\n",
              "review_scores_rating    float64\n",
              "dtype: object"
            ]
          },
          "metadata": {
            "tags": []
          },
          "execution_count": 107
        }
      ]
    },
    {
      "cell_type": "code",
      "metadata": {
        "id": "qpVfYzSNcIrO",
        "colab_type": "code",
        "colab": {},
        "outputId": "82d55d56-c775-408b-ae9a-cabf5d71b467"
      },
      "source": [
        "airbnb.isna().sum()"
      ],
      "execution_count": null,
      "outputs": [
        {
          "output_type": "execute_result",
          "data": {
            "text/plain": [
              "space                   47030\n",
              "description              4412\n",
              "city                      159\n",
              "state                      59\n",
              "room_type                   0\n",
              "price                       0\n",
              "security_deposit            0\n",
              "guests_included             0\n",
              "extra_people                0\n",
              "minimum_nights              0\n",
              "maximum_nights              0\n",
              "review_scores_rating    45447\n",
              "dtype: int64"
            ]
          },
          "metadata": {
            "tags": []
          },
          "execution_count": 108
        }
      ]
    },
    {
      "cell_type": "code",
      "metadata": {
        "id": "3dPBVEnccIrR",
        "colab_type": "code",
        "colab": {}
      },
      "source": [
        "airbnb.dropna(inplace=True)"
      ],
      "execution_count": null,
      "outputs": []
    },
    {
      "cell_type": "code",
      "metadata": {
        "id": "T0p6BC7ocIrT",
        "colab_type": "code",
        "colab": {},
        "outputId": "a1db6b40-4568-4386-eae8-4e0551860537"
      },
      "source": [
        "airbnb.shape"
      ],
      "execution_count": null,
      "outputs": [
        {
          "output_type": "execute_result",
          "data": {
            "text/plain": [
              "(133961, 12)"
            ]
          },
          "metadata": {
            "tags": []
          },
          "execution_count": 110
        }
      ]
    },
    {
      "cell_type": "code",
      "metadata": {
        "id": "ByvlhTbzcIrV",
        "colab_type": "code",
        "colab": {},
        "outputId": "79a8e01c-865c-4e64-a89a-bc3fbdaca416"
      },
      "source": [
        "airbnb['state'].value_counts()"
      ],
      "execution_count": null,
      "outputs": [
        {
          "output_type": "execute_result",
          "data": {
            "text/plain": [
              "CA               45183\n",
              "NY               27586\n",
              "HI               15241\n",
              "TX                6521\n",
              "LA                5382\n",
              "DC                5381\n",
              "IL                5380\n",
              "TN                5218\n",
              "WA                4896\n",
              "OR                3418\n",
              "MN                3133\n",
              "CO                3121\n",
              "MA                2282\n",
              "OH                1063\n",
              "WI                  69\n",
              "Hi                  20\n",
              "Ca                  18\n",
              "MD                   8\n",
              "ca                   7\n",
              "Ny                   7\n",
              "La                   3\n",
              "Il                   3\n",
              "                     2\n",
              "Tx                   2\n",
              "California           1\n",
              "Manhattan            1\n",
              "Tn                   1\n",
              "MP                   1\n",
              "US                   1\n",
              "VA                   1\n",
              "Beverly Hills        1\n",
              "Allston, Ma          1\n",
              "加州                   1\n",
              "Co                   1\n",
              "Tennessee            1\n",
              "Hi                   1\n",
              "Wa                   1\n",
              "Hawaii               1\n",
              "NJ                   1\n",
              "加利福尼亚                1\n",
              "California           1\n",
              "Name: state, dtype: int64"
            ]
          },
          "metadata": {
            "tags": []
          },
          "execution_count": 111
        }
      ]
    },
    {
      "cell_type": "code",
      "metadata": {
        "id": "coThXZdAcIrb",
        "colab_type": "code",
        "colab": {}
      },
      "source": [
        "airbnb['state'] = airbnb['state'].str.upper()"
      ],
      "execution_count": null,
      "outputs": []
    },
    {
      "cell_type": "code",
      "metadata": {
        "id": "6Ppv82LMcIrd",
        "colab_type": "code",
        "colab": {}
      },
      "source": [
        "filter_space = airbnb['state'] != ' '\n",
        "airbnb = airbnb[filter_space]"
      ],
      "execution_count": null,
      "outputs": []
    },
    {
      "cell_type": "code",
      "metadata": {
        "id": "7LQUVV81cIrf",
        "colab_type": "code",
        "colab": {}
      },
      "source": [
        "value_counts = airbnb['state'].value_counts()\n",
        "\n",
        "to_remove = value_counts[value_counts <= 1].index\n",
        "\n",
        "# Keep rows where the city column is not in to_remove\n",
        "airbnb = airbnb[~airbnb.state.isin(to_remove)]"
      ],
      "execution_count": null,
      "outputs": []
    },
    {
      "cell_type": "code",
      "metadata": {
        "id": "Eh2uf1P9cIri",
        "colab_type": "code",
        "colab": {},
        "outputId": "f8522e74-701c-43e5-a1c7-942ba9a422ba"
      },
      "source": [
        "airbnb['state'].value_counts()"
      ],
      "execution_count": null,
      "outputs": [
        {
          "output_type": "execute_result",
          "data": {
            "text/plain": [
              "CA    45208\n",
              "NY    27593\n",
              "HI    15261\n",
              "TX     6523\n",
              "LA     5385\n",
              "IL     5383\n",
              "DC     5381\n",
              "TN     5219\n",
              "WA     4897\n",
              "OR     3418\n",
              "MN     3133\n",
              "CO     3122\n",
              "MA     2282\n",
              "OH     1063\n",
              "WI       69\n",
              "MD        8\n",
              "Name: state, dtype: int64"
            ]
          },
          "metadata": {
            "tags": []
          },
          "execution_count": 115
        }
      ]
    },
    {
      "cell_type": "code",
      "metadata": {
        "id": "mXI3OOfGcIrk",
        "colab_type": "code",
        "colab": {},
        "outputId": "b237fc02-f3ae-46c7-983e-ff016c87b86b"
      },
      "source": [
        "airbnb['city'].value_counts().count()"
      ],
      "execution_count": null,
      "outputs": [
        {
          "output_type": "execute_result",
          "data": {
            "text/plain": [
              "1186"
            ]
          },
          "metadata": {
            "tags": []
          },
          "execution_count": 116
        }
      ]
    },
    {
      "cell_type": "code",
      "metadata": {
        "id": "qyMBKIAhcIrn",
        "colab_type": "code",
        "colab": {}
      },
      "source": [
        "airbnb['city'] = airbnb['city'].str.upper()"
      ],
      "execution_count": null,
      "outputs": []
    },
    {
      "cell_type": "code",
      "metadata": {
        "id": "GLvL9V39cIrq",
        "colab_type": "code",
        "colab": {},
        "outputId": "036c6977-29a7-460c-abb5-d83d6e604d63"
      },
      "source": [
        "airbnb['city'].value_counts().count()"
      ],
      "execution_count": null,
      "outputs": [
        {
          "output_type": "execute_result",
          "data": {
            "text/plain": [
              "1077"
            ]
          },
          "metadata": {
            "tags": []
          },
          "execution_count": 118
        }
      ]
    },
    {
      "cell_type": "code",
      "metadata": {
        "id": "ZY1tx1-CcIrt",
        "colab_type": "code",
        "colab": {},
        "outputId": "655ed0ac-6e47-4f8c-d1bc-6535f854f2a5"
      },
      "source": [
        "airbnb.isna().sum()"
      ],
      "execution_count": null,
      "outputs": [
        {
          "output_type": "execute_result",
          "data": {
            "text/plain": [
              "space                   0\n",
              "description             0\n",
              "city                    0\n",
              "state                   0\n",
              "room_type               0\n",
              "price                   0\n",
              "security_deposit        0\n",
              "guests_included         0\n",
              "extra_people            0\n",
              "minimum_nights          0\n",
              "maximum_nights          0\n",
              "review_scores_rating    0\n",
              "dtype: int64"
            ]
          },
          "metadata": {
            "tags": []
          },
          "execution_count": 119
        }
      ]
    },
    {
      "cell_type": "code",
      "metadata": {
        "id": "1dJrrYyZcIrw",
        "colab_type": "code",
        "colab": {},
        "outputId": "dfbad5f7-c915-4f59-dd58-46dff5c57198"
      },
      "source": [
        "airbnb.describe()"
      ],
      "execution_count": null,
      "outputs": [
        {
          "output_type": "execute_result",
          "data": {
            "text/html": [
              "<div>\n",
              "<style scoped>\n",
              "    .dataframe tbody tr th:only-of-type {\n",
              "        vertical-align: middle;\n",
              "    }\n",
              "\n",
              "    .dataframe tbody tr th {\n",
              "        vertical-align: top;\n",
              "    }\n",
              "\n",
              "    .dataframe thead th {\n",
              "        text-align: right;\n",
              "    }\n",
              "</style>\n",
              "<table border=\"1\" class=\"dataframe\">\n",
              "  <thead>\n",
              "    <tr style=\"text-align: right;\">\n",
              "      <th></th>\n",
              "      <th>price</th>\n",
              "      <th>security_deposit</th>\n",
              "      <th>guests_included</th>\n",
              "      <th>extra_people</th>\n",
              "      <th>minimum_nights</th>\n",
              "      <th>maximum_nights</th>\n",
              "      <th>review_scores_rating</th>\n",
              "    </tr>\n",
              "  </thead>\n",
              "  <tbody>\n",
              "    <tr>\n",
              "      <th>count</th>\n",
              "      <td>133945.000000</td>\n",
              "      <td>133945.000000</td>\n",
              "      <td>133945.000000</td>\n",
              "      <td>133945.000000</td>\n",
              "      <td>1.339450e+05</td>\n",
              "      <td>1.339450e+05</td>\n",
              "      <td>133945.000000</td>\n",
              "    </tr>\n",
              "    <tr>\n",
              "      <th>mean</th>\n",
              "      <td>215.441420</td>\n",
              "      <td>242.350860</td>\n",
              "      <td>2.138139</td>\n",
              "      <td>15.099123</td>\n",
              "      <td>7.546295e+02</td>\n",
              "      <td>3.430161e+04</td>\n",
              "      <td>95.218254</td>\n",
              "    </tr>\n",
              "    <tr>\n",
              "      <th>std</th>\n",
              "      <td>605.380655</td>\n",
              "      <td>497.337962</td>\n",
              "      <td>1.955282</td>\n",
              "      <td>25.891529</td>\n",
              "      <td>2.732352e+05</td>\n",
              "      <td>8.307288e+06</td>\n",
              "      <td>7.305016</td>\n",
              "    </tr>\n",
              "    <tr>\n",
              "      <th>min</th>\n",
              "      <td>0.000000</td>\n",
              "      <td>0.000000</td>\n",
              "      <td>1.000000</td>\n",
              "      <td>0.000000</td>\n",
              "      <td>1.000000e+00</td>\n",
              "      <td>1.000000e+00</td>\n",
              "      <td>20.000000</td>\n",
              "    </tr>\n",
              "    <tr>\n",
              "      <th>25%</th>\n",
              "      <td>77.000000</td>\n",
              "      <td>0.000000</td>\n",
              "      <td>1.000000</td>\n",
              "      <td>0.000000</td>\n",
              "      <td>1.000000e+00</td>\n",
              "      <td>3.000000e+01</td>\n",
              "      <td>94.000000</td>\n",
              "    </tr>\n",
              "    <tr>\n",
              "      <th>50%</th>\n",
              "      <td>120.000000</td>\n",
              "      <td>100.000000</td>\n",
              "      <td>1.000000</td>\n",
              "      <td>6.000000</td>\n",
              "      <td>2.000000e+00</td>\n",
              "      <td>3.650000e+02</td>\n",
              "      <td>97.000000</td>\n",
              "    </tr>\n",
              "    <tr>\n",
              "      <th>75%</th>\n",
              "      <td>200.000000</td>\n",
              "      <td>300.000000</td>\n",
              "      <td>2.000000</td>\n",
              "      <td>25.000000</td>\n",
              "      <td>4.000000e+00</td>\n",
              "      <td>1.125000e+03</td>\n",
              "      <td>100.000000</td>\n",
              "    </tr>\n",
              "    <tr>\n",
              "      <th>max</th>\n",
              "      <td>24999.000000</td>\n",
              "      <td>5100.000000</td>\n",
              "      <td>36.000000</td>\n",
              "      <td>300.000000</td>\n",
              "      <td>1.000000e+08</td>\n",
              "      <td>2.147484e+09</td>\n",
              "      <td>100.000000</td>\n",
              "    </tr>\n",
              "  </tbody>\n",
              "</table>\n",
              "</div>"
            ],
            "text/plain": [
              "               price  security_deposit  guests_included   extra_people  \\\n",
              "count  133945.000000     133945.000000    133945.000000  133945.000000   \n",
              "mean      215.441420        242.350860         2.138139      15.099123   \n",
              "std       605.380655        497.337962         1.955282      25.891529   \n",
              "min         0.000000          0.000000         1.000000       0.000000   \n",
              "25%        77.000000          0.000000         1.000000       0.000000   \n",
              "50%       120.000000        100.000000         1.000000       6.000000   \n",
              "75%       200.000000        300.000000         2.000000      25.000000   \n",
              "max     24999.000000       5100.000000        36.000000     300.000000   \n",
              "\n",
              "       minimum_nights  maximum_nights  review_scores_rating  \n",
              "count    1.339450e+05    1.339450e+05         133945.000000  \n",
              "mean     7.546295e+02    3.430161e+04             95.218254  \n",
              "std      2.732352e+05    8.307288e+06              7.305016  \n",
              "min      1.000000e+00    1.000000e+00             20.000000  \n",
              "25%      1.000000e+00    3.000000e+01             94.000000  \n",
              "50%      2.000000e+00    3.650000e+02             97.000000  \n",
              "75%      4.000000e+00    1.125000e+03            100.000000  \n",
              "max      1.000000e+08    2.147484e+09            100.000000  "
            ]
          },
          "metadata": {
            "tags": []
          },
          "execution_count": 120
        }
      ]
    },
    {
      "cell_type": "code",
      "metadata": {
        "id": "HQjroLyVcIry",
        "colab_type": "code",
        "colab": {},
        "outputId": "a7c96500-01f5-44d2-96b7-ab2711bdec44"
      },
      "source": [
        "airbnb.describe(exclude='number')"
      ],
      "execution_count": null,
      "outputs": [
        {
          "output_type": "execute_result",
          "data": {
            "text/html": [
              "<div>\n",
              "<style scoped>\n",
              "    .dataframe tbody tr th:only-of-type {\n",
              "        vertical-align: middle;\n",
              "    }\n",
              "\n",
              "    .dataframe tbody tr th {\n",
              "        vertical-align: top;\n",
              "    }\n",
              "\n",
              "    .dataframe thead th {\n",
              "        text-align: right;\n",
              "    }\n",
              "</style>\n",
              "<table border=\"1\" class=\"dataframe\">\n",
              "  <thead>\n",
              "    <tr style=\"text-align: right;\">\n",
              "      <th></th>\n",
              "      <th>space</th>\n",
              "      <th>description</th>\n",
              "      <th>city</th>\n",
              "      <th>state</th>\n",
              "      <th>room_type</th>\n",
              "    </tr>\n",
              "  </thead>\n",
              "  <tbody>\n",
              "    <tr>\n",
              "      <th>count</th>\n",
              "      <td>133945</td>\n",
              "      <td>133945</td>\n",
              "      <td>133945</td>\n",
              "      <td>133945</td>\n",
              "      <td>133945</td>\n",
              "    </tr>\n",
              "    <tr>\n",
              "      <th>unique</th>\n",
              "      <td>122783</td>\n",
              "      <td>128443</td>\n",
              "      <td>1077</td>\n",
              "      <td>16</td>\n",
              "      <td>4</td>\n",
              "    </tr>\n",
              "    <tr>\n",
              "      <th>top</th>\n",
              "      <td>At Zeus, we focus exclusively on 30 day+ stays...</td>\n",
              "      <td>Whether you're traveling or staying locally, w...</td>\n",
              "      <td>LOS ANGELES</td>\n",
              "      <td>CA</td>\n",
              "      <td>Entire home/apt</td>\n",
              "    </tr>\n",
              "    <tr>\n",
              "      <th>freq</th>\n",
              "      <td>647</td>\n",
              "      <td>185</td>\n",
              "      <td>11832</td>\n",
              "      <td>45208</td>\n",
              "      <td>93067</td>\n",
              "    </tr>\n",
              "  </tbody>\n",
              "</table>\n",
              "</div>"
            ],
            "text/plain": [
              "                                                    space  \\\n",
              "count                                              133945   \n",
              "unique                                             122783   \n",
              "top     At Zeus, we focus exclusively on 30 day+ stays...   \n",
              "freq                                                  647   \n",
              "\n",
              "                                              description         city  \\\n",
              "count                                              133945       133945   \n",
              "unique                                             128443         1077   \n",
              "top     Whether you're traveling or staying locally, w...  LOS ANGELES   \n",
              "freq                                                  185        11832   \n",
              "\n",
              "         state        room_type  \n",
              "count   133945           133945  \n",
              "unique      16                4  \n",
              "top         CA  Entire home/apt  \n",
              "freq     45208            93067  "
            ]
          },
          "metadata": {
            "tags": []
          },
          "execution_count": 121
        }
      ]
    },
    {
      "cell_type": "code",
      "metadata": {
        "id": "9kGZOiwecIr0",
        "colab_type": "code",
        "colab": {},
        "outputId": "68986a8d-6a30-4311-d040-c9e748a9a7fd"
      },
      "source": [
        "import matplotlib.pyplot as plt\n",
        "\n",
        "plt.scatter(airbnb['state'], airbnb['price'])\n",
        "plt.show()"
      ],
      "execution_count": null,
      "outputs": [
        {
          "output_type": "display_data",
          "data": {
            "image/png": "[encoded data removed]",
            "text/plain": [
              "<Figure size 432x288 with 1 Axes>"
            ]
          },
          "metadata": {
            "tags": [],
            "needs_background": "light"
          }
        }
      ]
    },
    {
      "cell_type": "code",
      "metadata": {
        "id": "lK93nVNNcIr4",
        "colab_type": "code",
        "colab": {}
      },
      "source": [
        "# remove price outlier\n",
        "filter_price = airbnb['price'] < 10000\n",
        "airbnb = airbnb[filter_price]"
      ],
      "execution_count": null,
      "outputs": []
    },
    {
      "cell_type": "code",
      "metadata": {
        "id": "KsIg278ycIr6",
        "colab_type": "code",
        "colab": {},
        "outputId": "ffc36528-9904-46e4-b6b1-5d1ec4dcdb96"
      },
      "source": [
        "plt.scatter(airbnb['state'], airbnb['price'])\n",
        "plt.show()"
      ],
      "execution_count": null,
      "outputs": [
        {
          "output_type": "display_data",
          "data": {
            "image/png": "[encoded data removed]",
            "text/plain": [
              "<Figure size 432x288 with 1 Axes>"
            ]
          },
          "metadata": {
            "tags": [],
            "needs_background": "light"
          }
        }
      ]
    },
    {
      "cell_type": "code",
      "metadata": {
        "id": "TBY0MTkEcIr8",
        "colab_type": "code",
        "colab": {},
        "outputId": "c0d7a142-fb5c-43e3-f612-95c1947f7a56"
      },
      "source": [
        "airbnb.describe()"
      ],
      "execution_count": null,
      "outputs": [
        {
          "output_type": "execute_result",
          "data": {
            "text/html": [
              "<div>\n",
              "<style scoped>\n",
              "    .dataframe tbody tr th:only-of-type {\n",
              "        vertical-align: middle;\n",
              "    }\n",
              "\n",
              "    .dataframe tbody tr th {\n",
              "        vertical-align: top;\n",
              "    }\n",
              "\n",
              "    .dataframe thead th {\n",
              "        text-align: right;\n",
              "    }\n",
              "</style>\n",
              "<table border=\"1\" class=\"dataframe\">\n",
              "  <thead>\n",
              "    <tr style=\"text-align: right;\">\n",
              "      <th></th>\n",
              "      <th>price</th>\n",
              "      <th>security_deposit</th>\n",
              "      <th>guests_included</th>\n",
              "      <th>extra_people</th>\n",
              "      <th>minimum_nights</th>\n",
              "      <th>maximum_nights</th>\n",
              "      <th>review_scores_rating</th>\n",
              "    </tr>\n",
              "  </thead>\n",
              "  <tbody>\n",
              "    <tr>\n",
              "      <th>count</th>\n",
              "      <td>133585.000000</td>\n",
              "      <td>133585.000000</td>\n",
              "      <td>133585.000000</td>\n",
              "      <td>133585.000000</td>\n",
              "      <td>1.335850e+05</td>\n",
              "      <td>1.335850e+05</td>\n",
              "      <td>133585.000000</td>\n",
              "    </tr>\n",
              "    <tr>\n",
              "      <th>mean</th>\n",
              "      <td>188.623760</td>\n",
              "      <td>242.414178</td>\n",
              "      <td>2.139761</td>\n",
              "      <td>15.124093</td>\n",
              "      <td>7.566434e+02</td>\n",
              "      <td>3.439128e+04</td>\n",
              "      <td>95.235019</td>\n",
              "    </tr>\n",
              "    <tr>\n",
              "      <th>std</th>\n",
              "      <td>305.323338</td>\n",
              "      <td>497.092634</td>\n",
              "      <td>1.955921</td>\n",
              "      <td>25.890935</td>\n",
              "      <td>2.736032e+05</td>\n",
              "      <td>8.318474e+06</td>\n",
              "      <td>7.276353</td>\n",
              "    </tr>\n",
              "    <tr>\n",
              "      <th>min</th>\n",
              "      <td>0.000000</td>\n",
              "      <td>0.000000</td>\n",
              "      <td>1.000000</td>\n",
              "      <td>0.000000</td>\n",
              "      <td>1.000000e+00</td>\n",
              "      <td>1.000000e+00</td>\n",
              "      <td>20.000000</td>\n",
              "    </tr>\n",
              "    <tr>\n",
              "      <th>25%</th>\n",
              "      <td>77.000000</td>\n",
              "      <td>0.000000</td>\n",
              "      <td>1.000000</td>\n",
              "      <td>0.000000</td>\n",
              "      <td>1.000000e+00</td>\n",
              "      <td>3.000000e+01</td>\n",
              "      <td>94.000000</td>\n",
              "    </tr>\n",
              "    <tr>\n",
              "      <th>50%</th>\n",
              "      <td>120.000000</td>\n",
              "      <td>100.000000</td>\n",
              "      <td>1.000000</td>\n",
              "      <td>7.000000</td>\n",
              "      <td>2.000000e+00</td>\n",
              "      <td>3.650000e+02</td>\n",
              "      <td>97.000000</td>\n",
              "    </tr>\n",
              "    <tr>\n",
              "      <th>75%</th>\n",
              "      <td>200.000000</td>\n",
              "      <td>300.000000</td>\n",
              "      <td>2.000000</td>\n",
              "      <td>25.000000</td>\n",
              "      <td>5.000000e+00</td>\n",
              "      <td>1.125000e+03</td>\n",
              "      <td>100.000000</td>\n",
              "    </tr>\n",
              "    <tr>\n",
              "      <th>max</th>\n",
              "      <td>9999.000000</td>\n",
              "      <td>5100.000000</td>\n",
              "      <td>36.000000</td>\n",
              "      <td>300.000000</td>\n",
              "      <td>1.000000e+08</td>\n",
              "      <td>2.147484e+09</td>\n",
              "      <td>100.000000</td>\n",
              "    </tr>\n",
              "  </tbody>\n",
              "</table>\n",
              "</div>"
            ],
            "text/plain": [
              "               price  security_deposit  guests_included   extra_people  \\\n",
              "count  133585.000000     133585.000000    133585.000000  133585.000000   \n",
              "mean      188.623760        242.414178         2.139761      15.124093   \n",
              "std       305.323338        497.092634         1.955921      25.890935   \n",
              "min         0.000000          0.000000         1.000000       0.000000   \n",
              "25%        77.000000          0.000000         1.000000       0.000000   \n",
              "50%       120.000000        100.000000         1.000000       7.000000   \n",
              "75%       200.000000        300.000000         2.000000      25.000000   \n",
              "max      9999.000000       5100.000000        36.000000     300.000000   \n",
              "\n",
              "       minimum_nights  maximum_nights  review_scores_rating  \n",
              "count    1.335850e+05    1.335850e+05         133585.000000  \n",
              "mean     7.566434e+02    3.439128e+04             95.235019  \n",
              "std      2.736032e+05    8.318474e+06              7.276353  \n",
              "min      1.000000e+00    1.000000e+00             20.000000  \n",
              "25%      1.000000e+00    3.000000e+01             94.000000  \n",
              "50%      2.000000e+00    3.650000e+02             97.000000  \n",
              "75%      5.000000e+00    1.125000e+03            100.000000  \n",
              "max      1.000000e+08    2.147484e+09            100.000000  "
            ]
          },
          "metadata": {
            "tags": []
          },
          "execution_count": 126
        }
      ]
    },
    {
      "cell_type": "markdown",
      "metadata": {
        "id": "Yd5BjLAQcIr_",
        "colab_type": "text"
      },
      "source": [
        "airbnb.to_csv('cleaned_airbnb.csv', index=False)"
      ]
    },
    {
      "cell_type": "code",
      "metadata": {
        "id": "diyUD9hkcIr_",
        "colab_type": "code",
        "colab": {}
      },
      "source": [
        ""
      ],
      "execution_count": null,
      "outputs": []
    }
  ]
}